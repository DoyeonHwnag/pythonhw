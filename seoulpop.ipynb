{
  "nbformat": 4,
  "nbformat_minor": 0,
  "metadata": {
    "colab": {
      "provenance": []
    },
    "kernelspec": {
      "name": "python3",
      "display_name": "Python 3"
    },
    "language_info": {
      "name": "python"
    }
  },
  "cells": [
    {
      "cell_type": "code",
      "execution_count": null,
      "metadata": {
        "colab": {
          "base_uri": "https://localhost:8080/"
        },
        "id": "UYCV2wDAvZo4",
        "outputId": "181b9814-fcc3-4f63-c18a-9689f681b293"
      },
      "outputs": [
        {
          "output_type": "stream",
          "name": "stdout",
          "text": [
            "Hello World\n",
            "Hello World\n"
          ]
        }
      ],
      "source": [
        "print('Hello World')\n",
        "print(\"Hello World\")"
      ]
    },
    {
      "cell_type": "code",
      "source": [
        "name = '철수'\n",
        "name = 5.45546\n",
        "print(name)\n",
        "\n",
        "n = \"영희\"\n",
        "print(n)"
      ],
      "metadata": {
        "colab": {
          "base_uri": "https://localhost:8080/"
        },
        "id": "ANVU_CtlwY8S",
        "outputId": "ac2a6a27-d8dd-416b-ad10-a7320f922ce0"
      },
      "execution_count": null,
      "outputs": [
        {
          "output_type": "stream",
          "name": "stdout",
          "text": [
            "5.45546\n",
            "영희\n"
          ]
        }
      ]
    },
    {
      "cell_type": "code",
      "source": [
        "score = 10\n",
        "\n",
        "print(score)"
      ],
      "metadata": {
        "colab": {
          "base_uri": "https://localhost:8080/"
        },
        "id": "2MNOkln-yRp1",
        "outputId": "3bdb2683-b3a6-449a-a64b-9d46f6076d11"
      },
      "execution_count": null,
      "outputs": [
        {
          "output_type": "stream",
          "name": "stdout",
          "text": [
            "10\n"
          ]
        }
      ]
    },
    {
      "cell_type": "code",
      "source": [
        "for = 'dddfd'\n",
        "2_name ='철수,영희'\n",
        "the dfm = 'dfds'\n",
        "1261 = '12312312'\n",
        "print(1261)\n"
      ],
      "metadata": {
        "colab": {
          "base_uri": "https://localhost:8080/",
          "height": 106
        },
        "id": "pf3RPstZ0JtE",
        "outputId": "36b1891b-f976-4f70-c1c9-2efb6a20e0fa"
      },
      "execution_count": null,
      "outputs": [
        {
          "output_type": "error",
          "ename": "SyntaxError",
          "evalue": "cannot assign to literal here. Maybe you meant '==' instead of '='? (<ipython-input-41-c0f97fd99bcc>, line 1)",
          "traceback": [
            "\u001b[0;36m  File \u001b[0;32m\"<ipython-input-41-c0f97fd99bcc>\"\u001b[0;36m, line \u001b[0;32m1\u001b[0m\n\u001b[0;31m    1261 = '12312312'\u001b[0m\n\u001b[0m    ^\u001b[0m\n\u001b[0;31mSyntaxError\u001b[0m\u001b[0;31m:\u001b[0m cannot assign to literal here. Maybe you meant '==' instead of '='?\n"
          ]
        }
      ]
    },
    {
      "cell_type": "code",
      "source": [
        "fatherName = '황의릉'\n",
        "friendAge = '25'\n",
        "academyName = '어학원'"
      ],
      "metadata": {
        "id": "_QqU6-ph2L5v"
      },
      "execution_count": null,
      "outputs": []
    },
    {
      "cell_type": "markdown",
      "source": [
        "위가 주로 쓰는 변수지정"
      ],
      "metadata": {
        "id": "lJ7OBmuW4vF_"
      }
    },
    {
      "cell_type": "code",
      "source": [
        "PI = 3.141592 # 파이\n",
        "GRAVITY = 9.8 # 중력 상수\n",
        "c = 299792458 # 빛의 속도\n",
        "NAME = '황도연' # 이름\n",
        "HOUR = 60 # 1시간\n",
        "HYDROGENATOMICNUMBER = 1 #수소의 원소번호"
      ],
      "metadata": {
        "id": "iTA9HQbg4eUf"
      },
      "execution_count": null,
      "outputs": []
    },
    {
      "cell_type": "code",
      "source": [
        "a = 72\n",
        "b = 9\n",
        "print('덧셈 결과' , a + b)\n",
        "print('뺄셈 결과' , a - b)\n",
        "print('곱셈 결과' , a * b)\n",
        "print('나눗셈 결과' , a / b)\n",
        "print('나눗셈 정수 몫' , a // b)\n",
        "print('나눗셈 나머지' , a % b)\n",
        "print('거듭제곱 결과' , a ** b)"
      ],
      "metadata": {
        "colab": {
          "base_uri": "https://localhost:8080/"
        },
        "id": "y2vkmjlQUs-c",
        "outputId": "7e0f8aa0-d3b2-402f-ee82-6ff264ab8480"
      },
      "execution_count": null,
      "outputs": [
        {
          "output_type": "stream",
          "name": "stdout",
          "text": [
            "덧셈 결과 81\n",
            "뺄셈 결과 63\n",
            "곱셈 결과 648\n",
            "나눗셈 결과 8.0\n",
            "나눗셈 정수 몫 8\n",
            "나눗셈 나머지 0\n",
            "거듭제곱 결과 51998697814228992\n"
          ]
        }
      ]
    },
    {
      "cell_type": "code",
      "source": [
        "a = 32\n",
        "b = 2\n",
        "print(a ** b)\n",
        "c = 27.0\n",
        "d = 3.0\n",
        "print(c / d)\n",
        "print(int (c // d))\n",
        "e = 324\n",
        "f = 7\n",
        "print(e % f)\n",
        "\n"
      ],
      "metadata": {
        "colab": {
          "base_uri": "https://localhost:8080/"
        },
        "id": "DZjP8vJFXZ6B",
        "outputId": "119de4f8-f01d-4238-e834-d9406aeec16f"
      },
      "execution_count": null,
      "outputs": [
        {
          "output_type": "stream",
          "name": "stdout",
          "text": [
            "1024\n",
            "9.0\n",
            "9\n",
            "2\n"
          ]
        }
      ]
    },
    {
      "cell_type": "code",
      "source": [
        "a = 3.66\n",
        "b = 3.17\n",
        "c = 4.22\n",
        "d = 4.21\n",
        "avg = (a + b + c + d)/4\n",
        "z = (a + c + d)/3\n",
        "\n",
        "print(round(avg , 1))\n",
        "print(round(avg , 2))\n",
        "print(round(avg , 3))\n",
        "print(round(z , 1))\n",
        "print(round(z , 2))\n",
        "print(round(z , 3))"
      ],
      "metadata": {
        "colab": {
          "base_uri": "https://localhost:8080/"
        },
        "id": "hMx_Fo5dZ4Ol",
        "outputId": "1d9393b3-49c6-4400-d622-7519dd636bde"
      },
      "execution_count": null,
      "outputs": [
        {
          "output_type": "stream",
          "name": "stdout",
          "text": [
            "3.8\n",
            "3.82\n",
            "3.815\n",
            "4.0\n",
            "4.03\n",
            "4.03\n"
          ]
        }
      ]
    },
    {
      "cell_type": "code",
      "source": [
        "PI = 3.141592\n",
        "r = 3\n",
        "S = PI * r ** 2\n",
        "L = 2 * PI * r\n",
        "\n",
        "print(S)\n",
        "print(L)"
      ],
      "metadata": {
        "colab": {
          "base_uri": "https://localhost:8080/"
        },
        "id": "-LAnZ6eEcLQe",
        "outputId": "0926748e-0c8c-446b-b2ea-e4f0cd0d4222"
      },
      "execution_count": null,
      "outputs": [
        {
          "output_type": "stream",
          "name": "stdout",
          "text": [
            "28.274328\n",
            "18.849552000000003\n"
          ]
        }
      ]
    },
    {
      "cell_type": "code",
      "source": [
        "a = 11\n",
        "b = 4\n",
        "\n",
        "print(a > b)\n",
        "print(a >= b)\n",
        "print(a < b)\n",
        "print(a <= b)\n",
        "print(a == b)\n",
        "print(a != b)"
      ],
      "metadata": {
        "colab": {
          "base_uri": "https://localhost:8080/"
        },
        "id": "W2y7CBfIk_-g",
        "outputId": "093124b0-de22-477b-af6f-b246a62e9e0a"
      },
      "execution_count": null,
      "outputs": [
        {
          "output_type": "stream",
          "name": "stdout",
          "text": [
            "True\n",
            "True\n",
            "False\n",
            "False\n",
            "False\n",
            "True\n"
          ]
        }
      ]
    },
    {
      "cell_type": "code",
      "source": [
        "a = 7\n",
        "b = 7\n",
        "c = 6\n",
        "\n",
        "print((a == b) and (a >= c))\n",
        "print((a == b) and (a != c))\n",
        "print(a > b)\n",
        "print(a >= b)\n",
        "print(a < b)\n",
        "print(a <= b)\n",
        "print(a == b)\n",
        "print(a != b)"
      ],
      "metadata": {
        "colab": {
          "base_uri": "https://localhost:8080/"
        },
        "id": "GRligY36nWMH",
        "outputId": "1f098f89-3396-4855-c08e-26fa970efa62"
      },
      "execution_count": null,
      "outputs": [
        {
          "output_type": "stream",
          "name": "stdout",
          "text": [
            "True\n",
            "True\n",
            "False\n",
            "True\n",
            "False\n",
            "True\n",
            "True\n",
            "False\n"
          ]
        }
      ]
    },
    {
      "cell_type": "code",
      "source": [
        "a = True\n",
        "b = False\n",
        "print(a and b)\n",
        "print(a or b)\n",
        "print (a and not b)\n",
        "print (not a or not b)"
      ],
      "metadata": {
        "colab": {
          "base_uri": "https://localhost:8080/"
        },
        "id": "99UT8K9VppDc",
        "outputId": "6b11e909-3573-4f5d-f066-a9f77d37e48e"
      },
      "execution_count": null,
      "outputs": [
        {
          "output_type": "stream",
          "name": "stdout",
          "text": [
            "False\n",
            "True\n",
            "True\n",
            "True\n"
          ]
        }
      ]
    },
    {
      "cell_type": "code",
      "source": [
        "a = 3\n",
        "b = 7\n",
        "c = 6\n",
        "print (( a > b) or not(a > c))\n",
        "print (( a != b) or not(a == c))\n",
        "print (( a == b) or not(a == c))\n",
        "print (( a <= b) or not(a >= c))\n",
        "print (( a > b) or not(a > c))"
      ],
      "metadata": {
        "colab": {
          "base_uri": "https://localhost:8080/"
        },
        "id": "shMk1BRaqNwk",
        "outputId": "4ad4c535-b207-466d-e08f-54267ab6121a"
      },
      "execution_count": null,
      "outputs": [
        {
          "output_type": "stream",
          "name": "stdout",
          "text": [
            "True\n",
            "True\n",
            "True\n",
            "True\n",
            "True\n"
          ]
        }
      ]
    },
    {
      "cell_type": "code",
      "source": [
        "a = 3\n",
        "B = [1, 3, 5, 7, 9]\n",
        "print(a in B)\n",
        "print(a not in B)"
      ],
      "metadata": {
        "colab": {
          "base_uri": "https://localhost:8080/"
        },
        "id": "G-EMHoyRrzQF",
        "outputId": "f1e72a9a-9967-4766-ba43-3e1ef70d5a58"
      },
      "execution_count": null,
      "outputs": [
        {
          "output_type": "stream",
          "name": "stdout",
          "text": [
            "True\n",
            "False\n"
          ]
        }
      ]
    },
    {
      "cell_type": "code",
      "source": [
        "a = 6\n",
        "b = [1, 3, 5, 7, 9]\n",
        "check = False\n",
        "if a in b :\n",
        "  check = True\n",
        "  print('a is included in b')\n",
        "else:\n",
        "  check = False\n",
        "  print('a is not included in b')\n",
        "print(check)"
      ],
      "metadata": {
        "colab": {
          "base_uri": "https://localhost:8080/"
        },
        "id": "TZIPngR2w3GJ",
        "outputId": "1fd16804-6b0c-443a-fbeb-0a8f601e7d60"
      },
      "execution_count": null,
      "outputs": [
        {
          "output_type": "stream",
          "name": "stdout",
          "text": [
            "a is not included in b\n",
            "False\n"
          ]
        }
      ]
    },
    {
      "cell_type": "code",
      "source": [
        "PI = 3.141592\n",
        "radous = 6\n",
        "height = 6\n",
        "volume = PI * radous ** 2 * height\n",
        "surface = 2 * PI * radous * (radous + height)\n",
        "print(volume)\n",
        "print(surface)"
      ],
      "metadata": {
        "colab": {
          "base_uri": "https://localhost:8080/"
        },
        "id": "oiigbgYyzBRT",
        "outputId": "f5c1049b-727a-41d2-8262-65da125b7727"
      },
      "execution_count": null,
      "outputs": [
        {
          "output_type": "stream",
          "name": "stdout",
          "text": [
            "678.583872\n",
            "452.38924800000007\n"
          ]
        }
      ]
    },
    {
      "cell_type": "code",
      "source": [
        "PI = 3.14 # 파이 원주율\n",
        "r = 5.5 # 반지름\n",
        "S = PI * r ** 2 # 원의 넓이 구하는 공식 파이 곱하기 반지름의 제곱\n",
        "print(S)"
      ],
      "metadata": {
        "colab": {
          "base_uri": "https://localhost:8080/"
        },
        "id": "dMIjsMq2sgOP",
        "outputId": "a22a66d9-2fe1-4240-e4d1-5fc9174228f4"
      },
      "execution_count": null,
      "outputs": [
        {
          "output_type": "stream",
          "name": "stdout",
          "text": [
            "94.985\n"
          ]
        }
      ]
    },
    {
      "cell_type": "markdown",
      "source": [
        "상수 파이는 제시된 값 사용 제시된 반지름 값을 r로 지정 하고 원의 넓이 구하는 식 파이 곱하기 반지름의 제곱을 S값에 넣고 S값을 출력"
      ],
      "metadata": {
        "id": "Pgf8RXkL1w_F"
      }
    },
    {
      "cell_type": "code",
      "source": [
        "ABase = 10 # A의 밑변\n",
        "AHeight = 4 # A의 높이\n",
        "A = ABase * AHeight * 1/2 # 삼각형 넓이 구하는 공식 밑변 * 넓이 * 1/2\n",
        "BBase = 9 # B의 밑변\n",
        "BHeight = 5 # B의 높이\n",
        "B = BBase * BBase * 1/2 # 삼각형 넓이 구하는 공식 밑변 * 넓이 * 1/2\n",
        "print(A == B)"
      ],
      "metadata": {
        "colab": {
          "base_uri": "https://localhost:8080/"
        },
        "id": "d422TbHbsw6W",
        "outputId": "ab46cd22-3bf2-4783-b416-507bb891355c"
      },
      "execution_count": null,
      "outputs": [
        {
          "output_type": "stream",
          "name": "stdout",
          "text": [
            "False\n"
          ]
        }
      ]
    },
    {
      "cell_type": "code",
      "source": [],
      "metadata": {
        "id": "Q3pYuOO_FQWJ"
      },
      "execution_count": null,
      "outputs": []
    },
    {
      "cell_type": "markdown",
      "source": [
        "삼각형 각각 가로 곱하기 세로 곱하기 1/2 를하고 변수에 A와 B저장하고 관계 연산자를 통해 같은지 아닌지를 출력"
      ],
      "metadata": {
        "id": "qgvTHy2F0nPg"
      }
    },
    {
      "cell_type": "code",
      "source": [
        "avg = 92 # 평균점수\n",
        "kor = 95 # 국어점수\n",
        "mat = 88 # 수학점수\n",
        "eng = 90 # 영어점수\n",
        "sci = (4 * avg )- kor - mat - eng # 평균 값은 모든 과목의 점수 의 합 더하고 과목의 수 만큼 나눈 값 이므로\n",
        "                                # 여기선 4개의 과목이므로 4를 곱하고 나머지 값을 빼서\n",
        "                                 # 과학 점수를 구한다\n",
        "print(sci)"
      ],
      "metadata": {
        "colab": {
          "base_uri": "https://localhost:8080/"
        },
        "id": "T9xO6naztEkU",
        "outputId": "ce18e385-4475-4bfa-92bb-c2b8b4095368"
      },
      "execution_count": null,
      "outputs": [
        {
          "output_type": "stream",
          "name": "stdout",
          "text": [
            "95\n"
          ]
        }
      ]
    },
    {
      "cell_type": "markdown",
      "source": [
        "평균 값은 4 과목의 점수 의 합 더하고 4로 나눈 값 이므로 평균에 4를 곱하고 나머지 값을 빼서 과학 점수를 구한다"
      ],
      "metadata": {
        "id": "F7w-q-143BFg"
      }
    },
    {
      "cell_type": "code",
      "source": [
        "num = 452\n",
        "fistDigit = num // 100\n",
        "secondDigit = (num % 100) // 10\n",
        "thirdDigit = num % 10\n",
        "rnum = (100 * thirdDigit) + (10 * secondDigit) + fistDigit\n",
        "print(rnum)\n",
        "print(num+rnum)"
      ],
      "metadata": {
        "colab": {
          "base_uri": "https://localhost:8080/"
        },
        "id": "L3hZGW0InRC2",
        "outputId": "94e3a31d-58d9-4a91-f41d-a9436808fad1"
      },
      "execution_count": null,
      "outputs": [
        {
          "output_type": "stream",
          "name": "stdout",
          "text": [
            "254\n",
            "706\n"
          ]
        }
      ]
    },
    {
      "cell_type": "code",
      "source": [
        "a = 5\n",
        "if a < 5:\n",
        "  print('a is smaller than 5')\n",
        "elif a > 5:\n",
        "  print('a is larger than 5')\n",
        "else:\n",
        "  print('a is 5')"
      ],
      "metadata": {
        "colab": {
          "base_uri": "https://localhost:8080/"
        },
        "id": "jaBqsR9F4KDt",
        "outputId": "ddca9468-47d2-4ecf-a64a-4308301d4216"
      },
      "execution_count": null,
      "outputs": [
        {
          "output_type": "stream",
          "name": "stdout",
          "text": [
            "a is larger than 5\n"
          ]
        }
      ]
    },
    {
      "cell_type": "code",
      "source": [
        "a = 5\n",
        "\n",
        "if a == 5:\n",
        "  print('Right')\n",
        "  print('a is 5')\n",
        "if a == 3:\n",
        "  print('Right')\n",
        "  print('a is 3')\n",
        "if a != 3:\n",
        "  print('Right')\n",
        "  print('a is not 3')"
      ],
      "metadata": {
        "colab": {
          "base_uri": "https://localhost:8080/"
        },
        "id": "8QOYGab55n29",
        "outputId": "5196025b-315f-4c9b-9b17-d655f0f9992d"
      },
      "execution_count": null,
      "outputs": [
        {
          "output_type": "stream",
          "name": "stdout",
          "text": [
            "Right\n",
            "a is 5\n",
            "Right\n",
            "a is not 3\n"
          ]
        }
      ]
    },
    {
      "cell_type": "code",
      "source": [
        "a = 5\n",
        "if a == 5:\n",
        "  print('Right!')\n",
        "  print('a is 5')\n",
        "else :\n",
        "  print('a is not 5')\n",
        "a = 3\n",
        "if a == 5:\n",
        "  print('Right')\n",
        "  print('a is 5')\n",
        "else :\n",
        "  print('a is not 5')"
      ],
      "metadata": {
        "colab": {
          "base_uri": "https://localhost:8080/"
        },
        "id": "g9zz8CvZ4rWZ",
        "outputId": "05016c3e-143a-4bd2-cb3c-7ccbbcab02c5"
      },
      "execution_count": null,
      "outputs": [
        {
          "output_type": "stream",
          "name": "stdout",
          "text": [
            "Right!\n",
            "a is 5\n",
            "a is not 5\n"
          ]
        }
      ]
    },
    {
      "cell_type": "code",
      "source": [
        "a = 5\n",
        "for i in range(1,10):\n",
        "  print(str(a) + 'X' + str(i) + '=' +str(i*a))\n",
        "print('while 조건문을 for 조건문으로 바꾸어 사용할 수 있다!')"
      ],
      "metadata": {
        "colab": {
          "base_uri": "https://localhost:8080/"
        },
        "id": "N9VkWm0faSwp",
        "outputId": "ba384031-a435-46fd-9e1e-dbd6bdaac43c"
      },
      "execution_count": null,
      "outputs": [
        {
          "output_type": "stream",
          "name": "stdout",
          "text": [
            "5X1=5\n",
            "5X2=10\n",
            "5X3=15\n",
            "5X4=20\n",
            "5X5=25\n",
            "5X6=30\n",
            "5X7=35\n",
            "5X8=40\n",
            "5X9=45\n",
            "while 조건문을 for 조건문으로 바꾸어 사용할 수 있다!\n"
          ]
        }
      ]
    },
    {
      "cell_type": "code",
      "source": [
        "major = ['컴','컴','정','통','전','전','컴','컴','법','전','한','심','데']\n",
        "numberOfCom = major.count('컴')\n",
        "numberOfElec = major.count('전')\n",
        "if '컴' in major :\n",
        "  print(\"컴퓨터 관련 전공자가 {}명 있습니다\".format(numberOfCom))\n",
        "  print(\"컴퓨터 관련 전공자가\" + str(numberOfCom) + \"명 있습니다\" )\n",
        "  print(\"컴퓨터 관련 전공자가\",numberOfCom,\"명 있습니다\")\n",
        "if '전' in major:\n",
        "  print(\"전자관련전공자 {}명 있습니다\".format(major.count('전')))\n",
        "  print(\"전자 관련 전공자가\" + str(numberOfElec) + \"명 있습니다\" )\n",
        "\n",
        "major.append('도')\n",
        "print(major)\n",
        "print(\"우리반 학생은 총\",len(major),\"명 있습니다\")\n",
        "cnt = major.count('심') + major.count('법')\n",
        "print(\"심리학 전공자와 법학 전공자가 {}명 있습니다.\".format(cnt))\n",
        "print(\"심리학 전공자와 법학 전공자가\",cnt,\"명 있습니다.\")\n",
        "\n",
        "major.insert(13,'도')\n",
        "print(major)\n",
        "\n"
      ],
      "metadata": {
        "colab": {
          "base_uri": "https://localhost:8080/"
        },
        "id": "Of_72Pjj6ssk",
        "outputId": "c81750f7-34a2-4e87-f56b-b6d8f59e9313"
      },
      "execution_count": null,
      "outputs": [
        {
          "output_type": "stream",
          "name": "stdout",
          "text": [
            "컴퓨터 관련 전공자가 4명 있습니다\n",
            "컴퓨터 관련 전공자가4명 있습니다\n",
            "컴퓨터 관련 전공자가 4 명 있습니다\n",
            "전자관련전공자 3명 있습니다\n",
            "전자 관련 전공자가3명 있습니다\n",
            "['컴', '컴', '정', '통', '전', '전', '컴', '컴', '법', '전', '한', '심', '데', '도']\n",
            "우리반 학생은 총 14 명 있습니다\n",
            "심리학 전공자와 법학 전공자가 2명 있습니다.\n",
            "심리학 전공자와 법학 전공자가 2 명 있습니다.\n",
            "['컴', '컴', '정', '통', '전', '전', '컴', '컴', '법', '전', '한', '심', '데', '도', '도']\n",
            "['컴', '컴', '정', '통', '전', '전', '컴', '컴', '법', '전', '한', '심', '데', '도', '도', '도']\n"
          ]
        }
      ]
    },
    {
      "cell_type": "code",
      "source": [
        "print(\"-----------메뉴----------\")\n",
        "print(\"1. 콜라 1,000원\")\n",
        "print(\"2. 사이다 1,200원\")\n",
        "print(\"3. 오렌지 주스 1,500원\")\n",
        "print(\"4. 결제하기\")\n",
        "print(\"5. 종료\")\n",
        "print(\"-------------------------\")\n",
        "\n",
        "cokePrice = 1000\n",
        "ciderPrice = 1200\n",
        "orangePrice = 1500\n",
        "\n",
        "cokeCnt = 0\n",
        "ciderCnt = 0\n",
        "orangeCnt = 0\n",
        "\n",
        "while True:\n",
        "  drink = input()\n",
        "\n",
        "  if drink == 5 :\n",
        "    print(\"감사합니다 안녕히가세요\")\n",
        "    break\n",
        "  if drink == 4 :\n",
        "     totalPrice = (cokePrice * cokeCnt) + (ciderPrice * ciderCnt) + (orangePrice * orangeCnt)\n",
        "     if totalPrice == 0 :\n",
        "       print(\"장바구니가 비었습니다 메뉴를 선택하고 결제해주세요\")\n",
        "       continue\n",
        "       print(\"총 가격은\",totalPrice,\"원 입니다\")\n",
        "       money = input(\"얼마를 넣으시겠습니까?\")\n",
        "\n",
        "  cokeCnt = 0\n",
        "  ciderCnt = 0\n",
        "  orangeCnt = 0\n",
        "\n",
        "  if drink == 1 :\n",
        "    cokeCnt = cokeCnt + int (input(\"수량을 입력하세요 :\"))\n",
        "\n",
        "  elif drink == 2 :\n",
        "    ciderCnt = ciderCnt + int (input(\"수량을 입력하세요 :\"))\n",
        "\n",
        "  elif drink == 3 :\n",
        "    orangeCnt = orangeCnt + int (input(\"수량을 입력하세요 :\"))\n",
        "  else :\n",
        "    print(\"잘못된 입력 입니다.\")\n",
        "\n",
        "\n"
      ],
      "metadata": {
        "colab": {
          "base_uri": "https://localhost:8080/",
          "height": 512
        },
        "id": "558WZJ75_JeN",
        "outputId": "23c4cdfe-f070-4441-e2f8-a17cf0063d05"
      },
      "execution_count": null,
      "outputs": [
        {
          "output_type": "stream",
          "name": "stdout",
          "text": [
            "-----------메뉴----------\n",
            "1. 콜라 1,000원\n",
            "2. 사이다 1,200원\n",
            "3. 오렌지 주스 1,500원\n",
            "4. 결제하기\n",
            "5. 종료\n",
            "-------------------------\n",
            "4\n",
            "잘못된 입력 입니다.\n"
          ]
        },
        {
          "output_type": "error",
          "ename": "KeyboardInterrupt",
          "evalue": "Interrupted by user",
          "traceback": [
            "\u001b[0;31m---------------------------------------------------------------------------\u001b[0m",
            "\u001b[0;31mKeyboardInterrupt\u001b[0m                         Traceback (most recent call last)",
            "\u001b[0;32m<ipython-input-190-2878841133e1>\u001b[0m in \u001b[0;36m<cell line: 0>\u001b[0;34m()\u001b[0m\n\u001b[1;32m     16\u001b[0m \u001b[0;34m\u001b[0m\u001b[0m\n\u001b[1;32m     17\u001b[0m \u001b[0;32mwhile\u001b[0m \u001b[0;32mTrue\u001b[0m\u001b[0;34m:\u001b[0m\u001b[0;34m\u001b[0m\u001b[0;34m\u001b[0m\u001b[0m\n\u001b[0;32m---> 18\u001b[0;31m   \u001b[0mdrink\u001b[0m \u001b[0;34m=\u001b[0m \u001b[0minput\u001b[0m\u001b[0;34m(\u001b[0m\u001b[0;34m)\u001b[0m\u001b[0;34m\u001b[0m\u001b[0;34m\u001b[0m\u001b[0m\n\u001b[0m\u001b[1;32m     19\u001b[0m \u001b[0;34m\u001b[0m\u001b[0m\n\u001b[1;32m     20\u001b[0m   \u001b[0;32mif\u001b[0m \u001b[0mdrink\u001b[0m \u001b[0;34m==\u001b[0m \u001b[0;36m5\u001b[0m \u001b[0;34m:\u001b[0m\u001b[0;34m\u001b[0m\u001b[0;34m\u001b[0m\u001b[0m\n",
            "\u001b[0;32m/usr/local/lib/python3.11/dist-packages/ipykernel/kernelbase.py\u001b[0m in \u001b[0;36mraw_input\u001b[0;34m(self, prompt)\u001b[0m\n\u001b[1;32m    849\u001b[0m                 \u001b[0;34m\"raw_input was called, but this frontend does not support input requests.\"\u001b[0m\u001b[0;34m\u001b[0m\u001b[0;34m\u001b[0m\u001b[0m\n\u001b[1;32m    850\u001b[0m             )\n\u001b[0;32m--> 851\u001b[0;31m         return self._input_request(str(prompt),\n\u001b[0m\u001b[1;32m    852\u001b[0m             \u001b[0mself\u001b[0m\u001b[0;34m.\u001b[0m\u001b[0m_parent_ident\u001b[0m\u001b[0;34m,\u001b[0m\u001b[0;34m\u001b[0m\u001b[0;34m\u001b[0m\u001b[0m\n\u001b[1;32m    853\u001b[0m             \u001b[0mself\u001b[0m\u001b[0;34m.\u001b[0m\u001b[0m_parent_header\u001b[0m\u001b[0;34m,\u001b[0m\u001b[0;34m\u001b[0m\u001b[0;34m\u001b[0m\u001b[0m\n",
            "\u001b[0;32m/usr/local/lib/python3.11/dist-packages/ipykernel/kernelbase.py\u001b[0m in \u001b[0;36m_input_request\u001b[0;34m(self, prompt, ident, parent, password)\u001b[0m\n\u001b[1;32m    893\u001b[0m             \u001b[0;32mexcept\u001b[0m \u001b[0mKeyboardInterrupt\u001b[0m\u001b[0;34m:\u001b[0m\u001b[0;34m\u001b[0m\u001b[0;34m\u001b[0m\u001b[0m\n\u001b[1;32m    894\u001b[0m                 \u001b[0;31m# re-raise KeyboardInterrupt, to truncate traceback\u001b[0m\u001b[0;34m\u001b[0m\u001b[0;34m\u001b[0m\u001b[0m\n\u001b[0;32m--> 895\u001b[0;31m                 \u001b[0;32mraise\u001b[0m \u001b[0mKeyboardInterrupt\u001b[0m\u001b[0;34m(\u001b[0m\u001b[0;34m\"Interrupted by user\"\u001b[0m\u001b[0;34m)\u001b[0m \u001b[0;32mfrom\u001b[0m \u001b[0;32mNone\u001b[0m\u001b[0;34m\u001b[0m\u001b[0;34m\u001b[0m\u001b[0m\n\u001b[0m\u001b[1;32m    896\u001b[0m             \u001b[0;32mexcept\u001b[0m \u001b[0mException\u001b[0m \u001b[0;32mas\u001b[0m \u001b[0me\u001b[0m\u001b[0;34m:\u001b[0m\u001b[0;34m\u001b[0m\u001b[0;34m\u001b[0m\u001b[0m\n\u001b[1;32m    897\u001b[0m                 \u001b[0mself\u001b[0m\u001b[0;34m.\u001b[0m\u001b[0mlog\u001b[0m\u001b[0;34m.\u001b[0m\u001b[0mwarning\u001b[0m\u001b[0;34m(\u001b[0m\u001b[0;34m\"Invalid Message:\"\u001b[0m\u001b[0;34m,\u001b[0m \u001b[0mexc_info\u001b[0m\u001b[0;34m=\u001b[0m\u001b[0;32mTrue\u001b[0m\u001b[0;34m)\u001b[0m\u001b[0;34m\u001b[0m\u001b[0;34m\u001b[0m\u001b[0m\n",
            "\u001b[0;31mKeyboardInterrupt\u001b[0m: Interrupted by user"
          ]
        }
      ]
    },
    {
      "cell_type": "code",
      "source": [
        " num = input()\n",
        "if num.isdigit(): num = int(num)"
      ],
      "metadata": {
        "id": "9I5zu8ANUFKb"
      },
      "execution_count": null,
      "outputs": []
    },
    {
      "cell_type": "code",
      "source": [
        "basicPrice = 15000  # 기본가격\n",
        "\n",
        "while True:  # 입력 반복\n",
        "    num = input(\"구매수량을 입력하세요 : \")\n",
        "    if num.isdigit():  # 입력값이 숫자인 경우\n",
        "        quantity = int(num)\n",
        "        if quantity > 0:  # 수량이 1 이상인지 확인\n",
        "            break\n",
        "        else:\n",
        "            print(\"구매수량은 1 이상이어야 합니다. 다시 입력해주세요.\")#음수 일때 다시 입력\n",
        "    else:\n",
        "        print(\"유효한 숫자를 입력해주세요.\")# 숫자가 아닐때\n",
        "\n",
        "# 총 가격 계산\n",
        "totalPrice = basicPrice * quantity\n",
        "\n",
        "# 할인율 계산\n",
        "if quantity <= 3:\n",
        "    discountRate = 0\n",
        "elif quantity <= 6:\n",
        "    discountRate = 0.1\n",
        "elif quantity <= 9:\n",
        "    discountRate = 0.2\n",
        "else:\n",
        "    discountRate = 0.3\n",
        "\n",
        "endPrice = int(round((totalPrice * (1 - discountRate)), 1))  # 최종 가격 계산\n",
        "\n",
        "# 포인트 적립률 계산\n",
        "if endPrice >= 100000:\n",
        "    pointRate = 0.1\n",
        "elif endPrice >= 70000:\n",
        "    pointRate = 0.05\n",
        "else:\n",
        "    pointRate = 0\n",
        "\n",
        "point = int(round((endPrice * pointRate), 0))  # 포인트 계산\n",
        "\n",
        "# 결과 출력\n",
        "print(\"최종가격:\", endPrice, \"원\", \"할인률:\", discountRate * 100, \"%\", \"  포인트 적립 금액:\", point)\n"
      ],
      "metadata": {
        "colab": {
          "base_uri": "https://localhost:8080/"
        },
        "id": "cic7NnYN8cqv",
        "outputId": "694c3dd0-8adf-477e-f99b-f56338b708ec"
      },
      "execution_count": null,
      "outputs": [
        {
          "output_type": "stream",
          "name": "stdout",
          "text": [
            "구매수량을 입력하세요 : 2.4\n",
            "유효한 숫자를 입력해주세요.\n",
            "구매수량을 입력하세요 : -4\n",
            "유효한 숫자를 입력해주세요.\n",
            "구매수량을 입력하세요 : 0\n",
            "구매수량은 1 이상이어야 합니다. 다시 입력해주세요.\n",
            "구매수량을 입력하세요 : 14\n",
            "최종가격: 147000 원 할인률: 30.0 %   포인트 적립 금액: 14700\n"
          ]
        }
      ]
    },
    {
      "cell_type": "code",
      "source": [
        "cokePrice = 1000 # 가격 설정\n",
        "sodaPrice = 1200\n",
        "juicePrice = 1500\n",
        "cokeCount = 0\n",
        "sodaCount = 0\n",
        "juiceCount = 0\n",
        "\n",
        "print(\"-----------메뉴----------\") #메뉴 및 가격 표시\n",
        "print(\"1. 콜라 1,000원\")\n",
        "print(\"2. 사이다 1,200원\")\n",
        "print(\"3. 오렌지 주스 1,500원\")\n",
        "print(\"4. 결제하기\")\n",
        "print(\"5. 종료\")\n",
        "print(\"-------------------------\")\n",
        "\n",
        "while True:\n",
        "    drink = input(\"\\n번호를 선택하세요: \") # 입력할 번호 받기\n",
        "\n",
        "    if drink.isdigit():  # 숫자인 경우에만 처리\n",
        "        drink = int(drink)\n",
        "\n",
        "        if drink == 5:  # 종료\n",
        "            print(\"자판기를 종료합니다. 감사합니다!\")\n",
        "            break\n",
        "\n",
        "        if drink == 4:  # 결제하기\n",
        "            totalPrice = (cokePrice * cokeCount) + (sodaPrice * sodaCount) + (juicePrice * juiceCount)# 총가격 계산\n",
        "            if totalPrice == 0:# 아무것도 선택하지 않고 눌렀을 떄\n",
        "                print(\"장바구니가 비어 있습니다. 먼저 상품을 추가해주세요.\")\n",
        "                continue\n",
        "            print(\"개수는 콜라\", cokeCount, \"개, 사이다\", sodaCount, \"개, 오렌지 주스\", juiceCount, \"개. 총 금액은\", totalPrice, \"원입니다.\")# 선택한 음료의 개수와 가격 표시\n",
        "\n",
        "            money = input(\"얼마를 넣으시겠습니까? \")# 투입 금액 입력 받기\n",
        "            if money.isdigit():  # 투입 금액도 숫자인지 확인\n",
        "                money = int(money)\n",
        "                if money < totalPrice:\n",
        "                    print(\"금액이 부족합니다. 추가로\", totalPrice - money, \"원이 필요합니다.\")\n",
        "                else:\n",
        "                    print(\"거스름돈은\", money - totalPrice, \"원입니다. 안녕히 가십시오.\")\n",
        "\n",
        "                    break  # 결제 완료 후 프로그램 종료\n",
        "            else:\n",
        "                print(\"유효한 금액을 입력해주세요.\")\n",
        "            continue\n",
        "\n",
        "        if drink == 1:  # 콜라 선택\n",
        "            count = input(\"콜라 갯수를 입력하세요: \")# 개수 입력 받기\n",
        "            if count.isdigit():\n",
        "                cokeCount = cokeCount + int(count)\n",
        "        elif drink == 2:  # 사이다 선택\n",
        "            count = input(\"사이다 갯수를 입력하세요: \")# 개수 입력 받기\n",
        "            if count.isdigit():\n",
        "                sodaCount = sodaCount + int(count)\n",
        "        elif drink == 3:  # 오렌지주스 선택\n",
        "            count = input(\"오렌지주스 갯수를 입력하세요: \")# 개수 입력 받기\n",
        "            if count.isdigit():\n",
        "                 juiceCount = juiceCount + int(count)\n",
        "        else:# 1,2,3,4,5 가 아닐 때\n",
        "            print(\"잘못된 입력입니다. 다시 선택해주세요.\")\n",
        "    else:# 숫자가 아닐때\n",
        "        print(\"유효한 숫자를 입력해주세요.\")\n"
      ],
      "metadata": {
        "colab": {
          "base_uri": "https://localhost:8080/"
        },
        "id": "JSCSPEdOvnzw",
        "outputId": "105cc47f-6234-4ab0-9ee6-04f2df157d1b"
      },
      "execution_count": null,
      "outputs": [
        {
          "output_type": "stream",
          "name": "stdout",
          "text": [
            "-----------메뉴----------\n",
            "1. 콜라 1,000원\n",
            "2. 사이다 1,200원\n",
            "3. 오렌지 주스 1,500원\n",
            "4. 결제하기\n",
            "5. 종료\n",
            "-------------------------\n",
            "\n",
            "번호를 선택하세요: 1\n",
            "콜라 갯수를 입력하세요: 1000\n",
            "\n",
            "번호를 선택하세요: 4\n",
            "개수는 콜라 1000 개, 사이다 0 개, 오렌지 주스 0 개. 총 금액은 1000000 원입니다.\n",
            "얼마를 넣으시겠습니까? 1000000\n",
            "거스름돈은 0 원입니다. 안녕히 가십시오.\n"
          ]
        }
      ]
    },
    {
      "cell_type": "code",
      "source": [
        "a = 5\n",
        "for i in range(1,10):\n",
        "   print(str(a) + 'X' + str(i) + ' = ' + str(i*a))\n",
        "print(\"while 조건문을 for 조건문으로 바꾸어 사용할 수 있다\")"
      ],
      "metadata": {
        "id": "LXAU-tGIyrf-",
        "colab": {
          "base_uri": "https://localhost:8080/"
        },
        "outputId": "9120e338-eb48-4c68-e7f0-1f14e81882eb"
      },
      "execution_count": null,
      "outputs": [
        {
          "output_type": "stream",
          "name": "stdout",
          "text": [
            "5X1 = 5\n",
            "5X2 = 10\n",
            "5X3 = 15\n",
            "5X4 = 20\n",
            "5X5 = 25\n",
            "5X6 = 30\n",
            "5X7 = 35\n",
            "5X8 = 40\n",
            "5X9 = 45\n",
            "while 조건문을 for 조건문으로 바꾸어 사용할 수 있다\n"
          ]
        }
      ]
    },
    {
      "cell_type": "code",
      "source": [
        "a = 5\n",
        "for i in range(1,-10,-1):\n",
        "   print(str(a) + 'X' + str(i) + ' = ' + str(i*a))\n",
        "print(\"while 조건문을 for 조건문으로 바꾸어 사용할 수 있다\")"
      ],
      "metadata": {
        "colab": {
          "base_uri": "https://localhost:8080/"
        },
        "id": "SuPDJ7VBK_8j",
        "outputId": "681036bf-d63f-4000-eb79-f27b4f01ac74"
      },
      "execution_count": null,
      "outputs": [
        {
          "output_type": "stream",
          "name": "stdout",
          "text": [
            "5X1 = 5\n",
            "5X0 = 0\n",
            "5X-1 = -5\n",
            "5X-2 = -10\n",
            "5X-3 = -15\n",
            "5X-4 = -20\n",
            "5X-5 = -25\n",
            "5X-6 = -30\n",
            "5X-7 = -35\n",
            "5X-8 = -40\n",
            "5X-9 = -45\n",
            "while 조건문을 for 조건문으로 바꾸어 사용할 수 있다\n"
          ]
        }
      ]
    },
    {
      "cell_type": "code",
      "source": [
        "a = 5\n",
        "i = 1\n",
        "\n",
        "while i <= 9:\n",
        "   print(str(a) + 'X' + str(i) + ' = ' + str(i * a))\n",
        "   i += 1\n",
        "print(\"파이썬으로 구구단 5단을 계산할 수 있다!\")"
      ],
      "metadata": {
        "colab": {
          "base_uri": "https://localhost:8080/"
        },
        "id": "5V7sTYfnLtYA",
        "outputId": "766dad0e-1c91-4a54-fbee-9d58eddb95e6"
      },
      "execution_count": null,
      "outputs": [
        {
          "output_type": "stream",
          "name": "stdout",
          "text": [
            "5X1 = 5\n",
            "5X2 = 10\n",
            "5X3 = 15\n",
            "5X4 = 20\n",
            "5X5 = 25\n",
            "5X6 = 30\n",
            "5X7 = 35\n",
            "5X8 = 40\n",
            "5X9 = 45\n",
            "파이썬으로 구구단 5단을 계산할 수 있다!\n"
          ]
        }
      ]
    },
    {
      "cell_type": "code",
      "source": [
        "from random import random, randint, randrange\n",
        "num = randint(1,45)\n",
        "print(num)"
      ],
      "metadata": {
        "colab": {
          "base_uri": "https://localhost:8080/"
        },
        "id": "aD0B_86kNPfJ",
        "outputId": "bbdee707-7f0a-4e8c-99a4-5ed744ec838e"
      },
      "execution_count": null,
      "outputs": [
        {
          "output_type": "stream",
          "name": "stdout",
          "text": [
            "22\n"
          ]
        }
      ]
    },
    {
      "cell_type": "code",
      "source": [
        "from random import random, randint, randrange\n",
        "lotto = [] #로또 번호 배열\n",
        "while len(lotto) < 6: # 배열이 6개가 될 때 까지 0~5\n",
        "  i = randrange(1, 45)\n",
        "  if i not in lotto:#lotto 리스트에 포함되어 있지 않으면\n",
        "    lotto.append(i) # 배열 끝에 숫자 추가\n",
        "\n",
        "print(lotto)"
      ],
      "metadata": {
        "colab": {
          "base_uri": "https://localhost:8080/"
        },
        "id": "KtCj2ofFNqzW",
        "outputId": "1cfe5227-9c9f-4d9e-d863-3345b52d43fd"
      },
      "execution_count": null,
      "outputs": [
        {
          "output_type": "stream",
          "name": "stdout",
          "text": [
            "[11, 9, 24, 22, 5, 18]\n"
          ]
        }
      ]
    },
    {
      "cell_type": "code",
      "source": [
        "from random import random, randint, randrange\n",
        "#로또 번호 설정\n",
        "lotto = []\n",
        "\n",
        "while len(lotto) < 6:\n",
        "  i = randrange(1, 45)\n",
        "  if i not in lotto:\n",
        "    lotto.append(i)\n",
        "print(lotto)\n",
        "\n",
        "for a in range(0, 5):\n",
        "  for n in range(0, 5 - a):\n",
        "    if lotto[n] > lotto[n + 1]:\n",
        "      a = lotto[n + 1]\n",
        "      lotto[n + 1] = lotto[n]\n",
        "      lotto[n] = a\n",
        "\n",
        "crt = [5, 7, 12, 20, 25, 26]\n",
        "count = 0\n",
        "array = []\n",
        "for b in range (0, 5):\n",
        "  if lotto[b] in crt:\n",
        "    count = count + 1\n",
        "    array.append(lotto[b])\n",
        "\n",
        "\n",
        "print(lotto)\n",
        "print(crt)\n",
        "print(array)\n",
        "print(count,\"개 맞음\")"
      ],
      "metadata": {
        "colab": {
          "base_uri": "https://localhost:8080/"
        },
        "id": "NicPUS6EIviq",
        "outputId": "aa27570f-de41-4a3e-ea34-d0f0c08a00e9"
      },
      "execution_count": null,
      "outputs": [
        {
          "output_type": "stream",
          "name": "stdout",
          "text": [
            "[13, 22, 7, 19, 11, 44]\n",
            "[7, 11, 13, 19, 22, 44]\n",
            "[5, 7, 12, 20, 25, 26]\n",
            "[7]\n",
            "1 개 맞음\n"
          ]
        }
      ]
    },
    {
      "cell_type": "code",
      "source": [
        "while True:\n",
        "    print(\"음료 목록 1.오렌지주스(100원), 2.커피(200원), 3.콜라(300원)\")\n",
        "\n",
        "    coin = input(\"동전을 넣으세요.\")\n",
        "    if coin.isdigit():\n",
        "       coin = int(coin)\n",
        "\n",
        "       drink = input(\"음료를고르세요.\\n\")\n",
        "       if drink.isdigit():  # 숫자인 경우에만 처리\n",
        "            drink = int(drink)\n",
        "            if drink == 1:\n",
        "                if coin >= 100:\n",
        "                        remain = coin - 100\n",
        "                        print(\"오렌지주스가 곧 제공됩니다.\")\n",
        "                        print(\"거스름돈은 {}원입니다\".format(remain))\n",
        "                        break\n",
        "                else:\n",
        "                        print(\"잔액이 부족합니다.\")\n",
        "                        break\n",
        "            elif  drink == 2:\n",
        "                if coin >= 200:\n",
        "                    remain = coin - 200\n",
        "                    print(\"커피가 곧 제공됩니다.\")\n",
        "                    print(\"거스름돈은 {}원입니다\".format(remain))\n",
        "                    break\n",
        "                else:\n",
        "                        print(\"잔액이 부족합니다.\")\n",
        "                        break\n",
        "            elif  drink == 3:\n",
        "                if coin >= 300:\n",
        "                    remain = coin - 300\n",
        "                    print(\"콜라가 곧 제공됩니다.\")\n",
        "                    print(\"거스름돈은 {}원입니다\".format(remain))\n",
        "                    break\n",
        "                else:\n",
        "                    print(\"잔액이 부족합니다.\")\n",
        "                    break\n",
        "            else:\n",
        "                print(\"없는 메뉴입니다. 다시입력해주세요\")\n",
        "       else:\n",
        "            print(\"유효한 숫자를 입력하세요\")\n",
        "    else:\n",
        "        print(\"유효한 숫자를 입력하세요\")\n"
      ],
      "metadata": {
        "colab": {
          "base_uri": "https://localhost:8080/"
        },
        "id": "N5WPttiHop0F",
        "outputId": "f37d0375-bcbf-4b0e-a932-9549e89f1e00"
      },
      "execution_count": null,
      "outputs": [
        {
          "output_type": "stream",
          "name": "stdout",
          "text": [
            "음료 목록 1.오렌지주스(100원), 2.커피(200원), 3.콜라(130원)\n",
            "동전을 넣으세요.-2\n",
            "유효한 숫자를 입력하세요\n",
            "음료 목록 1.오렌지주스(100원), 2.커피(200원), 3.콜라(130원)\n",
            "동전을 넣으세요.1\n",
            "음료를고르세요.\n",
            "1\n",
            "잔액이 부족합니다.\n"
          ]
        }
      ]
    },
    {
      "cell_type": "markdown",
      "source": [
        "문자열 입력 받기\n",
        "찾길 원하는 알파벳 입력 받기 위치 띄여쓰기 포함\n",
        "\n"
      ],
      "metadata": {
        "id": "5z5krBxnxpvH"
      }
    },
    {
      "cell_type": "code",
      "source": [
        "lines = \"hello how are you\"\n",
        "\n",
        "print(lines[5:])\n",
        "\n",
        "for i in range(0, len(lines)):\n",
        "    print(lines[i:i + 1])"
      ],
      "metadata": {
        "colab": {
          "base_uri": "https://localhost:8080/"
        },
        "id": "OSiNzDLas8sC",
        "outputId": "1c0fb02d-0e27-41a4-87c1-2182227c5f8b"
      },
      "execution_count": null,
      "outputs": [
        {
          "output_type": "stream",
          "name": "stdout",
          "text": [
            " how are you\n",
            "h\n",
            "e\n",
            "l\n",
            "l\n",
            "o\n",
            " \n",
            "h\n",
            "o\n",
            "w\n",
            " \n",
            "a\n",
            "r\n",
            "e\n",
            " \n",
            "y\n",
            "o\n",
            "u\n"
          ]
        }
      ]
    },
    {
      "cell_type": "code",
      "source": [],
      "metadata": {
        "id": "vqnzWv5io2Ye"
      },
      "execution_count": null,
      "outputs": []
    },
    {
      "cell_type": "code",
      "source": [
        "# 입력 받은 문자가 한글자가 아닐 경우 다시 입력하게 하기 (반복)\n",
        "# 문장을 입력받기\n",
        "lines = input(\"확인 받을 문자열을 입력하세요. \")\n",
        "while True:\n",
        "    # 한 글자를 입력받기\n",
        "    a = input(\"확인 받을 문자를 입력하세요. \")\n",
        "\n",
        "    if len(a) != 1:\n",
        "        print(\"한 글자만 입력하세요. \")\n",
        "    else:\n",
        "        break\n",
        "\n",
        "# 글자 위치를 저장할 배열\n",
        "num = []\n",
        "\n",
        "# i는 0부터 문장 길이까지 반복\n",
        "for i in range(0,len(lines)):\n",
        "    # 입력받은 문장에서 한글자를 입력받은 한글자와 비교\n",
        "    if lines[i] == a:\n",
        "        # 배열에 저장\n",
        "        num.append(i + 1) # 사람이 이해하는 '번째' i + 1\n",
        "\n",
        "# 저장된 최종 배열 출력\n",
        "print(\"입력한 문자는\", num, \"번째에 있습니다.\")"
      ],
      "metadata": {
        "id": "Rbw8wa8VAEOs",
        "colab": {
          "base_uri": "https://localhost:8080/"
        },
        "outputId": "eec41347-2c18-486f-f43e-754f7bae3f69"
      },
      "execution_count": null,
      "outputs": [
        {
          "output_type": "stream",
          "name": "stdout",
          "text": [
            "확인 받을 문자열을 입력하세요. fdsfasdfdsf\n",
            "확인 받을 문자를 입력하세요. f\n",
            "입력한 문자는 [1, 4, 8, 11] 번째에 있습니다.\n"
          ]
        }
      ]
    },
    {
      "cell_type": "code",
      "source": [
        "integer_1 = 3214\n",
        "integer_2 = -128109"
      ],
      "metadata": {
        "id": "JrhpjnIETnX7"
      },
      "execution_count": null,
      "outputs": []
    },
    {
      "cell_type": "code",
      "source": [
        "string_5 = \"This is String! \\\"따옴표\\\"기호:!@#$%^\"\n",
        "print(string_5)"
      ],
      "metadata": {
        "colab": {
          "base_uri": "https://localhost:8080/"
        },
        "id": "odujUcr2TMe-",
        "outputId": "0bbf94c8-fe69-41d9-97f0-185689c8d591"
      },
      "execution_count": null,
      "outputs": [
        {
          "output_type": "stream",
          "name": "stdout",
          "text": [
            "This is String!\"따옴표\"기호:!@#$%^\n"
          ]
        }
      ]
    },
    {
      "cell_type": "code",
      "source": [
        "tuple_1 = 1, 2, 3 ,4 ,5\n",
        "tuple_2 = ('가', '나', '다', '라', '마')\n",
        "tuple_3 = '파이썬', 10000, False\n",
        "tuple_4 = '파이썬', (1000,'만큼','어려워'), False\n",
        "\n",
        "print(tuple_1, type(tuple_1))\n",
        "print(tuple_2, type(tuple_2))\n",
        "print(tuple_3, type(tuple_3))\n",
        "print(tuple_4, type(tuple_4))\n",
        "\n",
        "print(len(tuple_4))"
      ],
      "metadata": {
        "colab": {
          "base_uri": "https://localhost:8080/"
        },
        "id": "1AkTGytcT6xw",
        "outputId": "cb708cf5-87a6-405d-c6f0-537a7a49ae00"
      },
      "execution_count": null,
      "outputs": [
        {
          "output_type": "stream",
          "name": "stdout",
          "text": [
            "(1, 2, 3, 4, 5) <class 'tuple'>\n",
            "('가', '나', '다', '라', '마') <class 'tuple'>\n",
            "('파이썬', 10000, False) <class 'tuple'>\n",
            "('파이썬', (1000, '만큼', '어려워'), False) <class 'tuple'>\n",
            "3\n"
          ]
        }
      ]
    },
    {
      "cell_type": "code",
      "source": [
        "from re import T\n",
        "t = ('가', '나', '다', '라', '마')\n",
        "l = ['가', '나', '다', '라', '마']\n",
        "s = {'가', '나', '다', '라', '마', '마', '다'}# 증복을 허용하지 않음\n",
        "print(t)\n",
        "print(l)\n",
        "print(s)"
      ],
      "metadata": {
        "colab": {
          "base_uri": "https://localhost:8080/"
        },
        "id": "FLf23b-xVDYa",
        "outputId": "ff094da2-e185-4649-89cb-6888818a919f"
      },
      "execution_count": null,
      "outputs": [
        {
          "output_type": "stream",
          "name": "stdout",
          "text": [
            "('가', '나', '다', '라', '마')\n",
            "['가', '나', '다', '라', '마']\n",
            "{'라', '마', '가', '나', '다'}\n"
          ]
        }
      ]
    },
    {
      "cell_type": "code",
      "source": [
        "listA = [1, 2, 3, 4, 5, 1, 2, 3]\n",
        "print(listA)\n",
        "listB = list(set(listA))\n",
        "print(listB)"
      ],
      "metadata": {
        "colab": {
          "base_uri": "https://localhost:8080/"
        },
        "id": "PmtZbnerVwMd",
        "outputId": "f82b6a50-01cf-49d2-846f-9192943d5dfd"
      },
      "execution_count": null,
      "outputs": [
        {
          "output_type": "stream",
          "name": "stdout",
          "text": [
            "[1, 2, 3, 4, 5, 1, 2, 3]\n",
            "[1, 2, 3, 4, 5]\n"
          ]
        }
      ]
    },
    {
      "cell_type": "code",
      "source": [
        "a = 1.2345\n",
        "b = int (a)\n",
        "print(a)\n",
        "print(b)"
      ],
      "metadata": {
        "colab": {
          "base_uri": "https://localhost:8080/"
        },
        "id": "6Hfh-uTsWTVx",
        "outputId": "aec170a8-eb2c-468f-b78b-9a6d7c291816"
      },
      "execution_count": null,
      "outputs": [
        {
          "output_type": "stream",
          "name": "stdout",
          "text": [
            "1.2345\n",
            "1\n"
          ]
        }
      ]
    },
    {
      "cell_type": "code",
      "source": [
        "listA = [1, 2, 3, 4, 5, 6, 7, 8, 9, 10 , 1, 2, 3, 4, 5]\n",
        "\n",
        "# 찾을 숫자 입력 받기\n",
        "a = int(input(\"찾을 숫자를 입력 해주세요. \"))\n",
        "\n",
        "# 찾을 숫자 개수 저장할 변수 count\n",
        "count = 0\n",
        "# 리스트에 길이 만큼 반복\n",
        "for i in range(0, len(listA)):\n",
        "     # 리스트에서 같은 숫자 가 발견 될때 마다 찾을 숫자 개수 1 씩 증가\n",
        "    if a == listA[i]:\n",
        "        count += 1\n",
        "print(\"listA안에 있는 입력한 숫자의 개수는\", count,\"개 입니다\")\n",
        "\n",
        "#중복되지 않은 리스트\n",
        "listB = set(listA)\n",
        "\n",
        "#모든 숫자 각 개수 출력\n",
        "for i in listB:\n",
        "    cnt = 0\n",
        "    for k in listA:\n",
        "        if i == k:\n",
        "            cnt += 1\n",
        "    print(i, \":\", cnt, \"개\")"
      ],
      "metadata": {
        "colab": {
          "base_uri": "https://localhost:8080/"
        },
        "id": "GyvJeXUJWcG5",
        "outputId": "762e78a1-9b09-4a09-cce3-f502d13d7645"
      },
      "execution_count": null,
      "outputs": [
        {
          "output_type": "stream",
          "name": "stdout",
          "text": [
            "찾을 숫자를 입력 해주세요. 2\n",
            "listA안에 있는 입력한 숫자의 개수는 2 개 입니다\n",
            "1 : 2 개\n",
            "2 : 2 개\n",
            "3 : 2 개\n",
            "4 : 2 개\n",
            "5 : 2 개\n",
            "6 : 1 개\n",
            "7 : 1 개\n",
            "8 : 1 개\n",
            "9 : 1 개\n",
            "10 : 1 개\n"
          ]
        }
      ]
    },
    {
      "cell_type": "code",
      "source": [
        "for i in range(1, len(listB)+1):\n",
        "    print(i)"
      ],
      "metadata": {
        "colab": {
          "base_uri": "https://localhost:8080/"
        },
        "id": "uMnUNUrBOzLO",
        "outputId": "e0bcfee7-295d-435c-e242-09596d586e45"
      },
      "execution_count": null,
      "outputs": [
        {
          "output_type": "stream",
          "name": "stdout",
          "text": [
            "1\n",
            "2\n",
            "3\n"
          ]
        }
      ]
    },
    {
      "cell_type": "markdown",
      "source": [
        "1 부터 45 까지 오름차순으로 출력\n",
        "최근 5회의 기록과 각각 몇개 당첨됐는지 확인\n",
        "1 부터 45 까지의 숫자가 최근 5회에 몇 번 등장했는지 확인"
      ],
      "metadata": {
        "id": "AqBGh2OjRk3t"
      }
    },
    {
      "cell_type": "code",
      "source": [
        "import random\n",
        "print(random.random())"
      ],
      "metadata": {
        "colab": {
          "base_uri": "https://localhost:8080/"
        },
        "id": "Z26Q47IjO3bR",
        "outputId": "4b3f1e0a-ca12-4d80-8cde-1d55b762af7c"
      },
      "execution_count": null,
      "outputs": [
        {
          "output_type": "stream",
          "name": "stdout",
          "text": [
            "0.06597594478339674\n"
          ]
        }
      ]
    },
    {
      "cell_type": "code",
      "source": [
        "import random\n",
        "\n",
        "# 최근 5회의 로또 번호 기록\n",
        "nums = [[5, 7, 12, 20, 25, 26],\n",
        "        [30, 31, 34, 39, 41, 45],\n",
        "        [10, 16, 19, 27, 37, 38],\n",
        "        [4, 8, 22, 26, 32, 38],\n",
        "        [1, 9, 10, 13, 35, 44]]\n",
        "\n",
        "# 모든 숫자를 한 리스트에 오름차순으로 저장\n",
        "allnums = []\n",
        "for i in nums:\n",
        "    for num in i:\n",
        "        allnums.append(num)\n",
        "        allnums.sort()\n",
        "\n",
        "print(\"최근 5회차 번호를 오름차순으로 배열 한 것 :\", allnums)\n",
        "\n",
        "lotto = []\n",
        "while len(lotto) < 6:\n",
        "\n",
        "    randomnum = int(random.random() * 45) + 1\n",
        "    if randomnum not in lotto:\n",
        "        lotto.append(randomnum)\n",
        "        lotto.sort()\n",
        "\n",
        "print(\" 생성된 로또 번호:\", lotto)\n",
        "\n",
        "\n",
        "# 최근 5회의 기록과 각각 몇 개 당첨됐는지 확인\n",
        "print(\"\\n최근 5회의 기록과 당첨된 개수 확인:\")\n",
        "for i in range(len(nums)):\n",
        "    hit = []\n",
        "    for num in lotto:\n",
        "        if num in nums[i]:\n",
        "            hit.append(num)\n",
        "    hitCnt = len(hit)\n",
        "\n",
        "    if hitCnt > 0:\n",
        "        print(i + 1, \"회 :\", hitCnt, \"개 적중\", hit)\n",
        "    else:\n",
        "        print(i + 1, \"회 :\", hitCnt, \"개 적중 (적중된 번호 없음)\")\n",
        "# 각 숫자별 등장 횟수와 결과 출력\n",
        "appear = 0\n",
        "for i in range (1, 46):\n",
        "    hitcount = 0\n",
        "    for j in range(0,len(allnums)):\n",
        "        if(i == allnums[j]):\n",
        "            hitcount += 1\n",
        "            appear += 1\n",
        "\n",
        "    print(i , \"는\", hitcount, \"번 등장했습니다.\")\n",
        "print(\"1에서 45 사이의 숫자는 \", appear, \"번 등장 했습니다\")"
      ],
      "metadata": {
        "id": "W7dVd8jGrp5T",
        "colab": {
          "base_uri": "https://localhost:8080/"
        },
        "outputId": "1bf7dea0-8e25-43d6-ad36-4c57903cbeaf"
      },
      "execution_count": null,
      "outputs": [
        {
          "output_type": "stream",
          "name": "stdout",
          "text": [
            "최근 5회차 번호를 오름차순으로 배열 한 것 : [1, 4, 5, 7, 8, 9, 10, 10, 12, 13, 16, 19, 20, 22, 25, 26, 26, 27, 30, 31, 32, 34, 35, 37, 38, 38, 39, 41, 44, 45]\n",
            " 생성된 로또 번호: [4, 12, 20, 32, 40, 44]\n",
            "\n",
            "최근 5회의 기록과 당첨된 개수 확인:\n",
            "1 회 : 2 개 적중 [12, 20]\n",
            "2 회 : 0 개 적중 (적중된 번호 없음)\n",
            "3 회 : 0 개 적중 (적중된 번호 없음)\n",
            "4 회 : 2 개 적중 [4, 32]\n",
            "5 회 : 1 개 적중 [44]\n",
            "1 는 1 번 등장했습니다.\n",
            "2 는 0 번 등장했습니다.\n",
            "3 는 0 번 등장했습니다.\n",
            "4 는 1 번 등장했습니다.\n",
            "5 는 1 번 등장했습니다.\n",
            "6 는 0 번 등장했습니다.\n",
            "7 는 1 번 등장했습니다.\n",
            "8 는 1 번 등장했습니다.\n",
            "9 는 1 번 등장했습니다.\n",
            "10 는 2 번 등장했습니다.\n",
            "11 는 0 번 등장했습니다.\n",
            "12 는 1 번 등장했습니다.\n",
            "13 는 1 번 등장했습니다.\n",
            "14 는 0 번 등장했습니다.\n",
            "15 는 0 번 등장했습니다.\n",
            "16 는 1 번 등장했습니다.\n",
            "17 는 0 번 등장했습니다.\n",
            "18 는 0 번 등장했습니다.\n",
            "19 는 1 번 등장했습니다.\n",
            "20 는 1 번 등장했습니다.\n",
            "21 는 0 번 등장했습니다.\n",
            "22 는 1 번 등장했습니다.\n",
            "23 는 0 번 등장했습니다.\n",
            "24 는 0 번 등장했습니다.\n",
            "25 는 1 번 등장했습니다.\n",
            "26 는 2 번 등장했습니다.\n",
            "27 는 1 번 등장했습니다.\n",
            "28 는 0 번 등장했습니다.\n",
            "29 는 0 번 등장했습니다.\n",
            "30 는 1 번 등장했습니다.\n",
            "31 는 1 번 등장했습니다.\n",
            "32 는 1 번 등장했습니다.\n",
            "33 는 0 번 등장했습니다.\n",
            "34 는 1 번 등장했습니다.\n",
            "35 는 1 번 등장했습니다.\n",
            "36 는 0 번 등장했습니다.\n",
            "37 는 1 번 등장했습니다.\n",
            "38 는 2 번 등장했습니다.\n",
            "39 는 1 번 등장했습니다.\n",
            "40 는 0 번 등장했습니다.\n",
            "41 는 1 번 등장했습니다.\n",
            "42 는 0 번 등장했습니다.\n",
            "43 는 0 번 등장했습니다.\n",
            "44 는 1 번 등장했습니다.\n",
            "45 는 1 번 등장했습니다.\n",
            "1에서 45 사이의 숫자는  30 번 등장 했습니다\n"
          ]
        }
      ]
    },
    {
      "cell_type": "code",
      "source": [
        "nums = [[5, 7, 12, 20, 25, 26],\n",
        "        [30, 31, 34, 39, 41, 45],\n",
        "        [10, 16, 19, 27, 37, 38],\n",
        "        [4, 8, 22, 26, 32, 38],\n",
        "        [1, 9, 10, 13, 35, 44]]\n",
        "allnums = []\n",
        "for i in nums:\n",
        "    for num in i:\n",
        "        allnums.append(num)\n",
        "        allnums.sort()\n",
        "#2의 배수 개수 구하기\n",
        "cnt = 0\n",
        "for k in allnums :\n",
        "    if k % 2 == 0:\n",
        "       cnt += 1\n",
        "print(cnt)\n",
        "#3의 배수 개수 구하기\n",
        "cnt = 0\n",
        "for k in allnums:\n",
        "    if k % 3 == 0:\n",
        "        cnt += 1\n",
        "print(cnt)\n",
        "#5의 배수 개수 구하기\n",
        "cnt = 0\n",
        "for k in allnums:\n",
        "    if k % 5== 0:\n",
        "        cnt += 1\n",
        "print(cnt)\n",
        "#7의 배수 개수 구하기\n",
        "cnt = 0\n",
        "for k in allnums:\n",
        "    if k % 7== 0:\n",
        "        cnt += 1\n",
        "print(cnt)\n",
        "#홀수 짝수 구하기\n",
        "odd = []\n",
        "even = []\n",
        "for i in allnums:\n",
        "    if  i % 2 == 1:\n",
        "        odd.append(i)\n",
        "    else:\n",
        "        even.append(i)\n",
        "print(\"최근 5회차 번호들 중 홀수 나온 횟수는\", len(odd), \"최근 5회차 번호들 중 짝수가 나온 횟수는\", len(even))\n",
        "sum = 0\n",
        "min = 1\n",
        "max = 1\n",
        "for j in allnums:\n",
        "    sum += j\n",
        "    if j < min:\n",
        "        min = j\n",
        "    if j > max:\n",
        "        max = j\n",
        "\n",
        "\n",
        "print(\"평균값:\", sum/len(allnums), \"최댓값:\", max,\"최솟값:\", min)"
      ],
      "metadata": {
        "colab": {
          "base_uri": "https://localhost:8080/"
        },
        "id": "ctfcfk3cY_r_",
        "outputId": "6152ff1f-de35-48c9-e576-5510b3c44276"
      },
      "execution_count": 37,
      "outputs": [
        {
          "output_type": "stream",
          "name": "stdout",
          "text": [
            "16\n",
            "6\n",
            "8\n",
            "2\n",
            "최근 5회차 번호들 중 홀수 나온 횟수는 14 최근 5회차 번호들 중 짝수가 나온 횟수는 16\n",
            "평균값: 23.466666666666665 최댓값: 45 최솟값: 1\n"
          ]
        }
      ]
    },
    {
      "cell_type": "code",
      "source": [
        "from google.colab import files\n",
        "\n",
        "f = files.upload( )"
      ],
      "metadata": {
        "colab": {
          "base_uri": "https://localhost:8080/",
          "height": 76
        },
        "id": "n1-JInJdfgb9",
        "outputId": "398967d8-5ec6-4ce2-eacf-614bbae46fe3"
      },
      "execution_count": null,
      "outputs": [
        {
          "output_type": "display_data",
          "data": {
            "text/plain": [
              "<IPython.core.display.HTML object>"
            ],
            "text/html": [
              "\n",
              "     <input type=\"file\" id=\"files-f7076d8d-faa3-4b02-9a2f-078a78b9b97c\" name=\"files[]\" multiple disabled\n",
              "        style=\"border:none\" />\n",
              "     <output id=\"result-f7076d8d-faa3-4b02-9a2f-078a78b9b97c\">\n",
              "      Upload widget is only available when the cell has been executed in the\n",
              "      current browser session. Please rerun this cell to enable.\n",
              "      </output>\n",
              "      <script>// Copyright 2017 Google LLC\n",
              "//\n",
              "// Licensed under the Apache License, Version 2.0 (the \"License\");\n",
              "// you may not use this file except in compliance with the License.\n",
              "// You may obtain a copy of the License at\n",
              "//\n",
              "//      http://www.apache.org/licenses/LICENSE-2.0\n",
              "//\n",
              "// Unless required by applicable law or agreed to in writing, software\n",
              "// distributed under the License is distributed on an \"AS IS\" BASIS,\n",
              "// WITHOUT WARRANTIES OR CONDITIONS OF ANY KIND, either express or implied.\n",
              "// See the License for the specific language governing permissions and\n",
              "// limitations under the License.\n",
              "\n",
              "/**\n",
              " * @fileoverview Helpers for google.colab Python module.\n",
              " */\n",
              "(function(scope) {\n",
              "function span(text, styleAttributes = {}) {\n",
              "  const element = document.createElement('span');\n",
              "  element.textContent = text;\n",
              "  for (const key of Object.keys(styleAttributes)) {\n",
              "    element.style[key] = styleAttributes[key];\n",
              "  }\n",
              "  return element;\n",
              "}\n",
              "\n",
              "// Max number of bytes which will be uploaded at a time.\n",
              "const MAX_PAYLOAD_SIZE = 100 * 1024;\n",
              "\n",
              "function _uploadFiles(inputId, outputId) {\n",
              "  const steps = uploadFilesStep(inputId, outputId);\n",
              "  const outputElement = document.getElementById(outputId);\n",
              "  // Cache steps on the outputElement to make it available for the next call\n",
              "  // to uploadFilesContinue from Python.\n",
              "  outputElement.steps = steps;\n",
              "\n",
              "  return _uploadFilesContinue(outputId);\n",
              "}\n",
              "\n",
              "// This is roughly an async generator (not supported in the browser yet),\n",
              "// where there are multiple asynchronous steps and the Python side is going\n",
              "// to poll for completion of each step.\n",
              "// This uses a Promise to block the python side on completion of each step,\n",
              "// then passes the result of the previous step as the input to the next step.\n",
              "function _uploadFilesContinue(outputId) {\n",
              "  const outputElement = document.getElementById(outputId);\n",
              "  const steps = outputElement.steps;\n",
              "\n",
              "  const next = steps.next(outputElement.lastPromiseValue);\n",
              "  return Promise.resolve(next.value.promise).then((value) => {\n",
              "    // Cache the last promise value to make it available to the next\n",
              "    // step of the generator.\n",
              "    outputElement.lastPromiseValue = value;\n",
              "    return next.value.response;\n",
              "  });\n",
              "}\n",
              "\n",
              "/**\n",
              " * Generator function which is called between each async step of the upload\n",
              " * process.\n",
              " * @param {string} inputId Element ID of the input file picker element.\n",
              " * @param {string} outputId Element ID of the output display.\n",
              " * @return {!Iterable<!Object>} Iterable of next steps.\n",
              " */\n",
              "function* uploadFilesStep(inputId, outputId) {\n",
              "  const inputElement = document.getElementById(inputId);\n",
              "  inputElement.disabled = false;\n",
              "\n",
              "  const outputElement = document.getElementById(outputId);\n",
              "  outputElement.innerHTML = '';\n",
              "\n",
              "  const pickedPromise = new Promise((resolve) => {\n",
              "    inputElement.addEventListener('change', (e) => {\n",
              "      resolve(e.target.files);\n",
              "    });\n",
              "  });\n",
              "\n",
              "  const cancel = document.createElement('button');\n",
              "  inputElement.parentElement.appendChild(cancel);\n",
              "  cancel.textContent = 'Cancel upload';\n",
              "  const cancelPromise = new Promise((resolve) => {\n",
              "    cancel.onclick = () => {\n",
              "      resolve(null);\n",
              "    };\n",
              "  });\n",
              "\n",
              "  // Wait for the user to pick the files.\n",
              "  const files = yield {\n",
              "    promise: Promise.race([pickedPromise, cancelPromise]),\n",
              "    response: {\n",
              "      action: 'starting',\n",
              "    }\n",
              "  };\n",
              "\n",
              "  cancel.remove();\n",
              "\n",
              "  // Disable the input element since further picks are not allowed.\n",
              "  inputElement.disabled = true;\n",
              "\n",
              "  if (!files) {\n",
              "    return {\n",
              "      response: {\n",
              "        action: 'complete',\n",
              "      }\n",
              "    };\n",
              "  }\n",
              "\n",
              "  for (const file of files) {\n",
              "    const li = document.createElement('li');\n",
              "    li.append(span(file.name, {fontWeight: 'bold'}));\n",
              "    li.append(span(\n",
              "        `(${file.type || 'n/a'}) - ${file.size} bytes, ` +\n",
              "        `last modified: ${\n",
              "            file.lastModifiedDate ? file.lastModifiedDate.toLocaleDateString() :\n",
              "                                    'n/a'} - `));\n",
              "    const percent = span('0% done');\n",
              "    li.appendChild(percent);\n",
              "\n",
              "    outputElement.appendChild(li);\n",
              "\n",
              "    const fileDataPromise = new Promise((resolve) => {\n",
              "      const reader = new FileReader();\n",
              "      reader.onload = (e) => {\n",
              "        resolve(e.target.result);\n",
              "      };\n",
              "      reader.readAsArrayBuffer(file);\n",
              "    });\n",
              "    // Wait for the data to be ready.\n",
              "    let fileData = yield {\n",
              "      promise: fileDataPromise,\n",
              "      response: {\n",
              "        action: 'continue',\n",
              "      }\n",
              "    };\n",
              "\n",
              "    // Use a chunked sending to avoid message size limits. See b/62115660.\n",
              "    let position = 0;\n",
              "    do {\n",
              "      const length = Math.min(fileData.byteLength - position, MAX_PAYLOAD_SIZE);\n",
              "      const chunk = new Uint8Array(fileData, position, length);\n",
              "      position += length;\n",
              "\n",
              "      const base64 = btoa(String.fromCharCode.apply(null, chunk));\n",
              "      yield {\n",
              "        response: {\n",
              "          action: 'append',\n",
              "          file: file.name,\n",
              "          data: base64,\n",
              "        },\n",
              "      };\n",
              "\n",
              "      let percentDone = fileData.byteLength === 0 ?\n",
              "          100 :\n",
              "          Math.round((position / fileData.byteLength) * 100);\n",
              "      percent.textContent = `${percentDone}% done`;\n",
              "\n",
              "    } while (position < fileData.byteLength);\n",
              "  }\n",
              "\n",
              "  // All done.\n",
              "  yield {\n",
              "    response: {\n",
              "      action: 'complete',\n",
              "    }\n",
              "  };\n",
              "}\n",
              "\n",
              "scope.google = scope.google || {};\n",
              "scope.google.colab = scope.google.colab || {};\n",
              "scope.google.colab._files = {\n",
              "  _uploadFiles,\n",
              "  _uploadFilesContinue,\n",
              "};\n",
              "})(self);\n",
              "</script> "
            ]
          },
          "metadata": {}
        },
        {
          "output_type": "stream",
          "name": "stdout",
          "text": [
            "Saving characters.csv to characters.csv\n"
          ]
        }
      ]
    },
    {
      "cell_type": "code",
      "source": [
        "f = open('characters.csv', 'r', encoding = 'cp949')\n",
        "\n",
        "import csv\n",
        "rdr = csv.reader(f)\n",
        "\n",
        "for line in rdr:\n",
        "    tempList = list(line)\n",
        "    print(tempList[1])\n",
        "f.close()"
      ],
      "metadata": {
        "colab": {
          "base_uri": "https://localhost:8080/"
        },
        "id": "uESPK68-f_Bt",
        "outputId": "14e80b73-8ccf-438a-e75a-110ac84e0793"
      },
      "execution_count": null,
      "outputs": [
        {
          "output_type": "stream",
          "name": "stdout",
          "text": [
            "이름\n",
            "뽀로로\n",
            "에디\n",
            "크롱\n",
            "루피\n",
            "패티\n"
          ]
        }
      ]
    },
    {
      "cell_type": "code",
      "source": [
        "from google.colab import files\n",
        "\n",
        "f = files.upload( )"
      ],
      "metadata": {
        "colab": {
          "base_uri": "https://localhost:8080/",
          "height": 76
        },
        "id": "DN7z-vTghagz",
        "outputId": "06878371-9d1a-4116-e9b9-5d4fdff0d39b"
      },
      "execution_count": null,
      "outputs": [
        {
          "output_type": "display_data",
          "data": {
            "text/plain": [
              "<IPython.core.display.HTML object>"
            ],
            "text/html": [
              "\n",
              "     <input type=\"file\" id=\"files-abbc5d10-b373-493f-90f2-1b7b8773bf67\" name=\"files[]\" multiple disabled\n",
              "        style=\"border:none\" />\n",
              "     <output id=\"result-abbc5d10-b373-493f-90f2-1b7b8773bf67\">\n",
              "      Upload widget is only available when the cell has been executed in the\n",
              "      current browser session. Please rerun this cell to enable.\n",
              "      </output>\n",
              "      <script>// Copyright 2017 Google LLC\n",
              "//\n",
              "// Licensed under the Apache License, Version 2.0 (the \"License\");\n",
              "// you may not use this file except in compliance with the License.\n",
              "// You may obtain a copy of the License at\n",
              "//\n",
              "//      http://www.apache.org/licenses/LICENSE-2.0\n",
              "//\n",
              "// Unless required by applicable law or agreed to in writing, software\n",
              "// distributed under the License is distributed on an \"AS IS\" BASIS,\n",
              "// WITHOUT WARRANTIES OR CONDITIONS OF ANY KIND, either express or implied.\n",
              "// See the License for the specific language governing permissions and\n",
              "// limitations under the License.\n",
              "\n",
              "/**\n",
              " * @fileoverview Helpers for google.colab Python module.\n",
              " */\n",
              "(function(scope) {\n",
              "function span(text, styleAttributes = {}) {\n",
              "  const element = document.createElement('span');\n",
              "  element.textContent = text;\n",
              "  for (const key of Object.keys(styleAttributes)) {\n",
              "    element.style[key] = styleAttributes[key];\n",
              "  }\n",
              "  return element;\n",
              "}\n",
              "\n",
              "// Max number of bytes which will be uploaded at a time.\n",
              "const MAX_PAYLOAD_SIZE = 100 * 1024;\n",
              "\n",
              "function _uploadFiles(inputId, outputId) {\n",
              "  const steps = uploadFilesStep(inputId, outputId);\n",
              "  const outputElement = document.getElementById(outputId);\n",
              "  // Cache steps on the outputElement to make it available for the next call\n",
              "  // to uploadFilesContinue from Python.\n",
              "  outputElement.steps = steps;\n",
              "\n",
              "  return _uploadFilesContinue(outputId);\n",
              "}\n",
              "\n",
              "// This is roughly an async generator (not supported in the browser yet),\n",
              "// where there are multiple asynchronous steps and the Python side is going\n",
              "// to poll for completion of each step.\n",
              "// This uses a Promise to block the python side on completion of each step,\n",
              "// then passes the result of the previous step as the input to the next step.\n",
              "function _uploadFilesContinue(outputId) {\n",
              "  const outputElement = document.getElementById(outputId);\n",
              "  const steps = outputElement.steps;\n",
              "\n",
              "  const next = steps.next(outputElement.lastPromiseValue);\n",
              "  return Promise.resolve(next.value.promise).then((value) => {\n",
              "    // Cache the last promise value to make it available to the next\n",
              "    // step of the generator.\n",
              "    outputElement.lastPromiseValue = value;\n",
              "    return next.value.response;\n",
              "  });\n",
              "}\n",
              "\n",
              "/**\n",
              " * Generator function which is called between each async step of the upload\n",
              " * process.\n",
              " * @param {string} inputId Element ID of the input file picker element.\n",
              " * @param {string} outputId Element ID of the output display.\n",
              " * @return {!Iterable<!Object>} Iterable of next steps.\n",
              " */\n",
              "function* uploadFilesStep(inputId, outputId) {\n",
              "  const inputElement = document.getElementById(inputId);\n",
              "  inputElement.disabled = false;\n",
              "\n",
              "  const outputElement = document.getElementById(outputId);\n",
              "  outputElement.innerHTML = '';\n",
              "\n",
              "  const pickedPromise = new Promise((resolve) => {\n",
              "    inputElement.addEventListener('change', (e) => {\n",
              "      resolve(e.target.files);\n",
              "    });\n",
              "  });\n",
              "\n",
              "  const cancel = document.createElement('button');\n",
              "  inputElement.parentElement.appendChild(cancel);\n",
              "  cancel.textContent = 'Cancel upload';\n",
              "  const cancelPromise = new Promise((resolve) => {\n",
              "    cancel.onclick = () => {\n",
              "      resolve(null);\n",
              "    };\n",
              "  });\n",
              "\n",
              "  // Wait for the user to pick the files.\n",
              "  const files = yield {\n",
              "    promise: Promise.race([pickedPromise, cancelPromise]),\n",
              "    response: {\n",
              "      action: 'starting',\n",
              "    }\n",
              "  };\n",
              "\n",
              "  cancel.remove();\n",
              "\n",
              "  // Disable the input element since further picks are not allowed.\n",
              "  inputElement.disabled = true;\n",
              "\n",
              "  if (!files) {\n",
              "    return {\n",
              "      response: {\n",
              "        action: 'complete',\n",
              "      }\n",
              "    };\n",
              "  }\n",
              "\n",
              "  for (const file of files) {\n",
              "    const li = document.createElement('li');\n",
              "    li.append(span(file.name, {fontWeight: 'bold'}));\n",
              "    li.append(span(\n",
              "        `(${file.type || 'n/a'}) - ${file.size} bytes, ` +\n",
              "        `last modified: ${\n",
              "            file.lastModifiedDate ? file.lastModifiedDate.toLocaleDateString() :\n",
              "                                    'n/a'} - `));\n",
              "    const percent = span('0% done');\n",
              "    li.appendChild(percent);\n",
              "\n",
              "    outputElement.appendChild(li);\n",
              "\n",
              "    const fileDataPromise = new Promise((resolve) => {\n",
              "      const reader = new FileReader();\n",
              "      reader.onload = (e) => {\n",
              "        resolve(e.target.result);\n",
              "      };\n",
              "      reader.readAsArrayBuffer(file);\n",
              "    });\n",
              "    // Wait for the data to be ready.\n",
              "    let fileData = yield {\n",
              "      promise: fileDataPromise,\n",
              "      response: {\n",
              "        action: 'continue',\n",
              "      }\n",
              "    };\n",
              "\n",
              "    // Use a chunked sending to avoid message size limits. See b/62115660.\n",
              "    let position = 0;\n",
              "    do {\n",
              "      const length = Math.min(fileData.byteLength - position, MAX_PAYLOAD_SIZE);\n",
              "      const chunk = new Uint8Array(fileData, position, length);\n",
              "      position += length;\n",
              "\n",
              "      const base64 = btoa(String.fromCharCode.apply(null, chunk));\n",
              "      yield {\n",
              "        response: {\n",
              "          action: 'append',\n",
              "          file: file.name,\n",
              "          data: base64,\n",
              "        },\n",
              "      };\n",
              "\n",
              "      let percentDone = fileData.byteLength === 0 ?\n",
              "          100 :\n",
              "          Math.round((position / fileData.byteLength) * 100);\n",
              "      percent.textContent = `${percentDone}% done`;\n",
              "\n",
              "    } while (position < fileData.byteLength);\n",
              "  }\n",
              "\n",
              "  // All done.\n",
              "  yield {\n",
              "    response: {\n",
              "      action: 'complete',\n",
              "    }\n",
              "  };\n",
              "}\n",
              "\n",
              "scope.google = scope.google || {};\n",
              "scope.google.colab = scope.google.colab || {};\n",
              "scope.google.colab._files = {\n",
              "  _uploadFiles,\n",
              "  _uploadFilesContinue,\n",
              "};\n",
              "})(self);\n",
              "</script> "
            ]
          },
          "metadata": {}
        },
        {
          "output_type": "stream",
          "name": "stdout",
          "text": [
            "Saving 전북특별자치도 전주시_인구현황_20241201.csv to 전북특별자치도 전주시_인구현황_20241201.csv\n"
          ]
        }
      ]
    },
    {
      "cell_type": "code",
      "source": [
        "from logging import Manager\n",
        "f = open('전북특별자치도 전주시_인구현황_20241201.csv', 'r', encoding = 'cp949')\n",
        "\n",
        "import csv\n",
        "rdr = csv.reader(f)\n",
        "\n",
        "house = 0\n",
        "population = 0\n",
        "man = 0\n",
        "woman = 0\n",
        "next(rdr)\n",
        "for line in rdr:\n",
        "    house += int(line[1])\n",
        "    population +=  int(line[2])\n",
        "    man += int(line[3])\n",
        "    woman += int(line[4])\n",
        "print(\"세대수\", house, \"인구수\", population, \"남성인구수\", man, \"여성인구수\", woman)\n",
        "f.close()"
      ],
      "metadata": {
        "colab": {
          "base_uri": "https://localhost:8080/"
        },
        "id": "aV7u7rRMhkMj",
        "outputId": "c2391912-f8ae-458d-c78c-212ae1e0ac53"
      },
      "execution_count": null,
      "outputs": [
        {
          "output_type": "stream",
          "name": "stdout",
          "text": [
            "세대수 297075 인구수 636721 남성인구수 312544 여성인구수 324177\n"
          ]
        }
      ]
    },
    {
      "cell_type": "code",
      "source": [
        "from logging import Manager\n",
        "f = open('전북특별자치도 전주시_인구현황_20241201.csv', 'r', encoding = 'cp949')\n",
        "\n",
        "import csv\n",
        "rdr = csv.reader(f)\n",
        "\n",
        "house = 0\n",
        "population = 0\n",
        "man = 0\n",
        "woman = 0\n",
        "cnt = 0\n",
        "for line in rdr:\n",
        "    if cnt == 0:\n",
        "        cnt = 1\n",
        "        continue\n",
        "    house += int(line[1])\n",
        "    population +=  int(line[2])\n",
        "    man += int(line[3])\n",
        "    woman += int(line[4])\n",
        "print(\"세대수\", house, \"인구수\", population, \"남성인구수\", man, \"여성인구수\", woman)\n",
        "f.close()"
      ],
      "metadata": {
        "colab": {
          "base_uri": "https://localhost:8080/"
        },
        "id": "pwcrKgarn8Dv",
        "outputId": "bea87902-5427-4b00-bf54-cc9c3aa27522"
      },
      "execution_count": null,
      "outputs": [
        {
          "output_type": "stream",
          "name": "stdout",
          "text": [
            "세대수 297075 인구수 636721 남성인구수 312544 여성인구수 324177\n"
          ]
        }
      ]
    },
    {
      "cell_type": "code",
      "source": [
        "import csv\n",
        "\n",
        "f = open('writer.csv', 'w', encoding = 'cp949', newline = '')\n",
        "\n",
        "wr = csv.writer(f)\n",
        "\n",
        "wr.writerow(['ID', '이름', '상징색', '취미', '특징'])\n",
        "wr.writerow(['001', '뽀로로', '파랑색', '낚시', '펭귄'])\n",
        "wr.writerow(['002', '에디', '주황색', '과학실험', '사막여우'])\n",
        "wr.writerow(['003', '크롱', '초록색', '눈싸움', '공룡'])\n",
        "wr.writerow(['004', '루피', '분홍색', '요리', '비버'])\n",
        "wr.writerow(['005', '패티', '보라색', '운동', '펭귄'])\n",
        "\n",
        "f.close( )"
      ],
      "metadata": {
        "id": "b5UyEohergTU"
      },
      "execution_count": null,
      "outputs": []
    },
    {
      "cell_type": "code",
      "source": [
        "f = open('writer.csv', 'a', encoding = 'cp949', newline ='')\n",
        "wr = csv.writer(f)\n",
        "\n",
        "wr.writerow(['006', ' 포비', ' 흰색', '춤', '북극곰'])\n",
        "f.close()"
      ],
      "metadata": {
        "id": "fWSTzxRktCx5"
      },
      "execution_count": null,
      "outputs": []
    },
    {
      "cell_type": "code",
      "source": [
        "from google.colab import files\n",
        "f = files.upload( )"
      ],
      "metadata": {
        "colab": {
          "base_uri": "https://localhost:8080/",
          "height": 76
        },
        "id": "-zpRZR-zuhzf",
        "outputId": "85b2217e-4993-428a-fa25-28dd37db44f9"
      },
      "execution_count": null,
      "outputs": [
        {
          "output_type": "display_data",
          "data": {
            "text/plain": [
              "<IPython.core.display.HTML object>"
            ],
            "text/html": [
              "\n",
              "     <input type=\"file\" id=\"files-ab24d423-bd4b-46d2-a6e8-83c2972d5f17\" name=\"files[]\" multiple disabled\n",
              "        style=\"border:none\" />\n",
              "     <output id=\"result-ab24d423-bd4b-46d2-a6e8-83c2972d5f17\">\n",
              "      Upload widget is only available when the cell has been executed in the\n",
              "      current browser session. Please rerun this cell to enable.\n",
              "      </output>\n",
              "      <script>// Copyright 2017 Google LLC\n",
              "//\n",
              "// Licensed under the Apache License, Version 2.0 (the \"License\");\n",
              "// you may not use this file except in compliance with the License.\n",
              "// You may obtain a copy of the License at\n",
              "//\n",
              "//      http://www.apache.org/licenses/LICENSE-2.0\n",
              "//\n",
              "// Unless required by applicable law or agreed to in writing, software\n",
              "// distributed under the License is distributed on an \"AS IS\" BASIS,\n",
              "// WITHOUT WARRANTIES OR CONDITIONS OF ANY KIND, either express or implied.\n",
              "// See the License for the specific language governing permissions and\n",
              "// limitations under the License.\n",
              "\n",
              "/**\n",
              " * @fileoverview Helpers for google.colab Python module.\n",
              " */\n",
              "(function(scope) {\n",
              "function span(text, styleAttributes = {}) {\n",
              "  const element = document.createElement('span');\n",
              "  element.textContent = text;\n",
              "  for (const key of Object.keys(styleAttributes)) {\n",
              "    element.style[key] = styleAttributes[key];\n",
              "  }\n",
              "  return element;\n",
              "}\n",
              "\n",
              "// Max number of bytes which will be uploaded at a time.\n",
              "const MAX_PAYLOAD_SIZE = 100 * 1024;\n",
              "\n",
              "function _uploadFiles(inputId, outputId) {\n",
              "  const steps = uploadFilesStep(inputId, outputId);\n",
              "  const outputElement = document.getElementById(outputId);\n",
              "  // Cache steps on the outputElement to make it available for the next call\n",
              "  // to uploadFilesContinue from Python.\n",
              "  outputElement.steps = steps;\n",
              "\n",
              "  return _uploadFilesContinue(outputId);\n",
              "}\n",
              "\n",
              "// This is roughly an async generator (not supported in the browser yet),\n",
              "// where there are multiple asynchronous steps and the Python side is going\n",
              "// to poll for completion of each step.\n",
              "// This uses a Promise to block the python side on completion of each step,\n",
              "// then passes the result of the previous step as the input to the next step.\n",
              "function _uploadFilesContinue(outputId) {\n",
              "  const outputElement = document.getElementById(outputId);\n",
              "  const steps = outputElement.steps;\n",
              "\n",
              "  const next = steps.next(outputElement.lastPromiseValue);\n",
              "  return Promise.resolve(next.value.promise).then((value) => {\n",
              "    // Cache the last promise value to make it available to the next\n",
              "    // step of the generator.\n",
              "    outputElement.lastPromiseValue = value;\n",
              "    return next.value.response;\n",
              "  });\n",
              "}\n",
              "\n",
              "/**\n",
              " * Generator function which is called between each async step of the upload\n",
              " * process.\n",
              " * @param {string} inputId Element ID of the input file picker element.\n",
              " * @param {string} outputId Element ID of the output display.\n",
              " * @return {!Iterable<!Object>} Iterable of next steps.\n",
              " */\n",
              "function* uploadFilesStep(inputId, outputId) {\n",
              "  const inputElement = document.getElementById(inputId);\n",
              "  inputElement.disabled = false;\n",
              "\n",
              "  const outputElement = document.getElementById(outputId);\n",
              "  outputElement.innerHTML = '';\n",
              "\n",
              "  const pickedPromise = new Promise((resolve) => {\n",
              "    inputElement.addEventListener('change', (e) => {\n",
              "      resolve(e.target.files);\n",
              "    });\n",
              "  });\n",
              "\n",
              "  const cancel = document.createElement('button');\n",
              "  inputElement.parentElement.appendChild(cancel);\n",
              "  cancel.textContent = 'Cancel upload';\n",
              "  const cancelPromise = new Promise((resolve) => {\n",
              "    cancel.onclick = () => {\n",
              "      resolve(null);\n",
              "    };\n",
              "  });\n",
              "\n",
              "  // Wait for the user to pick the files.\n",
              "  const files = yield {\n",
              "    promise: Promise.race([pickedPromise, cancelPromise]),\n",
              "    response: {\n",
              "      action: 'starting',\n",
              "    }\n",
              "  };\n",
              "\n",
              "  cancel.remove();\n",
              "\n",
              "  // Disable the input element since further picks are not allowed.\n",
              "  inputElement.disabled = true;\n",
              "\n",
              "  if (!files) {\n",
              "    return {\n",
              "      response: {\n",
              "        action: 'complete',\n",
              "      }\n",
              "    };\n",
              "  }\n",
              "\n",
              "  for (const file of files) {\n",
              "    const li = document.createElement('li');\n",
              "    li.append(span(file.name, {fontWeight: 'bold'}));\n",
              "    li.append(span(\n",
              "        `(${file.type || 'n/a'}) - ${file.size} bytes, ` +\n",
              "        `last modified: ${\n",
              "            file.lastModifiedDate ? file.lastModifiedDate.toLocaleDateString() :\n",
              "                                    'n/a'} - `));\n",
              "    const percent = span('0% done');\n",
              "    li.appendChild(percent);\n",
              "\n",
              "    outputElement.appendChild(li);\n",
              "\n",
              "    const fileDataPromise = new Promise((resolve) => {\n",
              "      const reader = new FileReader();\n",
              "      reader.onload = (e) => {\n",
              "        resolve(e.target.result);\n",
              "      };\n",
              "      reader.readAsArrayBuffer(file);\n",
              "    });\n",
              "    // Wait for the data to be ready.\n",
              "    let fileData = yield {\n",
              "      promise: fileDataPromise,\n",
              "      response: {\n",
              "        action: 'continue',\n",
              "      }\n",
              "    };\n",
              "\n",
              "    // Use a chunked sending to avoid message size limits. See b/62115660.\n",
              "    let position = 0;\n",
              "    do {\n",
              "      const length = Math.min(fileData.byteLength - position, MAX_PAYLOAD_SIZE);\n",
              "      const chunk = new Uint8Array(fileData, position, length);\n",
              "      position += length;\n",
              "\n",
              "      const base64 = btoa(String.fromCharCode.apply(null, chunk));\n",
              "      yield {\n",
              "        response: {\n",
              "          action: 'append',\n",
              "          file: file.name,\n",
              "          data: base64,\n",
              "        },\n",
              "      };\n",
              "\n",
              "      let percentDone = fileData.byteLength === 0 ?\n",
              "          100 :\n",
              "          Math.round((position / fileData.byteLength) * 100);\n",
              "      percent.textContent = `${percentDone}% done`;\n",
              "\n",
              "    } while (position < fileData.byteLength);\n",
              "  }\n",
              "\n",
              "  // All done.\n",
              "  yield {\n",
              "    response: {\n",
              "      action: 'complete',\n",
              "    }\n",
              "  };\n",
              "}\n",
              "\n",
              "scope.google = scope.google || {};\n",
              "scope.google.colab = scope.google.colab || {};\n",
              "scope.google.colab._files = {\n",
              "  _uploadFiles,\n",
              "  _uploadFilesContinue,\n",
              "};\n",
              "})(self);\n",
              "</script> "
            ]
          },
          "metadata": {}
        },
        {
          "output_type": "stream",
          "name": "stdout",
          "text": [
            "Saving characters.csv to characters (1).csv\n"
          ]
        }
      ]
    },
    {
      "cell_type": "code",
      "source": [
        "!pip install openpyxl"
      ],
      "metadata": {
        "colab": {
          "base_uri": "https://localhost:8080/"
        },
        "id": "EULW95GQu1bl",
        "outputId": "d19dab29-afa7-4191-a6d8-e72f3cee4366"
      },
      "execution_count": null,
      "outputs": [
        {
          "output_type": "stream",
          "name": "stdout",
          "text": [
            "Requirement already satisfied: openpyxl in /usr/local/lib/python3.11/dist-packages (3.1.5)\n",
            "Requirement already satisfied: et-xmlfile in /usr/local/lib/python3.11/dist-packages (from openpyxl) (2.0.0)\n"
          ]
        }
      ]
    },
    {
      "cell_type": "code",
      "source": [
        "import openpyxl\n",
        "\n",
        "wb = openpyxl.load_workbook('characters.xlsx')"
      ],
      "metadata": {
        "id": "W0jWY_sGvRy3"
      },
      "execution_count": null,
      "outputs": []
    },
    {
      "cell_type": "code",
      "source": [
        "print(wb.sheetnames)"
      ],
      "metadata": {
        "colab": {
          "base_uri": "https://localhost:8080/"
        },
        "id": "EjOiyvlLwGqD",
        "outputId": "c1ceb252-d01b-4801-ca2a-971a35494240"
      },
      "execution_count": null,
      "outputs": [
        {
          "output_type": "stream",
          "name": "stdout",
          "text": [
            "['characters']\n"
          ]
        }
      ]
    },
    {
      "cell_type": "code",
      "source": [
        "sheet1 = wb['characters']\n",
        "print(sheet1['A1'].value)"
      ],
      "metadata": {
        "colab": {
          "base_uri": "https://localhost:8080/"
        },
        "id": "9RodEBakvwbd",
        "outputId": "402bebe5-37f1-4c6d-ef64-43b09e18e734"
      },
      "execution_count": null,
      "outputs": [
        {
          "output_type": "stream",
          "name": "stdout",
          "text": [
            "ID\n"
          ]
        }
      ]
    },
    {
      "cell_type": "code",
      "source": [
        "wb = openpyxl.Workbook()"
      ],
      "metadata": {
        "id": "aTPasNG7w8Dt"
      },
      "execution_count": null,
      "outputs": []
    },
    {
      "cell_type": "code",
      "source": [
        "wb.create_sheet('Sheet2')\n",
        "print(wb.sheetnames)"
      ],
      "metadata": {
        "colab": {
          "base_uri": "https://localhost:8080/"
        },
        "id": "3ZK1aJTjxF1n",
        "outputId": "5725dc3c-7d2b-4c96-d0f1-315536fb5204"
      },
      "execution_count": null,
      "outputs": [
        {
          "output_type": "stream",
          "name": "stdout",
          "text": [
            "['Sheet', 'Sheet2']\n"
          ]
        }
      ]
    },
    {
      "cell_type": "code",
      "source": [
        "sheet1 = wb['Sheet']\n",
        "sheet2 = wb['Sheet2']\n",
        "\n",
        "sheet1.title = '캐릭터 명단'\n",
        "sheet2.title = '인기도 조사'\n",
        "\n",
        "print(wb.sheetnames)"
      ],
      "metadata": {
        "colab": {
          "base_uri": "https://localhost:8080/"
        },
        "id": "j1fUBAoxxgbu",
        "outputId": "20db6f5d-bc97-4b86-fca2-65b5f0348bfc"
      },
      "execution_count": null,
      "outputs": [
        {
          "output_type": "stream",
          "name": "stdout",
          "text": [
            "['캐릭터 명단', '인기도 조사']\n"
          ]
        }
      ]
    },
    {
      "cell_type": "code",
      "source": [
        "sheet2['B1'] = '인기도 조사결과'\n",
        "print(sheet2['B1'].value)"
      ],
      "metadata": {
        "colab": {
          "base_uri": "https://localhost:8080/"
        },
        "id": "fRJULCtWyMfh",
        "outputId": "09ee4a24-b5b6-44d7-d5a2-8972b3bf321d"
      },
      "execution_count": null,
      "outputs": [
        {
          "output_type": "stream",
          "name": "stdout",
          "text": [
            "인기도 조사결과\n"
          ]
        }
      ]
    },
    {
      "cell_type": "code",
      "source": [
        "copysheet = wb.copy_worksheet(sheet2)\n",
        "print(wb.sheetnames)\n",
        "\n",
        "copysheet.title = 'copy'\n",
        "\n",
        "print(wb.sheetnames)\n",
        "print(copysheet['B1'].value)"
      ],
      "metadata": {
        "colab": {
          "base_uri": "https://localhost:8080/"
        },
        "id": "ANLUn3xszwHy",
        "outputId": "a5709264-878d-4946-beea-dd39e6b3ad34"
      },
      "execution_count": null,
      "outputs": [
        {
          "output_type": "stream",
          "name": "stdout",
          "text": [
            "['캐릭터 명단', '인기도 조사', '인기도 조사 Copy']\n",
            "['캐릭터 명단', '인기도 조사', 'copy']\n",
            "인기도 조사결과\n"
          ]
        }
      ]
    },
    {
      "cell_type": "code",
      "source": [
        "wb.save('complete.xlsx')"
      ],
      "metadata": {
        "id": "Wn_TXF4M1GZl"
      },
      "execution_count": null,
      "outputs": []
    },
    {
      "cell_type": "code",
      "source": [
        "def showOneToTen():\n",
        "    for i in range(1,11):\n",
        "        print(i)\n",
        "\n",
        "showOneToTen()"
      ],
      "metadata": {
        "colab": {
          "base_uri": "https://localhost:8080/"
        },
        "id": "mLQgvTx1imtK",
        "outputId": "c9aea58c-818d-4431-f765-f7a8e8f614aa"
      },
      "execution_count": null,
      "outputs": [
        {
          "output_type": "stream",
          "name": "stdout",
          "text": [
            "1\n",
            "2\n",
            "3\n",
            "4\n",
            "5\n",
            "6\n",
            "7\n",
            "8\n",
            "9\n",
            "10\n"
          ]
        }
      ]
    },
    {
      "cell_type": "code",
      "source": [
        "def sum_list(a):\n",
        "    j = 0\n",
        "    for i in a:\n",
        "        j = j + i\n",
        "    print(j)\n",
        "\n",
        "list_a = [1, 2, 3, 4, 5, 6, 7, 8, 9, 10]\n",
        "sum_list(list_a)"
      ],
      "metadata": {
        "colab": {
          "base_uri": "https://localhost:8080/"
        },
        "id": "NzhCnZ3HjGtI",
        "outputId": "741f7573-61cb-434c-ed9a-8a379398a95d"
      },
      "execution_count": null,
      "outputs": [
        {
          "output_type": "stream",
          "name": "stdout",
          "text": [
            "55\n"
          ]
        }
      ]
    },
    {
      "cell_type": "code",
      "source": [
        "def sum_list_r(a):\n",
        "    j = 0\n",
        "    for i in a:\n",
        "        j = j + i\n",
        "    return j\n"
      ],
      "metadata": {
        "id": "492e_XnEkBxB"
      },
      "execution_count": null,
      "outputs": []
    },
    {
      "cell_type": "code",
      "source": [
        "import csv\n",
        "\n",
        "f = open('weather.csv', 'w', newline = '')\n",
        "wr = csv.writer(f)\n",
        "wr.writerow(['날짜', '요일', '날씨', '최저기온' , '최고기온', '강수량'])\n",
        "wr.writerow(['20230101', '월', '맑음', '-4.3', '-3.8', '0'])\n",
        "wr.writerow(['20230102', '화', '맑음', '-7.4', '0.4', '0'])\n",
        "wr.writerow(['20230103', '수','맑음', '-9.0', '0.6', '0'])\n",
        "f.close()"
      ],
      "metadata": {
        "id": "Qs_wu4aizG3R"
      },
      "execution_count": 91,
      "outputs": []
    },
    {
      "cell_type": "code",
      "source": [
        "a = '23,450,000'\n",
        "print(a)\n",
        "a = a.replace(',','')\n",
        "a = int(a)\n",
        "print(a)"
      ],
      "metadata": {
        "colab": {
          "base_uri": "https://localhost:8080/"
        },
        "id": "F5t60nf56mQ_",
        "outputId": "a1f5981c-fc4f-42ca-e76f-6731c2f18252"
      },
      "execution_count": null,
      "outputs": [
        {
          "output_type": "stream",
          "name": "stdout",
          "text": [
            "23,450,000\n",
            "23450000\n"
          ]
        }
      ]
    },
    {
      "cell_type": "code",
      "source": [
        "from google.colab import files\n",
        "f = files.upload()"
      ],
      "metadata": {
        "colab": {
          "base_uri": "https://localhost:8080/",
          "height": 145
        },
        "id": "wUvzkpFC18TD",
        "outputId": "e85c1815-f566-4cbe-d8a9-73e7036eb2d1"
      },
      "execution_count": null,
      "outputs": [
        {
          "output_type": "display_data",
          "data": {
            "text/plain": [
              "<IPython.core.display.HTML object>"
            ],
            "text/html": [
              "\n",
              "     <input type=\"file\" id=\"files-7bf3cf72-4333-4f4c-86b3-a77078e9fe5c\" name=\"files[]\" multiple disabled\n",
              "        style=\"border:none\" />\n",
              "     <output id=\"result-7bf3cf72-4333-4f4c-86b3-a77078e9fe5c\">\n",
              "      Upload widget is only available when the cell has been executed in the\n",
              "      current browser session. Please rerun this cell to enable.\n",
              "      </output>\n",
              "      <script>// Copyright 2017 Google LLC\n",
              "//\n",
              "// Licensed under the Apache License, Version 2.0 (the \"License\");\n",
              "// you may not use this file except in compliance with the License.\n",
              "// You may obtain a copy of the License at\n",
              "//\n",
              "//      http://www.apache.org/licenses/LICENSE-2.0\n",
              "//\n",
              "// Unless required by applicable law or agreed to in writing, software\n",
              "// distributed under the License is distributed on an \"AS IS\" BASIS,\n",
              "// WITHOUT WARRANTIES OR CONDITIONS OF ANY KIND, either express or implied.\n",
              "// See the License for the specific language governing permissions and\n",
              "// limitations under the License.\n",
              "\n",
              "/**\n",
              " * @fileoverview Helpers for google.colab Python module.\n",
              " */\n",
              "(function(scope) {\n",
              "function span(text, styleAttributes = {}) {\n",
              "  const element = document.createElement('span');\n",
              "  element.textContent = text;\n",
              "  for (const key of Object.keys(styleAttributes)) {\n",
              "    element.style[key] = styleAttributes[key];\n",
              "  }\n",
              "  return element;\n",
              "}\n",
              "\n",
              "// Max number of bytes which will be uploaded at a time.\n",
              "const MAX_PAYLOAD_SIZE = 100 * 1024;\n",
              "\n",
              "function _uploadFiles(inputId, outputId) {\n",
              "  const steps = uploadFilesStep(inputId, outputId);\n",
              "  const outputElement = document.getElementById(outputId);\n",
              "  // Cache steps on the outputElement to make it available for the next call\n",
              "  // to uploadFilesContinue from Python.\n",
              "  outputElement.steps = steps;\n",
              "\n",
              "  return _uploadFilesContinue(outputId);\n",
              "}\n",
              "\n",
              "// This is roughly an async generator (not supported in the browser yet),\n",
              "// where there are multiple asynchronous steps and the Python side is going\n",
              "// to poll for completion of each step.\n",
              "// This uses a Promise to block the python side on completion of each step,\n",
              "// then passes the result of the previous step as the input to the next step.\n",
              "function _uploadFilesContinue(outputId) {\n",
              "  const outputElement = document.getElementById(outputId);\n",
              "  const steps = outputElement.steps;\n",
              "\n",
              "  const next = steps.next(outputElement.lastPromiseValue);\n",
              "  return Promise.resolve(next.value.promise).then((value) => {\n",
              "    // Cache the last promise value to make it available to the next\n",
              "    // step of the generator.\n",
              "    outputElement.lastPromiseValue = value;\n",
              "    return next.value.response;\n",
              "  });\n",
              "}\n",
              "\n",
              "/**\n",
              " * Generator function which is called between each async step of the upload\n",
              " * process.\n",
              " * @param {string} inputId Element ID of the input file picker element.\n",
              " * @param {string} outputId Element ID of the output display.\n",
              " * @return {!Iterable<!Object>} Iterable of next steps.\n",
              " */\n",
              "function* uploadFilesStep(inputId, outputId) {\n",
              "  const inputElement = document.getElementById(inputId);\n",
              "  inputElement.disabled = false;\n",
              "\n",
              "  const outputElement = document.getElementById(outputId);\n",
              "  outputElement.innerHTML = '';\n",
              "\n",
              "  const pickedPromise = new Promise((resolve) => {\n",
              "    inputElement.addEventListener('change', (e) => {\n",
              "      resolve(e.target.files);\n",
              "    });\n",
              "  });\n",
              "\n",
              "  const cancel = document.createElement('button');\n",
              "  inputElement.parentElement.appendChild(cancel);\n",
              "  cancel.textContent = 'Cancel upload';\n",
              "  const cancelPromise = new Promise((resolve) => {\n",
              "    cancel.onclick = () => {\n",
              "      resolve(null);\n",
              "    };\n",
              "  });\n",
              "\n",
              "  // Wait for the user to pick the files.\n",
              "  const files = yield {\n",
              "    promise: Promise.race([pickedPromise, cancelPromise]),\n",
              "    response: {\n",
              "      action: 'starting',\n",
              "    }\n",
              "  };\n",
              "\n",
              "  cancel.remove();\n",
              "\n",
              "  // Disable the input element since further picks are not allowed.\n",
              "  inputElement.disabled = true;\n",
              "\n",
              "  if (!files) {\n",
              "    return {\n",
              "      response: {\n",
              "        action: 'complete',\n",
              "      }\n",
              "    };\n",
              "  }\n",
              "\n",
              "  for (const file of files) {\n",
              "    const li = document.createElement('li');\n",
              "    li.append(span(file.name, {fontWeight: 'bold'}));\n",
              "    li.append(span(\n",
              "        `(${file.type || 'n/a'}) - ${file.size} bytes, ` +\n",
              "        `last modified: ${\n",
              "            file.lastModifiedDate ? file.lastModifiedDate.toLocaleDateString() :\n",
              "                                    'n/a'} - `));\n",
              "    const percent = span('0% done');\n",
              "    li.appendChild(percent);\n",
              "\n",
              "    outputElement.appendChild(li);\n",
              "\n",
              "    const fileDataPromise = new Promise((resolve) => {\n",
              "      const reader = new FileReader();\n",
              "      reader.onload = (e) => {\n",
              "        resolve(e.target.result);\n",
              "      };\n",
              "      reader.readAsArrayBuffer(file);\n",
              "    });\n",
              "    // Wait for the data to be ready.\n",
              "    let fileData = yield {\n",
              "      promise: fileDataPromise,\n",
              "      response: {\n",
              "        action: 'continue',\n",
              "      }\n",
              "    };\n",
              "\n",
              "    // Use a chunked sending to avoid message size limits. See b/62115660.\n",
              "    let position = 0;\n",
              "    do {\n",
              "      const length = Math.min(fileData.byteLength - position, MAX_PAYLOAD_SIZE);\n",
              "      const chunk = new Uint8Array(fileData, position, length);\n",
              "      position += length;\n",
              "\n",
              "      const base64 = btoa(String.fromCharCode.apply(null, chunk));\n",
              "      yield {\n",
              "        response: {\n",
              "          action: 'append',\n",
              "          file: file.name,\n",
              "          data: base64,\n",
              "        },\n",
              "      };\n",
              "\n",
              "      let percentDone = fileData.byteLength === 0 ?\n",
              "          100 :\n",
              "          Math.round((position / fileData.byteLength) * 100);\n",
              "      percent.textContent = `${percentDone}% done`;\n",
              "\n",
              "    } while (position < fileData.byteLength);\n",
              "  }\n",
              "\n",
              "  // All done.\n",
              "  yield {\n",
              "    response: {\n",
              "      action: 'complete',\n",
              "    }\n",
              "  };\n",
              "}\n",
              "\n",
              "scope.google = scope.google || {};\n",
              "scope.google.colab = scope.google.colab || {};\n",
              "scope.google.colab._files = {\n",
              "  _uploadFiles,\n",
              "  _uploadFilesContinue,\n",
              "};\n",
              "})(self);\n",
              "</script> "
            ]
          },
          "metadata": {}
        },
        {
          "output_type": "stream",
          "name": "stdout",
          "text": [
            "Saving data2.csv to data2.csv\n",
            "Saving data1.csv to data1.csv\n",
            "Saving data3.csv to data3.csv\n"
          ]
        }
      ]
    },
    {
      "cell_type": "code",
      "source": [
        "import openpyxl\n",
        "import csv\n",
        "\n",
        "wb = openpyxl.Workbook()\n",
        "ws = wb.active\n",
        "\n",
        "with open('data1.csv', encoding = 'cp949') as f:\n",
        "    reader = csv.reader(f)\n",
        "    for row in reader:\n",
        "        ws.append(row)\n",
        "\n",
        "ws2 = wb.create_sheet('Sheet2')\n",
        "with open('data2.csv', encoding = 'cp949') as f:\n",
        "    reader = csv.reader(f)\n",
        "    for row in reader:\n",
        "        ws2.append(row)\n",
        "\n",
        "ws3 = wb.create_sheet('Sheet3')\n",
        "with open('data3.csv', encoding = 'cp949') as f:\n",
        "    reader = csv.reader(f)\n",
        "    for row in reader:\n",
        "        ws3.append(row)\n",
        "\n",
        "ws.title = '경기도 의정부시 의정부경전철 혼잡도'\n",
        "ws2.title = '대전교통공사 열차 혼잡도 분석'\n",
        "ws3.title = '서울특별시 지하철 혼잡도 정보'\n",
        "wb.save('traffic.xlsx')"
      ],
      "metadata": {
        "id": "77XjlF71-ID3"
      },
      "execution_count": null,
      "outputs": []
    },
    {
      "cell_type": "code",
      "source": [
        "def check_prime_num(x):\n",
        "    for i in range(2, x):\n",
        "        if x % i == 0:\n",
        "            return False\n",
        "        return True\n",
        "\n",
        "number = int(input('판별할자연수를입력하세요:'))\n",
        "print(check_prime_num(number))"
      ],
      "metadata": {
        "colab": {
          "base_uri": "https://localhost:8080/"
        },
        "id": "F5rf8O7YagFZ",
        "outputId": "80f46852-8a76-4e5a-f068-3993376c5b2b"
      },
      "execution_count": null,
      "outputs": [
        {
          "output_type": "stream",
          "name": "stdout",
          "text": [
            "판별할자연수를입력하세요:152\n",
            "False\n"
          ]
        }
      ]
    },
    {
      "cell_type": "code",
      "source": [
        "def interest_year(p, r, n):\n",
        "    return p * (1+r)**n\n",
        "p = 30000000\n",
        "r = 0.051\n",
        "n = 3\n",
        "result = interest_year(p, r, n)\n",
        "\n",
        "print(\"원금:\", p, \"이자:\", result-p)"
      ],
      "metadata": {
        "colab": {
          "base_uri": "https://localhost:8080/"
        },
        "id": "SMo2Rp_XcJXb",
        "outputId": "f9860218-2e5d-4035-f9e3-8ca25500989b"
      },
      "execution_count": null,
      "outputs": [
        {
          "output_type": "stream",
          "name": "stdout",
          "text": [
            "원금: 30000000 이자: 4828069.529999994\n"
          ]
        }
      ]
    },
    {
      "cell_type": "code",
      "source": [
        "import numpy as np\n",
        "import pandas as pd\n",
        "\n",
        "height = [170, 160 ,150, 140, 180 ,200]\n",
        "\n",
        "minHeight = np.min(height)\n",
        "print(minHeight)\n",
        "\n",
        "maxHeight = np.max(height)\n",
        "print(maxHeight)\n",
        "\n",
        "meanHeight = np.average(height)\n",
        "print(meanHeight)\n",
        "\n",
        "stdHeight = np.std(height)\n",
        "print(stdHeight)\n",
        "\n",
        "sumHeight = np.sum(height)\n",
        "print(sumHeight)"
      ],
      "metadata": {
        "colab": {
          "base_uri": "https://localhost:8080/"
        },
        "id": "DvyZebfPmW7-",
        "outputId": "4ab92739-e509-4418-b138-f533eaf3820b"
      },
      "execution_count": null,
      "outputs": [
        {
          "output_type": "stream",
          "name": "stdout",
          "text": [
            "140\n",
            "200\n",
            "166.66666666666666\n",
            "19.72026594366539\n",
            "1000\n"
          ]
        }
      ]
    },
    {
      "cell_type": "code",
      "source": [
        "from google.colab import files\n",
        "f = files.upload()"
      ],
      "metadata": {
        "colab": {
          "base_uri": "https://localhost:8080/",
          "height": 76
        },
        "id": "zy7Ehy3TpOcC",
        "outputId": "ffbe7db7-35a5-42f4-fd22-eafa473c9900"
      },
      "execution_count": null,
      "outputs": [
        {
          "output_type": "display_data",
          "data": {
            "text/plain": [
              "<IPython.core.display.HTML object>"
            ],
            "text/html": [
              "\n",
              "     <input type=\"file\" id=\"files-0b31d793-f916-4992-a9ef-320cc7238531\" name=\"files[]\" multiple disabled\n",
              "        style=\"border:none\" />\n",
              "     <output id=\"result-0b31d793-f916-4992-a9ef-320cc7238531\">\n",
              "      Upload widget is only available when the cell has been executed in the\n",
              "      current browser session. Please rerun this cell to enable.\n",
              "      </output>\n",
              "      <script>// Copyright 2017 Google LLC\n",
              "//\n",
              "// Licensed under the Apache License, Version 2.0 (the \"License\");\n",
              "// you may not use this file except in compliance with the License.\n",
              "// You may obtain a copy of the License at\n",
              "//\n",
              "//      http://www.apache.org/licenses/LICENSE-2.0\n",
              "//\n",
              "// Unless required by applicable law or agreed to in writing, software\n",
              "// distributed under the License is distributed on an \"AS IS\" BASIS,\n",
              "// WITHOUT WARRANTIES OR CONDITIONS OF ANY KIND, either express or implied.\n",
              "// See the License for the specific language governing permissions and\n",
              "// limitations under the License.\n",
              "\n",
              "/**\n",
              " * @fileoverview Helpers for google.colab Python module.\n",
              " */\n",
              "(function(scope) {\n",
              "function span(text, styleAttributes = {}) {\n",
              "  const element = document.createElement('span');\n",
              "  element.textContent = text;\n",
              "  for (const key of Object.keys(styleAttributes)) {\n",
              "    element.style[key] = styleAttributes[key];\n",
              "  }\n",
              "  return element;\n",
              "}\n",
              "\n",
              "// Max number of bytes which will be uploaded at a time.\n",
              "const MAX_PAYLOAD_SIZE = 100 * 1024;\n",
              "\n",
              "function _uploadFiles(inputId, outputId) {\n",
              "  const steps = uploadFilesStep(inputId, outputId);\n",
              "  const outputElement = document.getElementById(outputId);\n",
              "  // Cache steps on the outputElement to make it available for the next call\n",
              "  // to uploadFilesContinue from Python.\n",
              "  outputElement.steps = steps;\n",
              "\n",
              "  return _uploadFilesContinue(outputId);\n",
              "}\n",
              "\n",
              "// This is roughly an async generator (not supported in the browser yet),\n",
              "// where there are multiple asynchronous steps and the Python side is going\n",
              "// to poll for completion of each step.\n",
              "// This uses a Promise to block the python side on completion of each step,\n",
              "// then passes the result of the previous step as the input to the next step.\n",
              "function _uploadFilesContinue(outputId) {\n",
              "  const outputElement = document.getElementById(outputId);\n",
              "  const steps = outputElement.steps;\n",
              "\n",
              "  const next = steps.next(outputElement.lastPromiseValue);\n",
              "  return Promise.resolve(next.value.promise).then((value) => {\n",
              "    // Cache the last promise value to make it available to the next\n",
              "    // step of the generator.\n",
              "    outputElement.lastPromiseValue = value;\n",
              "    return next.value.response;\n",
              "  });\n",
              "}\n",
              "\n",
              "/**\n",
              " * Generator function which is called between each async step of the upload\n",
              " * process.\n",
              " * @param {string} inputId Element ID of the input file picker element.\n",
              " * @param {string} outputId Element ID of the output display.\n",
              " * @return {!Iterable<!Object>} Iterable of next steps.\n",
              " */\n",
              "function* uploadFilesStep(inputId, outputId) {\n",
              "  const inputElement = document.getElementById(inputId);\n",
              "  inputElement.disabled = false;\n",
              "\n",
              "  const outputElement = document.getElementById(outputId);\n",
              "  outputElement.innerHTML = '';\n",
              "\n",
              "  const pickedPromise = new Promise((resolve) => {\n",
              "    inputElement.addEventListener('change', (e) => {\n",
              "      resolve(e.target.files);\n",
              "    });\n",
              "  });\n",
              "\n",
              "  const cancel = document.createElement('button');\n",
              "  inputElement.parentElement.appendChild(cancel);\n",
              "  cancel.textContent = 'Cancel upload';\n",
              "  const cancelPromise = new Promise((resolve) => {\n",
              "    cancel.onclick = () => {\n",
              "      resolve(null);\n",
              "    };\n",
              "  });\n",
              "\n",
              "  // Wait for the user to pick the files.\n",
              "  const files = yield {\n",
              "    promise: Promise.race([pickedPromise, cancelPromise]),\n",
              "    response: {\n",
              "      action: 'starting',\n",
              "    }\n",
              "  };\n",
              "\n",
              "  cancel.remove();\n",
              "\n",
              "  // Disable the input element since further picks are not allowed.\n",
              "  inputElement.disabled = true;\n",
              "\n",
              "  if (!files) {\n",
              "    return {\n",
              "      response: {\n",
              "        action: 'complete',\n",
              "      }\n",
              "    };\n",
              "  }\n",
              "\n",
              "  for (const file of files) {\n",
              "    const li = document.createElement('li');\n",
              "    li.append(span(file.name, {fontWeight: 'bold'}));\n",
              "    li.append(span(\n",
              "        `(${file.type || 'n/a'}) - ${file.size} bytes, ` +\n",
              "        `last modified: ${\n",
              "            file.lastModifiedDate ? file.lastModifiedDate.toLocaleDateString() :\n",
              "                                    'n/a'} - `));\n",
              "    const percent = span('0% done');\n",
              "    li.appendChild(percent);\n",
              "\n",
              "    outputElement.appendChild(li);\n",
              "\n",
              "    const fileDataPromise = new Promise((resolve) => {\n",
              "      const reader = new FileReader();\n",
              "      reader.onload = (e) => {\n",
              "        resolve(e.target.result);\n",
              "      };\n",
              "      reader.readAsArrayBuffer(file);\n",
              "    });\n",
              "    // Wait for the data to be ready.\n",
              "    let fileData = yield {\n",
              "      promise: fileDataPromise,\n",
              "      response: {\n",
              "        action: 'continue',\n",
              "      }\n",
              "    };\n",
              "\n",
              "    // Use a chunked sending to avoid message size limits. See b/62115660.\n",
              "    let position = 0;\n",
              "    do {\n",
              "      const length = Math.min(fileData.byteLength - position, MAX_PAYLOAD_SIZE);\n",
              "      const chunk = new Uint8Array(fileData, position, length);\n",
              "      position += length;\n",
              "\n",
              "      const base64 = btoa(String.fromCharCode.apply(null, chunk));\n",
              "      yield {\n",
              "        response: {\n",
              "          action: 'append',\n",
              "          file: file.name,\n",
              "          data: base64,\n",
              "        },\n",
              "      };\n",
              "\n",
              "      let percentDone = fileData.byteLength === 0 ?\n",
              "          100 :\n",
              "          Math.round((position / fileData.byteLength) * 100);\n",
              "      percent.textContent = `${percentDone}% done`;\n",
              "\n",
              "    } while (position < fileData.byteLength);\n",
              "  }\n",
              "\n",
              "  // All done.\n",
              "  yield {\n",
              "    response: {\n",
              "      action: 'complete',\n",
              "    }\n",
              "  };\n",
              "}\n",
              "\n",
              "scope.google = scope.google || {};\n",
              "scope.google.colab = scope.google.colab || {};\n",
              "scope.google.colab._files = {\n",
              "  _uploadFiles,\n",
              "  _uploadFilesContinue,\n",
              "};\n",
              "})(self);\n",
              "</script> "
            ]
          },
          "metadata": {}
        },
        {
          "output_type": "stream",
          "name": "stdout",
          "text": [
            "Saving gni.xlsx to gni.xlsx\n"
          ]
        }
      ]
    },
    {
      "cell_type": "code",
      "source": [
        "import openpyxl\n",
        "wb = openpyxl.load_workbook('gni.xlsx')"
      ],
      "metadata": {
        "id": "W7OdU2HMpgdq"
      },
      "execution_count": null,
      "outputs": []
    },
    {
      "cell_type": "code",
      "source": [
        "print(wb.sheetnames)\n",
        "load_ws = wb['Sheet1']\n",
        "gni = []\n",
        "cnt = 0\n",
        "for row in load_ws.rows:\n",
        "    if cnt == 0:\n",
        "        cnt += 1\n",
        "        continue\n",
        "    row_value = []\n",
        "    for cell in row:\n",
        "        row_value.append(cell.value)\n",
        "    gni.append(float(row_value[1].replace(',','')))\n",
        "\n",
        "    print(row_value)\n",
        "\n",
        "print(gni)"
      ],
      "metadata": {
        "colab": {
          "base_uri": "https://localhost:8080/"
        },
        "id": "Sa_1uGMqp25f",
        "outputId": "dcc65aec-5f01-4416-989e-2120b2639246"
      },
      "execution_count": null,
      "outputs": [
        {
          "output_type": "stream",
          "name": "stdout",
          "text": [
            "['Sheet1']\n",
            "[2014, '3,094.8']\n",
            "['2015', '3,260.2']\n",
            "['2016', '3,411.2']\n",
            "['2017', '3,588.6']\n",
            "['2018', '3,693.0']\n",
            "['2019', '3,753.9']\n",
            "['2020', '3,776.6']\n",
            "['2021', '4,065.4']\n",
            "['2022p', '4,248.7']\n",
            "['2023p', '4,405.1']\n",
            "[3094.8, 3260.2, 3411.2, 3588.6, 3693.0, 3753.9, 3776.6, 4065.4, 4248.7, 4405.1]\n"
          ]
        }
      ]
    },
    {
      "cell_type": "code",
      "source": [
        "print(np.min(gni))\n",
        "print(np.max(gni))\n",
        "print(np.average(gni))\n",
        "print(np.std(gni))\n",
        "print(np.sum(gni))\n",
        "gni.sort()\n",
        "print(gni)\n",
        "gni.sort(reverse = True)\n",
        "print(gni)"
      ],
      "metadata": {
        "colab": {
          "base_uri": "https://localhost:8080/"
        },
        "id": "c-Q4i3JTr0Pg",
        "outputId": "a0562a11-9df1-465b-b1af-c8538b433190"
      },
      "execution_count": null,
      "outputs": [
        {
          "output_type": "stream",
          "name": "stdout",
          "text": [
            "3094.8\n",
            "4405.1\n",
            "3729.749999999999\n",
            "398.4008640803883\n",
            "37297.49999999999\n",
            "[3094.8, 3260.2, 3411.2, 3588.6, 3693.0, 3753.9, 3776.6, 4065.4, 4248.7, 4405.1]\n",
            "[4405.1, 4248.7, 4065.4, 3776.6, 3753.9, 3693.0, 3588.6, 3411.2, 3260.2, 3094.8]\n"
          ]
        }
      ]
    },
    {
      "cell_type": "code",
      "source": [
        "import numpy as np\n",
        "\n",
        "list1 = [1, 2, 3, 4]\n",
        "a = np.array(list1)\n",
        "print('a.shape: ', a.shape)\n",
        "print('a.shape: ', a[0])\n",
        "\n",
        "b = np.array([[1, 2, 3], [4, 5, 6]])\n",
        "print(\"b.shape: \", b.shape)\n",
        "print(\"b[0, 0]: \",b[0, 0])\n",
        "print(\"b[0]: \", b[0])"
      ],
      "metadata": {
        "colab": {
          "base_uri": "https://localhost:8080/"
        },
        "id": "Pt6RRxGxsWEJ",
        "outputId": "cf6e6b1b-d4d0-44d3-e55d-77b238971a17"
      },
      "execution_count": null,
      "outputs": [
        {
          "output_type": "stream",
          "name": "stdout",
          "text": [
            "a.shape:  (4,)\n",
            "a.shape:  1\n",
            "b.shape:  (2, 3)\n",
            "b[0, 0]:  1\n",
            "b[0]:  [1 2 3]\n"
          ]
        }
      ]
    },
    {
      "cell_type": "code",
      "source": [
        "a = np.zeros(2)\n",
        "print(\"a\\n\", a)\n",
        "b = np.zeros((2,2))\n",
        "print(\"b\\n\", b)\n",
        "c = np.zeros((2,3))\n",
        "print(\"c\\n\", c)\n",
        "d = np.full((2,3),5)\n",
        "print(\"d\\n\", d)\n",
        "e = np.eye(3)\n",
        "print(\"e\\n\", e)"
      ],
      "metadata": {
        "colab": {
          "base_uri": "https://localhost:8080/"
        },
        "id": "R9gJGL9Ouwkt",
        "outputId": "4581c015-516c-401b-9bb1-087f7f7bb1e9"
      },
      "execution_count": null,
      "outputs": [
        {
          "output_type": "stream",
          "name": "stdout",
          "text": [
            "a\n",
            " [0. 0.]\n",
            "b\n",
            " [[0. 0.]\n",
            " [0. 0.]]\n",
            "c\n",
            " [[0. 0. 0.]\n",
            " [0. 0. 0.]]\n",
            "d\n",
            " [[5 5 5]\n",
            " [5 5 5]]\n",
            "e\n",
            " [[1. 0. 0.]\n",
            " [0. 1. 0.]\n",
            " [0. 0. 1.]]\n"
          ]
        }
      ]
    },
    {
      "cell_type": "code",
      "source": [
        "a = np.array([1, 2], dtype = np.float64)\n",
        "print(a.dtype)\n",
        "a_i8 = a.astype(np.int8)\n",
        "print(a_i8.dtype)"
      ],
      "metadata": {
        "colab": {
          "base_uri": "https://localhost:8080/"
        },
        "id": "BLWBnnUkvaFU",
        "outputId": "de4e0fc0-3226-4550-c8e6-3e3f257ef981"
      },
      "execution_count": null,
      "outputs": [
        {
          "output_type": "stream",
          "name": "stdout",
          "text": [
            "float64\n",
            "int8\n"
          ]
        }
      ]
    },
    {
      "cell_type": "code",
      "source": [
        "arr = np.array([[0, 1, 2], [3, 4, 5]])\n",
        "print('type(arr):', type(arr))\n",
        "print('arr.ndim:', arr.ndim)\n",
        "print('arr.dtype:', arr.dtype)\n",
        "print('arr.itemsize:', arr.itemsize)\n",
        "print('arr.size:', arr.size)\n",
        "print('arr.nbytes:', arr.nbytes)\n",
        "print('arr.T:\\n', arr.T)\n",
        "print('arr.shape:', arr.shape)"
      ],
      "metadata": {
        "colab": {
          "base_uri": "https://localhost:8080/"
        },
        "id": "fzcziimlv-uO",
        "outputId": "eb6bd292-2ef0-4e06-cca7-c695b1bc0ddd"
      },
      "execution_count": null,
      "outputs": [
        {
          "output_type": "stream",
          "name": "stdout",
          "text": [
            "type(arr): <class 'numpy.ndarray'>\n",
            "arr.ndim: 2\n",
            "arr.dtype: int64\n",
            "arr.itemsize: 8\n",
            "arr.size: 6\n",
            "arr.nbytes: 48\n",
            "arr.T:\n",
            " [[0 3]\n",
            " [1 4]\n",
            " [2 5]]\n",
            "arr.shape: (2, 3)\n"
          ]
        }
      ]
    },
    {
      "cell_type": "code",
      "source": [
        "a = np.arange(8)\n",
        "print('a\\n', a)\n",
        "\n",
        "a.shape = (2,4)\n",
        "print('shape\\n', a)\n",
        "print('flatten\\n', a.flatten())\n",
        "\n",
        "a.resize((4,2))\n",
        "print('resize\\n', a)"
      ],
      "metadata": {
        "colab": {
          "base_uri": "https://localhost:8080/"
        },
        "id": "VbWdEPDmwU8h",
        "outputId": "fb8f2e4d-95b0-4739-9027-a5bf128f8e87"
      },
      "execution_count": null,
      "outputs": [
        {
          "output_type": "stream",
          "name": "stdout",
          "text": [
            "a\n",
            " [0 1 2 3 4 5 6 7]\n",
            "shape\n",
            " [[0 1 2 3]\n",
            " [4 5 6 7]]\n",
            "flatten\n",
            " [0 1 2 3 4 5 6 7]\n",
            "resize\n",
            " [[0 1]\n",
            " [2 3]\n",
            " [4 5]\n",
            " [6 7]]\n"
          ]
        }
      ]
    },
    {
      "cell_type": "code",
      "source": [
        "a = np.array([[0, 1, 2], [3, 4, 5]])\n",
        "print('a\\n', a)\n",
        "\n",
        "b = a.transpose()\n",
        "print(\"b\\n\", b)\n",
        "\n",
        "c = a.T\n",
        "print(\"c\\n\", c)"
      ],
      "metadata": {
        "colab": {
          "base_uri": "https://localhost:8080/"
        },
        "id": "lhTTZWpbw40D",
        "outputId": "d4dda4ef-036c-466a-d688-9e84522409d9"
      },
      "execution_count": null,
      "outputs": [
        {
          "output_type": "stream",
          "name": "stdout",
          "text": [
            "a\n",
            " [[0 1 2]\n",
            " [3 4 5]]\n",
            "b\n",
            " [[0 3]\n",
            " [1 4]\n",
            " [2 5]]\n",
            "c\n",
            " [[0 3]\n",
            " [1 4]\n",
            " [2 5]]\n"
          ]
        }
      ]
    },
    {
      "cell_type": "code",
      "source": [
        "mask = np.array([0, 1, 1, 0], dtype = bool)\n",
        "print(mask)\n",
        "\n",
        "data = np.random.randn(4,2)\n",
        "print(\"\\ndata 출력\\n\", data)\n",
        "\n",
        "print('\\n마스킹된 데이터 출력\\n',data[mask])\n",
        "print('\\n마스킹 역전된 데이터 출력\\n',data[~mask])"
      ],
      "metadata": {
        "colab": {
          "base_uri": "https://localhost:8080/"
        },
        "id": "E7FuRWUpxTo9",
        "outputId": "a7a27a3b-7b98-4c1e-90cb-0c7c851bc8f1"
      },
      "execution_count": null,
      "outputs": [
        {
          "output_type": "stream",
          "name": "stdout",
          "text": [
            "[False  True  True False]\n",
            "\n",
            "data 출력\n",
            " [[ 1.20169944  0.29227911]\n",
            " [ 1.16616055  1.31207601]\n",
            " [-1.96630087 -0.42870202]\n",
            " [-0.76155327  1.88005812]]\n",
            "\n",
            "마스킹된 데이터 출력\n",
            " [[ 1.16616055  1.31207601]\n",
            " [-1.96630087 -0.42870202]]\n",
            "\n",
            "마스킹 역전된 데이터 출력\n",
            " [[ 1.20169944  0.29227911]\n",
            " [-0.76155327  1.88005812]]\n"
          ]
        }
      ]
    },
    {
      "cell_type": "code",
      "source": [
        "posit = data[data > 0]\n",
        "print(\"양수 데이터 출력\", \"\\n\", posit)\n",
        "\n",
        "over1 = data[1][data[1] > 0]\n",
        "print('두 번째 행의 양수 데이터 출력','\\n', over1)"
      ],
      "metadata": {
        "colab": {
          "base_uri": "https://localhost:8080/"
        },
        "id": "Ih5xo5jdxxfg",
        "outputId": "7453928a-6f52-49a9-f99d-0edc28e888b4"
      },
      "execution_count": null,
      "outputs": [
        {
          "output_type": "stream",
          "name": "stdout",
          "text": [
            "양수 데이터 출력 \n",
            " [1.20169944 0.29227911 1.16616055 1.31207601 1.88005812]\n",
            "두 번째 행의 양수 데이터 출력 \n",
            " [1.16616055 1.31207601]\n"
          ]
        }
      ]
    },
    {
      "cell_type": "code",
      "source": [
        "a = np.arange(6)\n",
        "b = a\n",
        "print(a)\n",
        "print(b is a)\n",
        "\n",
        "b[0] = 10\n",
        "print(a)"
      ],
      "metadata": {
        "colab": {
          "base_uri": "https://localhost:8080/"
        },
        "id": "PEuASbjbyYeX",
        "outputId": "baf8c025-b86d-4913-e2c8-3774942bf4b3"
      },
      "execution_count": null,
      "outputs": [
        {
          "output_type": "stream",
          "name": "stdout",
          "text": [
            "[0 1 2 3 4 5]\n",
            "True\n",
            "[10  1  2  3  4  5]\n"
          ]
        }
      ]
    },
    {
      "cell_type": "code",
      "source": [
        "a = np.arange(6)\n",
        "c = a.copy()\n",
        "\n",
        "c[0] = 20\n",
        "print(\"A:\", a)\n",
        "print(\"C: \", c)"
      ],
      "metadata": {
        "colab": {
          "base_uri": "https://localhost:8080/"
        },
        "id": "G6ZSpJD-yo9D",
        "outputId": "338bb166-7c5d-4cde-86aa-62ff514a3e8c"
      },
      "execution_count": null,
      "outputs": [
        {
          "output_type": "stream",
          "name": "stdout",
          "text": [
            " A: [0 1 2 3 4 5]\n",
            "C:  [20  1  2  3  4  5]\n"
          ]
        }
      ]
    },
    {
      "cell_type": "code",
      "source": [
        "a = np.arange(6)\n",
        "print(\"원본\\n\",a)\n",
        "print(\"정렬 후\\n\",np.sort(a))\n",
        "\n",
        "print(\"원본\\n\",a)\n",
        "print(\"정렬한 인덱스\\n\", np.argsort(a))\n",
        "\n",
        "a.sort()\n",
        "print(\"원본\\n\", a)"
      ],
      "metadata": {
        "colab": {
          "base_uri": "https://localhost:8080/"
        },
        "id": "Okt1g1DTzBiS",
        "outputId": "a6caa4a9-0a4a-4dfc-fca9-bbfba56bffdb"
      },
      "execution_count": null,
      "outputs": [
        {
          "output_type": "stream",
          "name": "stdout",
          "text": [
            "원본\n",
            " [0 1 2 3 4 5]\n",
            "정렬 후\n",
            " [0 1 2 3 4 5]\n",
            "원본\n",
            " [0 1 2 3 4 5]\n",
            "정렬한 인덱스\n",
            " [0 1 2 3 4 5]\n",
            "원본\n",
            " [0 1 2 3 4 5]\n"
          ]
        }
      ]
    },
    {
      "cell_type": "code",
      "source": [
        "import pandas as pd\n",
        "\n",
        "a = pd.Series([1, 2, 3, 4])\n",
        "print(a)\n",
        "\n",
        "b = pd.Series([1, 2, 3], index = ['a', 'b', 'c'])\n",
        "print(b)"
      ],
      "metadata": {
        "colab": {
          "base_uri": "https://localhost:8080/"
        },
        "id": "nvh12woq8Ut0",
        "outputId": "3b007ca3-02d3-4ea3-cf4a-9855be25f77e"
      },
      "execution_count": null,
      "outputs": [
        {
          "output_type": "stream",
          "name": "stdout",
          "text": [
            "0    1\n",
            "1    2\n",
            "2    3\n",
            "3    4\n",
            "dtype: int64\n",
            "a    1\n",
            "b    2\n",
            "c    3\n",
            "dtype: int64\n"
          ]
        }
      ]
    },
    {
      "cell_type": "code",
      "source": [
        "list1 = list([['한빛', '남자', '20', '180'],\n",
        "              ['한결', '남자', '21', '177'],\n",
        "              ['한라', '여자', '20', '160']])\n",
        "col_names = ['이름', '성별', '나이', '키']\n",
        "pd.DataFrame(list1, columns = col_names).to_excel(\"test.xlsx\", index = False)"
      ],
      "metadata": {
        "id": "B1GS5WEjBOb7"
      },
      "execution_count": null,
      "outputs": []
    },
    {
      "cell_type": "code",
      "source": [
        "dict1 = {'이름':{0:'한빛', 1:'한결', 2:'한라'},\n",
        "         '성별':{0:'남자', 1:'남자', 2:'여자'},\n",
        "         '나이':{0:'20', 1:'21', 2:'20'},\n",
        "         '키':{0:'180', 1:'177', 2:'160'}}\n",
        "pd.DataFrame(dict1).to_csv(\"test01.csv\", index = False)"
      ],
      "metadata": {
        "id": "Nf34cuaNDF1v"
      },
      "execution_count": null,
      "outputs": []
    },
    {
      "cell_type": "code",
      "source": [
        "import  pandas as pd\n",
        "\n",
        "df = pd.read_excel('./gni.xlsx')\n",
        "print(df.columns)"
      ],
      "metadata": {
        "colab": {
          "base_uri": "https://localhost:8080/"
        },
        "id": "7qCeRKD5dVka",
        "outputId": "e3f4718a-5fed-4897-e5eb-8efe56556f2f"
      },
      "execution_count": null,
      "outputs": [
        {
          "output_type": "stream",
          "name": "stdout",
          "text": [
            "Index(['연도', 'gni'], dtype='object')\n"
          ]
        }
      ]
    },
    {
      "cell_type": "code",
      "source": [
        "df"
      ],
      "metadata": {
        "colab": {
          "base_uri": "https://localhost:8080/",
          "height": 363
        },
        "id": "qQmOruoueuqp",
        "outputId": "9a38a88f-7859-4a5a-8188-cecd1c6f23e8"
      },
      "execution_count": null,
      "outputs": [
        {
          "output_type": "execute_result",
          "data": {
            "text/plain": [
              "      연도      gni\n",
              "0   2014  3,094.8\n",
              "1   2015  3,260.2\n",
              "2   2016  3,411.2\n",
              "3   2017  3,588.6\n",
              "4   2018  3,693.0\n",
              "5   2019  3,753.9\n",
              "6   2020  3,776.6\n",
              "7   2021  4,065.4\n",
              "8  2022p  4,248.7\n",
              "9  2023p  4,405.1"
            ],
            "text/html": [
              "\n",
              "  <div id=\"df-15c115a0-419a-401e-8e3a-706fb611ac66\" class=\"colab-df-container\">\n",
              "    <div>\n",
              "<style scoped>\n",
              "    .dataframe tbody tr th:only-of-type {\n",
              "        vertical-align: middle;\n",
              "    }\n",
              "\n",
              "    .dataframe tbody tr th {\n",
              "        vertical-align: top;\n",
              "    }\n",
              "\n",
              "    .dataframe thead th {\n",
              "        text-align: right;\n",
              "    }\n",
              "</style>\n",
              "<table border=\"1\" class=\"dataframe\">\n",
              "  <thead>\n",
              "    <tr style=\"text-align: right;\">\n",
              "      <th></th>\n",
              "      <th>연도</th>\n",
              "      <th>gni</th>\n",
              "    </tr>\n",
              "  </thead>\n",
              "  <tbody>\n",
              "    <tr>\n",
              "      <th>0</th>\n",
              "      <td>2014</td>\n",
              "      <td>3,094.8</td>\n",
              "    </tr>\n",
              "    <tr>\n",
              "      <th>1</th>\n",
              "      <td>2015</td>\n",
              "      <td>3,260.2</td>\n",
              "    </tr>\n",
              "    <tr>\n",
              "      <th>2</th>\n",
              "      <td>2016</td>\n",
              "      <td>3,411.2</td>\n",
              "    </tr>\n",
              "    <tr>\n",
              "      <th>3</th>\n",
              "      <td>2017</td>\n",
              "      <td>3,588.6</td>\n",
              "    </tr>\n",
              "    <tr>\n",
              "      <th>4</th>\n",
              "      <td>2018</td>\n",
              "      <td>3,693.0</td>\n",
              "    </tr>\n",
              "    <tr>\n",
              "      <th>5</th>\n",
              "      <td>2019</td>\n",
              "      <td>3,753.9</td>\n",
              "    </tr>\n",
              "    <tr>\n",
              "      <th>6</th>\n",
              "      <td>2020</td>\n",
              "      <td>3,776.6</td>\n",
              "    </tr>\n",
              "    <tr>\n",
              "      <th>7</th>\n",
              "      <td>2021</td>\n",
              "      <td>4,065.4</td>\n",
              "    </tr>\n",
              "    <tr>\n",
              "      <th>8</th>\n",
              "      <td>2022p</td>\n",
              "      <td>4,248.7</td>\n",
              "    </tr>\n",
              "    <tr>\n",
              "      <th>9</th>\n",
              "      <td>2023p</td>\n",
              "      <td>4,405.1</td>\n",
              "    </tr>\n",
              "  </tbody>\n",
              "</table>\n",
              "</div>\n",
              "    <div class=\"colab-df-buttons\">\n",
              "\n",
              "  <div class=\"colab-df-container\">\n",
              "    <button class=\"colab-df-convert\" onclick=\"convertToInteractive('df-15c115a0-419a-401e-8e3a-706fb611ac66')\"\n",
              "            title=\"Convert this dataframe to an interactive table.\"\n",
              "            style=\"display:none;\">\n",
              "\n",
              "  <svg xmlns=\"http://www.w3.org/2000/svg\" height=\"24px\" viewBox=\"0 -960 960 960\">\n",
              "    <path d=\"M120-120v-720h720v720H120Zm60-500h600v-160H180v160Zm220 220h160v-160H400v160Zm0 220h160v-160H400v160ZM180-400h160v-160H180v160Zm440 0h160v-160H620v160ZM180-180h160v-160H180v160Zm440 0h160v-160H620v160Z\"/>\n",
              "  </svg>\n",
              "    </button>\n",
              "\n",
              "  <style>\n",
              "    .colab-df-container {\n",
              "      display:flex;\n",
              "      gap: 12px;\n",
              "    }\n",
              "\n",
              "    .colab-df-convert {\n",
              "      background-color: #E8F0FE;\n",
              "      border: none;\n",
              "      border-radius: 50%;\n",
              "      cursor: pointer;\n",
              "      display: none;\n",
              "      fill: #1967D2;\n",
              "      height: 32px;\n",
              "      padding: 0 0 0 0;\n",
              "      width: 32px;\n",
              "    }\n",
              "\n",
              "    .colab-df-convert:hover {\n",
              "      background-color: #E2EBFA;\n",
              "      box-shadow: 0px 1px 2px rgba(60, 64, 67, 0.3), 0px 1px 3px 1px rgba(60, 64, 67, 0.15);\n",
              "      fill: #174EA6;\n",
              "    }\n",
              "\n",
              "    .colab-df-buttons div {\n",
              "      margin-bottom: 4px;\n",
              "    }\n",
              "\n",
              "    [theme=dark] .colab-df-convert {\n",
              "      background-color: #3B4455;\n",
              "      fill: #D2E3FC;\n",
              "    }\n",
              "\n",
              "    [theme=dark] .colab-df-convert:hover {\n",
              "      background-color: #434B5C;\n",
              "      box-shadow: 0px 1px 3px 1px rgba(0, 0, 0, 0.15);\n",
              "      filter: drop-shadow(0px 1px 2px rgba(0, 0, 0, 0.3));\n",
              "      fill: #FFFFFF;\n",
              "    }\n",
              "  </style>\n",
              "\n",
              "    <script>\n",
              "      const buttonEl =\n",
              "        document.querySelector('#df-15c115a0-419a-401e-8e3a-706fb611ac66 button.colab-df-convert');\n",
              "      buttonEl.style.display =\n",
              "        google.colab.kernel.accessAllowed ? 'block' : 'none';\n",
              "\n",
              "      async function convertToInteractive(key) {\n",
              "        const element = document.querySelector('#df-15c115a0-419a-401e-8e3a-706fb611ac66');\n",
              "        const dataTable =\n",
              "          await google.colab.kernel.invokeFunction('convertToInteractive',\n",
              "                                                    [key], {});\n",
              "        if (!dataTable) return;\n",
              "\n",
              "        const docLinkHtml = 'Like what you see? Visit the ' +\n",
              "          '<a target=\"_blank\" href=https://colab.research.google.com/notebooks/data_table.ipynb>data table notebook</a>'\n",
              "          + ' to learn more about interactive tables.';\n",
              "        element.innerHTML = '';\n",
              "        dataTable['output_type'] = 'display_data';\n",
              "        await google.colab.output.renderOutput(dataTable, element);\n",
              "        const docLink = document.createElement('div');\n",
              "        docLink.innerHTML = docLinkHtml;\n",
              "        element.appendChild(docLink);\n",
              "      }\n",
              "    </script>\n",
              "  </div>\n",
              "\n",
              "\n",
              "<div id=\"df-a903ae14-30a6-44fd-9b16-7328a06e6534\">\n",
              "  <button class=\"colab-df-quickchart\" onclick=\"quickchart('df-a903ae14-30a6-44fd-9b16-7328a06e6534')\"\n",
              "            title=\"Suggest charts\"\n",
              "            style=\"display:none;\">\n",
              "\n",
              "<svg xmlns=\"http://www.w3.org/2000/svg\" height=\"24px\"viewBox=\"0 0 24 24\"\n",
              "     width=\"24px\">\n",
              "    <g>\n",
              "        <path d=\"M19 3H5c-1.1 0-2 .9-2 2v14c0 1.1.9 2 2 2h14c1.1 0 2-.9 2-2V5c0-1.1-.9-2-2-2zM9 17H7v-7h2v7zm4 0h-2V7h2v10zm4 0h-2v-4h2v4z\"/>\n",
              "    </g>\n",
              "</svg>\n",
              "  </button>\n",
              "\n",
              "<style>\n",
              "  .colab-df-quickchart {\n",
              "      --bg-color: #E8F0FE;\n",
              "      --fill-color: #1967D2;\n",
              "      --hover-bg-color: #E2EBFA;\n",
              "      --hover-fill-color: #174EA6;\n",
              "      --disabled-fill-color: #AAA;\n",
              "      --disabled-bg-color: #DDD;\n",
              "  }\n",
              "\n",
              "  [theme=dark] .colab-df-quickchart {\n",
              "      --bg-color: #3B4455;\n",
              "      --fill-color: #D2E3FC;\n",
              "      --hover-bg-color: #434B5C;\n",
              "      --hover-fill-color: #FFFFFF;\n",
              "      --disabled-bg-color: #3B4455;\n",
              "      --disabled-fill-color: #666;\n",
              "  }\n",
              "\n",
              "  .colab-df-quickchart {\n",
              "    background-color: var(--bg-color);\n",
              "    border: none;\n",
              "    border-radius: 50%;\n",
              "    cursor: pointer;\n",
              "    display: none;\n",
              "    fill: var(--fill-color);\n",
              "    height: 32px;\n",
              "    padding: 0;\n",
              "    width: 32px;\n",
              "  }\n",
              "\n",
              "  .colab-df-quickchart:hover {\n",
              "    background-color: var(--hover-bg-color);\n",
              "    box-shadow: 0 1px 2px rgba(60, 64, 67, 0.3), 0 1px 3px 1px rgba(60, 64, 67, 0.15);\n",
              "    fill: var(--button-hover-fill-color);\n",
              "  }\n",
              "\n",
              "  .colab-df-quickchart-complete:disabled,\n",
              "  .colab-df-quickchart-complete:disabled:hover {\n",
              "    background-color: var(--disabled-bg-color);\n",
              "    fill: var(--disabled-fill-color);\n",
              "    box-shadow: none;\n",
              "  }\n",
              "\n",
              "  .colab-df-spinner {\n",
              "    border: 2px solid var(--fill-color);\n",
              "    border-color: transparent;\n",
              "    border-bottom-color: var(--fill-color);\n",
              "    animation:\n",
              "      spin 1s steps(1) infinite;\n",
              "  }\n",
              "\n",
              "  @keyframes spin {\n",
              "    0% {\n",
              "      border-color: transparent;\n",
              "      border-bottom-color: var(--fill-color);\n",
              "      border-left-color: var(--fill-color);\n",
              "    }\n",
              "    20% {\n",
              "      border-color: transparent;\n",
              "      border-left-color: var(--fill-color);\n",
              "      border-top-color: var(--fill-color);\n",
              "    }\n",
              "    30% {\n",
              "      border-color: transparent;\n",
              "      border-left-color: var(--fill-color);\n",
              "      border-top-color: var(--fill-color);\n",
              "      border-right-color: var(--fill-color);\n",
              "    }\n",
              "    40% {\n",
              "      border-color: transparent;\n",
              "      border-right-color: var(--fill-color);\n",
              "      border-top-color: var(--fill-color);\n",
              "    }\n",
              "    60% {\n",
              "      border-color: transparent;\n",
              "      border-right-color: var(--fill-color);\n",
              "    }\n",
              "    80% {\n",
              "      border-color: transparent;\n",
              "      border-right-color: var(--fill-color);\n",
              "      border-bottom-color: var(--fill-color);\n",
              "    }\n",
              "    90% {\n",
              "      border-color: transparent;\n",
              "      border-bottom-color: var(--fill-color);\n",
              "    }\n",
              "  }\n",
              "</style>\n",
              "\n",
              "  <script>\n",
              "    async function quickchart(key) {\n",
              "      const quickchartButtonEl =\n",
              "        document.querySelector('#' + key + ' button');\n",
              "      quickchartButtonEl.disabled = true;  // To prevent multiple clicks.\n",
              "      quickchartButtonEl.classList.add('colab-df-spinner');\n",
              "      try {\n",
              "        const charts = await google.colab.kernel.invokeFunction(\n",
              "            'suggestCharts', [key], {});\n",
              "      } catch (error) {\n",
              "        console.error('Error during call to suggestCharts:', error);\n",
              "      }\n",
              "      quickchartButtonEl.classList.remove('colab-df-spinner');\n",
              "      quickchartButtonEl.classList.add('colab-df-quickchart-complete');\n",
              "    }\n",
              "    (() => {\n",
              "      let quickchartButtonEl =\n",
              "        document.querySelector('#df-a903ae14-30a6-44fd-9b16-7328a06e6534 button');\n",
              "      quickchartButtonEl.style.display =\n",
              "        google.colab.kernel.accessAllowed ? 'block' : 'none';\n",
              "    })();\n",
              "  </script>\n",
              "</div>\n",
              "\n",
              "  <div id=\"id_f0b9b44b-448b-425a-80ba-985cce1ea45e\">\n",
              "    <style>\n",
              "      .colab-df-generate {\n",
              "        background-color: #E8F0FE;\n",
              "        border: none;\n",
              "        border-radius: 50%;\n",
              "        cursor: pointer;\n",
              "        display: none;\n",
              "        fill: #1967D2;\n",
              "        height: 32px;\n",
              "        padding: 0 0 0 0;\n",
              "        width: 32px;\n",
              "      }\n",
              "\n",
              "      .colab-df-generate:hover {\n",
              "        background-color: #E2EBFA;\n",
              "        box-shadow: 0px 1px 2px rgba(60, 64, 67, 0.3), 0px 1px 3px 1px rgba(60, 64, 67, 0.15);\n",
              "        fill: #174EA6;\n",
              "      }\n",
              "\n",
              "      [theme=dark] .colab-df-generate {\n",
              "        background-color: #3B4455;\n",
              "        fill: #D2E3FC;\n",
              "      }\n",
              "\n",
              "      [theme=dark] .colab-df-generate:hover {\n",
              "        background-color: #434B5C;\n",
              "        box-shadow: 0px 1px 3px 1px rgba(0, 0, 0, 0.15);\n",
              "        filter: drop-shadow(0px 1px 2px rgba(0, 0, 0, 0.3));\n",
              "        fill: #FFFFFF;\n",
              "      }\n",
              "    </style>\n",
              "    <button class=\"colab-df-generate\" onclick=\"generateWithVariable('df')\"\n",
              "            title=\"Generate code using this dataframe.\"\n",
              "            style=\"display:none;\">\n",
              "\n",
              "  <svg xmlns=\"http://www.w3.org/2000/svg\" height=\"24px\"viewBox=\"0 0 24 24\"\n",
              "       width=\"24px\">\n",
              "    <path d=\"M7,19H8.4L18.45,9,17,7.55,7,17.6ZM5,21V16.75L18.45,3.32a2,2,0,0,1,2.83,0l1.4,1.43a1.91,1.91,0,0,1,.58,1.4,1.91,1.91,0,0,1-.58,1.4L9.25,21ZM18.45,9,17,7.55Zm-12,3A5.31,5.31,0,0,0,4.9,8.1,5.31,5.31,0,0,0,1,6.5,5.31,5.31,0,0,0,4.9,4.9,5.31,5.31,0,0,0,6.5,1,5.31,5.31,0,0,0,8.1,4.9,5.31,5.31,0,0,0,12,6.5,5.46,5.46,0,0,0,6.5,12Z\"/>\n",
              "  </svg>\n",
              "    </button>\n",
              "    <script>\n",
              "      (() => {\n",
              "      const buttonEl =\n",
              "        document.querySelector('#id_f0b9b44b-448b-425a-80ba-985cce1ea45e button.colab-df-generate');\n",
              "      buttonEl.style.display =\n",
              "        google.colab.kernel.accessAllowed ? 'block' : 'none';\n",
              "\n",
              "      buttonEl.onclick = () => {\n",
              "        google.colab.notebook.generateWithVariable('df');\n",
              "      }\n",
              "      })();\n",
              "    </script>\n",
              "  </div>\n",
              "\n",
              "    </div>\n",
              "  </div>\n"
            ],
            "application/vnd.google.colaboratory.intrinsic+json": {
              "type": "dataframe",
              "variable_name": "df",
              "summary": "{\n  \"name\": \"df\",\n  \"rows\": 10,\n  \"fields\": [\n    {\n      \"column\": \"\\uc5f0\\ub3c4\",\n      \"properties\": {\n        \"dtype\": \"string\",\n        \"num_unique_values\": 10,\n        \"samples\": [\n          \"2022p\",\n          \"2015\",\n          \"2019\"\n        ],\n        \"semantic_type\": \"\",\n        \"description\": \"\"\n      }\n    },\n    {\n      \"column\": \"gni\",\n      \"properties\": {\n        \"dtype\": \"string\",\n        \"num_unique_values\": 10,\n        \"samples\": [\n          \"4,248.7\",\n          \"3,260.2\",\n          \"3,753.9\"\n        ],\n        \"semantic_type\": \"\",\n        \"description\": \"\"\n      }\n    }\n  ]\n}"
            }
          },
          "metadata": {},
          "execution_count": 102
        }
      ]
    },
    {
      "cell_type": "code",
      "source": [
        "len(df)"
      ],
      "metadata": {
        "colab": {
          "base_uri": "https://localhost:8080/"
        },
        "id": "nzuL8zxAfBsw",
        "outputId": "e4174863-bba1-4723-d6b8-ef06cb19c1a2"
      },
      "execution_count": null,
      "outputs": [
        {
          "output_type": "execute_result",
          "data": {
            "text/plain": [
              "10"
            ]
          },
          "metadata": {},
          "execution_count": 104
        }
      ]
    },
    {
      "cell_type": "code",
      "source": [
        "df.iloc[0]"
      ],
      "metadata": {
        "colab": {
          "base_uri": "https://localhost:8080/",
          "height": 147
        },
        "id": "bRPsz_fCfKg6",
        "outputId": "b21a01fb-abac-4e63-8ba9-9c44473569b9"
      },
      "execution_count": null,
      "outputs": [
        {
          "output_type": "execute_result",
          "data": {
            "text/plain": [
              "연도        2014\n",
              "gni    3,094.8\n",
              "Name: 0, dtype: object"
            ],
            "text/html": [
              "<div>\n",
              "<style scoped>\n",
              "    .dataframe tbody tr th:only-of-type {\n",
              "        vertical-align: middle;\n",
              "    }\n",
              "\n",
              "    .dataframe tbody tr th {\n",
              "        vertical-align: top;\n",
              "    }\n",
              "\n",
              "    .dataframe thead th {\n",
              "        text-align: right;\n",
              "    }\n",
              "</style>\n",
              "<table border=\"1\" class=\"dataframe\">\n",
              "  <thead>\n",
              "    <tr style=\"text-align: right;\">\n",
              "      <th></th>\n",
              "      <th>0</th>\n",
              "    </tr>\n",
              "  </thead>\n",
              "  <tbody>\n",
              "    <tr>\n",
              "      <th>연도</th>\n",
              "      <td>2014</td>\n",
              "    </tr>\n",
              "    <tr>\n",
              "      <th>gni</th>\n",
              "      <td>3,094.8</td>\n",
              "    </tr>\n",
              "  </tbody>\n",
              "</table>\n",
              "</div><br><label><b>dtype:</b> object</label>"
            ]
          },
          "metadata": {},
          "execution_count": 106
        }
      ]
    },
    {
      "cell_type": "code",
      "source": [
        "df.loc[0]"
      ],
      "metadata": {
        "colab": {
          "base_uri": "https://localhost:8080/",
          "height": 147
        },
        "id": "89piegbhfRDl",
        "outputId": "9fb05ba5-6f3f-4238-866c-199143a37fe6"
      },
      "execution_count": null,
      "outputs": [
        {
          "output_type": "execute_result",
          "data": {
            "text/plain": [
              "연도        2014\n",
              "gni    3,094.8\n",
              "Name: 0, dtype: object"
            ],
            "text/html": [
              "<div>\n",
              "<style scoped>\n",
              "    .dataframe tbody tr th:only-of-type {\n",
              "        vertical-align: middle;\n",
              "    }\n",
              "\n",
              "    .dataframe tbody tr th {\n",
              "        vertical-align: top;\n",
              "    }\n",
              "\n",
              "    .dataframe thead th {\n",
              "        text-align: right;\n",
              "    }\n",
              "</style>\n",
              "<table border=\"1\" class=\"dataframe\">\n",
              "  <thead>\n",
              "    <tr style=\"text-align: right;\">\n",
              "      <th></th>\n",
              "      <th>0</th>\n",
              "    </tr>\n",
              "  </thead>\n",
              "  <tbody>\n",
              "    <tr>\n",
              "      <th>연도</th>\n",
              "      <td>2014</td>\n",
              "    </tr>\n",
              "    <tr>\n",
              "      <th>gni</th>\n",
              "      <td>3,094.8</td>\n",
              "    </tr>\n",
              "  </tbody>\n",
              "</table>\n",
              "</div><br><label><b>dtype:</b> object</label>"
            ]
          },
          "metadata": {},
          "execution_count": 107
        }
      ]
    },
    {
      "cell_type": "code",
      "source": [
        "gni = []\n",
        "\n",
        "for i in range(0,len(df)):\n",
        "    gni.append(list(df.loc[i]))\n",
        "\n",
        "gni"
      ],
      "metadata": {
        "colab": {
          "base_uri": "https://localhost:8080/"
        },
        "id": "_ODMSj2-d0mo",
        "outputId": "c2b3fd2f-0687-42ed-a4fa-76da980407c8"
      },
      "execution_count": null,
      "outputs": [
        {
          "output_type": "execute_result",
          "data": {
            "text/plain": [
              "[[2014, '3,094.8'],\n",
              " ['2015', '3,260.2'],\n",
              " ['2016', '3,411.2'],\n",
              " ['2017', '3,588.6'],\n",
              " ['2018', '3,693.0'],\n",
              " ['2019', '3,753.9'],\n",
              " ['2020', '3,776.6'],\n",
              " ['2021', '4,065.4'],\n",
              " ['2022p', '4,248.7'],\n",
              " ['2023p', '4,405.1']]"
            ]
          },
          "metadata": {},
          "execution_count": 110
        }
      ]
    },
    {
      "cell_type": "code",
      "source": [
        "import pandas as pd\n",
        "\n",
        "df = pd.read_csv('./test.csv', encoding = 'utf8')\n",
        "\n",
        "student = []\n",
        "print(df.columns)\n",
        "for i in range(0,len(df)):\n",
        "    temp = list(df.loc[i])\n",
        "    temp.append(i)\n",
        "    student.append(temp)\n",
        "print(student)\n",
        "cols = list(df.columns)\n",
        "cols.append('비고2')\n",
        "print(cols)\n",
        "\n",
        "pd.DataFrame(student, columns = cols).to_excel('./columns.xlsx')"
      ],
      "metadata": {
        "colab": {
          "base_uri": "https://localhost:8080/"
        },
        "id": "OWXvNYbae5YN",
        "outputId": "6c3180b2-4852-42d5-a02a-2531d1cc3560"
      },
      "execution_count": null,
      "outputs": [
        {
          "output_type": "stream",
          "name": "stdout",
          "text": [
            "Index(['이름', '성별', '나이', '키'], dtype='object')\n",
            "[['한빛', '남자', 20, 180, 0], ['한결', '남자', 21, 177, 1], ['한라', '여자', 20, 160, 2]]\n",
            "['이름', '성별', '나이', '키', '비고2']\n"
          ]
        }
      ]
    },
    {
      "cell_type": "code",
      "source": [
        "import numpy as np\n",
        "height =  []\n",
        "for i in range(0,len(df)):\n",
        "    height.append(df.loc[i][3])\n",
        "\n",
        "print(np.max(height))\n",
        "print(np.min(height))\n",
        "print(np.std(height))\n",
        "print(np.average(height))"
      ],
      "metadata": {
        "colab": {
          "base_uri": "https://localhost:8080/"
        },
        "id": "dORorAtfjnp6",
        "outputId": "599c6254-d421-4f36-e944-ade3cf1462f6"
      },
      "execution_count": null,
      "outputs": [
        {
          "output_type": "stream",
          "name": "stdout",
          "text": [
            "180\n",
            "160\n",
            "8.806563209081938\n",
            "172.33333333333334\n"
          ]
        },
        {
          "output_type": "stream",
          "name": "stderr",
          "text": [
            "<ipython-input-263-fbeec7244adb>:4: FutureWarning: Series.__getitem__ treating keys as positions is deprecated. In a future version, integer keys will always be treated as labels (consistent with DataFrame behavior). To access a value by position, use `ser.iloc[pos]`\n",
            "  height.append(df.loc[i][3])\n"
          ]
        }
      ]
    },
    {
      "cell_type": "code",
      "source": [
        "print(df.describe())\n",
        "print(df.head(2))\n",
        "print(df.tail(2))"
      ],
      "metadata": {
        "colab": {
          "base_uri": "https://localhost:8080/"
        },
        "id": "6-_FHKq6zfNR",
        "outputId": "9d6b01ac-f527-4631-a43d-cc50dec831cf"
      },
      "execution_count": null,
      "outputs": [
        {
          "output_type": "stream",
          "name": "stdout",
          "text": [
            "              나이           키\n",
            "count   3.000000    3.000000\n",
            "mean   20.333333  172.333333\n",
            "std     0.577350   10.785793\n",
            "min    20.000000  160.000000\n",
            "25%    20.000000  168.500000\n",
            "50%    20.000000  177.000000\n",
            "75%    20.500000  178.500000\n",
            "max    21.000000  180.000000\n",
            "   이름  성별  나이    키\n",
            "0  한빛  남자  20  180\n",
            "1  한결  남자  21  177\n",
            "   이름  성별  나이    키\n",
            "1  한결  남자  21  177\n",
            "2  한라  여자  20  160\n"
          ]
        }
      ]
    },
    {
      "cell_type": "code",
      "source": [
        "df.sort_index(axis = 0).head()"
      ],
      "metadata": {
        "colab": {
          "base_uri": "https://localhost:8080/",
          "height": 81
        },
        "id": "RBu1m4rJz0YH",
        "outputId": "7eca2b3f-448f-4e24-dc76-d1535faf8120"
      },
      "execution_count": null,
      "outputs": [
        {
          "output_type": "execute_result",
          "data": {
            "text/plain": [
              "   이름  성별  나이    키\n",
              "0  한빛  남자  20  180"
            ],
            "text/html": [
              "\n",
              "  <div id=\"df-1714544c-163f-4864-ac7c-77265cecaa30\" class=\"colab-df-container\">\n",
              "    <div>\n",
              "<style scoped>\n",
              "    .dataframe tbody tr th:only-of-type {\n",
              "        vertical-align: middle;\n",
              "    }\n",
              "\n",
              "    .dataframe tbody tr th {\n",
              "        vertical-align: top;\n",
              "    }\n",
              "\n",
              "    .dataframe thead th {\n",
              "        text-align: right;\n",
              "    }\n",
              "</style>\n",
              "<table border=\"1\" class=\"dataframe\">\n",
              "  <thead>\n",
              "    <tr style=\"text-align: right;\">\n",
              "      <th></th>\n",
              "      <th>이름</th>\n",
              "      <th>성별</th>\n",
              "      <th>나이</th>\n",
              "      <th>키</th>\n",
              "    </tr>\n",
              "  </thead>\n",
              "  <tbody>\n",
              "    <tr>\n",
              "      <th>0</th>\n",
              "      <td>한빛</td>\n",
              "      <td>남자</td>\n",
              "      <td>20</td>\n",
              "      <td>180</td>\n",
              "    </tr>\n",
              "  </tbody>\n",
              "</table>\n",
              "</div>\n",
              "    <div class=\"colab-df-buttons\">\n",
              "\n",
              "  <div class=\"colab-df-container\">\n",
              "    <button class=\"colab-df-convert\" onclick=\"convertToInteractive('df-1714544c-163f-4864-ac7c-77265cecaa30')\"\n",
              "            title=\"Convert this dataframe to an interactive table.\"\n",
              "            style=\"display:none;\">\n",
              "\n",
              "  <svg xmlns=\"http://www.w3.org/2000/svg\" height=\"24px\" viewBox=\"0 -960 960 960\">\n",
              "    <path d=\"M120-120v-720h720v720H120Zm60-500h600v-160H180v160Zm220 220h160v-160H400v160Zm0 220h160v-160H400v160ZM180-400h160v-160H180v160Zm440 0h160v-160H620v160ZM180-180h160v-160H180v160Zm440 0h160v-160H620v160Z\"/>\n",
              "  </svg>\n",
              "    </button>\n",
              "\n",
              "  <style>\n",
              "    .colab-df-container {\n",
              "      display:flex;\n",
              "      gap: 12px;\n",
              "    }\n",
              "\n",
              "    .colab-df-convert {\n",
              "      background-color: #E8F0FE;\n",
              "      border: none;\n",
              "      border-radius: 50%;\n",
              "      cursor: pointer;\n",
              "      display: none;\n",
              "      fill: #1967D2;\n",
              "      height: 32px;\n",
              "      padding: 0 0 0 0;\n",
              "      width: 32px;\n",
              "    }\n",
              "\n",
              "    .colab-df-convert:hover {\n",
              "      background-color: #E2EBFA;\n",
              "      box-shadow: 0px 1px 2px rgba(60, 64, 67, 0.3), 0px 1px 3px 1px rgba(60, 64, 67, 0.15);\n",
              "      fill: #174EA6;\n",
              "    }\n",
              "\n",
              "    .colab-df-buttons div {\n",
              "      margin-bottom: 4px;\n",
              "    }\n",
              "\n",
              "    [theme=dark] .colab-df-convert {\n",
              "      background-color: #3B4455;\n",
              "      fill: #D2E3FC;\n",
              "    }\n",
              "\n",
              "    [theme=dark] .colab-df-convert:hover {\n",
              "      background-color: #434B5C;\n",
              "      box-shadow: 0px 1px 3px 1px rgba(0, 0, 0, 0.15);\n",
              "      filter: drop-shadow(0px 1px 2px rgba(0, 0, 0, 0.3));\n",
              "      fill: #FFFFFF;\n",
              "    }\n",
              "  </style>\n",
              "\n",
              "    <script>\n",
              "      const buttonEl =\n",
              "        document.querySelector('#df-1714544c-163f-4864-ac7c-77265cecaa30 button.colab-df-convert');\n",
              "      buttonEl.style.display =\n",
              "        google.colab.kernel.accessAllowed ? 'block' : 'none';\n",
              "\n",
              "      async function convertToInteractive(key) {\n",
              "        const element = document.querySelector('#df-1714544c-163f-4864-ac7c-77265cecaa30');\n",
              "        const dataTable =\n",
              "          await google.colab.kernel.invokeFunction('convertToInteractive',\n",
              "                                                    [key], {});\n",
              "        if (!dataTable) return;\n",
              "\n",
              "        const docLinkHtml = 'Like what you see? Visit the ' +\n",
              "          '<a target=\"_blank\" href=https://colab.research.google.com/notebooks/data_table.ipynb>data table notebook</a>'\n",
              "          + ' to learn more about interactive tables.';\n",
              "        element.innerHTML = '';\n",
              "        dataTable['output_type'] = 'display_data';\n",
              "        await google.colab.output.renderOutput(dataTable, element);\n",
              "        const docLink = document.createElement('div');\n",
              "        docLink.innerHTML = docLinkHtml;\n",
              "        element.appendChild(docLink);\n",
              "      }\n",
              "    </script>\n",
              "  </div>\n",
              "\n",
              "\n",
              "    </div>\n",
              "  </div>\n"
            ],
            "application/vnd.google.colaboratory.intrinsic+json": {
              "type": "dataframe",
              "summary": "{\n  \"name\": \"df\",\n  \"rows\": 1,\n  \"fields\": [\n    {\n      \"column\": \"\\uc774\\ub984\",\n      \"properties\": {\n        \"dtype\": \"string\",\n        \"num_unique_values\": 1,\n        \"samples\": [\n          \"\\ud55c\\ube5b\"\n        ],\n        \"semantic_type\": \"\",\n        \"description\": \"\"\n      }\n    },\n    {\n      \"column\": \"\\uc131\\ubcc4\",\n      \"properties\": {\n        \"dtype\": \"string\",\n        \"num_unique_values\": 1,\n        \"samples\": [\n          \"\\ub0a8\\uc790\"\n        ],\n        \"semantic_type\": \"\",\n        \"description\": \"\"\n      }\n    },\n    {\n      \"column\": \"\\ub098\\uc774\",\n      \"properties\": {\n        \"dtype\": \"number\",\n        \"std\": null,\n        \"min\": 20,\n        \"max\": 20,\n        \"num_unique_values\": 1,\n        \"samples\": [\n          20\n        ],\n        \"semantic_type\": \"\",\n        \"description\": \"\"\n      }\n    },\n    {\n      \"column\": \"\\ud0a4\",\n      \"properties\": {\n        \"dtype\": \"number\",\n        \"std\": null,\n        \"min\": 180,\n        \"max\": 180,\n        \"num_unique_values\": 1,\n        \"samples\": [\n          180\n        ],\n        \"semantic_type\": \"\",\n        \"description\": \"\"\n      }\n    }\n  ]\n}"
            }
          },
          "metadata": {},
          "execution_count": 269
        }
      ]
    },
    {
      "cell_type": "code",
      "source": [
        "df.sort_values(by =['나이', '키'], ascending = False).head()"
      ],
      "metadata": {
        "colab": {
          "base_uri": "https://localhost:8080/",
          "height": 143
        },
        "id": "41n9axnx0Gvt",
        "outputId": "0f52eef2-c09c-4d5b-ae11-0bd7c7deb7b3"
      },
      "execution_count": null,
      "outputs": [
        {
          "output_type": "execute_result",
          "data": {
            "text/plain": [
              "   이름  성별  나이    키\n",
              "1  한결  남자  21  177\n",
              "0  한빛  남자  20  180\n",
              "2  한라  여자  20  160"
            ],
            "text/html": [
              "\n",
              "  <div id=\"df-fdcce230-192a-46b4-889a-e578e60b6e7e\" class=\"colab-df-container\">\n",
              "    <div>\n",
              "<style scoped>\n",
              "    .dataframe tbody tr th:only-of-type {\n",
              "        vertical-align: middle;\n",
              "    }\n",
              "\n",
              "    .dataframe tbody tr th {\n",
              "        vertical-align: top;\n",
              "    }\n",
              "\n",
              "    .dataframe thead th {\n",
              "        text-align: right;\n",
              "    }\n",
              "</style>\n",
              "<table border=\"1\" class=\"dataframe\">\n",
              "  <thead>\n",
              "    <tr style=\"text-align: right;\">\n",
              "      <th></th>\n",
              "      <th>이름</th>\n",
              "      <th>성별</th>\n",
              "      <th>나이</th>\n",
              "      <th>키</th>\n",
              "    </tr>\n",
              "  </thead>\n",
              "  <tbody>\n",
              "    <tr>\n",
              "      <th>1</th>\n",
              "      <td>한결</td>\n",
              "      <td>남자</td>\n",
              "      <td>21</td>\n",
              "      <td>177</td>\n",
              "    </tr>\n",
              "    <tr>\n",
              "      <th>0</th>\n",
              "      <td>한빛</td>\n",
              "      <td>남자</td>\n",
              "      <td>20</td>\n",
              "      <td>180</td>\n",
              "    </tr>\n",
              "    <tr>\n",
              "      <th>2</th>\n",
              "      <td>한라</td>\n",
              "      <td>여자</td>\n",
              "      <td>20</td>\n",
              "      <td>160</td>\n",
              "    </tr>\n",
              "  </tbody>\n",
              "</table>\n",
              "</div>\n",
              "    <div class=\"colab-df-buttons\">\n",
              "\n",
              "  <div class=\"colab-df-container\">\n",
              "    <button class=\"colab-df-convert\" onclick=\"convertToInteractive('df-fdcce230-192a-46b4-889a-e578e60b6e7e')\"\n",
              "            title=\"Convert this dataframe to an interactive table.\"\n",
              "            style=\"display:none;\">\n",
              "\n",
              "  <svg xmlns=\"http://www.w3.org/2000/svg\" height=\"24px\" viewBox=\"0 -960 960 960\">\n",
              "    <path d=\"M120-120v-720h720v720H120Zm60-500h600v-160H180v160Zm220 220h160v-160H400v160Zm0 220h160v-160H400v160ZM180-400h160v-160H180v160Zm440 0h160v-160H620v160ZM180-180h160v-160H180v160Zm440 0h160v-160H620v160Z\"/>\n",
              "  </svg>\n",
              "    </button>\n",
              "\n",
              "  <style>\n",
              "    .colab-df-container {\n",
              "      display:flex;\n",
              "      gap: 12px;\n",
              "    }\n",
              "\n",
              "    .colab-df-convert {\n",
              "      background-color: #E8F0FE;\n",
              "      border: none;\n",
              "      border-radius: 50%;\n",
              "      cursor: pointer;\n",
              "      display: none;\n",
              "      fill: #1967D2;\n",
              "      height: 32px;\n",
              "      padding: 0 0 0 0;\n",
              "      width: 32px;\n",
              "    }\n",
              "\n",
              "    .colab-df-convert:hover {\n",
              "      background-color: #E2EBFA;\n",
              "      box-shadow: 0px 1px 2px rgba(60, 64, 67, 0.3), 0px 1px 3px 1px rgba(60, 64, 67, 0.15);\n",
              "      fill: #174EA6;\n",
              "    }\n",
              "\n",
              "    .colab-df-buttons div {\n",
              "      margin-bottom: 4px;\n",
              "    }\n",
              "\n",
              "    [theme=dark] .colab-df-convert {\n",
              "      background-color: #3B4455;\n",
              "      fill: #D2E3FC;\n",
              "    }\n",
              "\n",
              "    [theme=dark] .colab-df-convert:hover {\n",
              "      background-color: #434B5C;\n",
              "      box-shadow: 0px 1px 3px 1px rgba(0, 0, 0, 0.15);\n",
              "      filter: drop-shadow(0px 1px 2px rgba(0, 0, 0, 0.3));\n",
              "      fill: #FFFFFF;\n",
              "    }\n",
              "  </style>\n",
              "\n",
              "    <script>\n",
              "      const buttonEl =\n",
              "        document.querySelector('#df-fdcce230-192a-46b4-889a-e578e60b6e7e button.colab-df-convert');\n",
              "      buttonEl.style.display =\n",
              "        google.colab.kernel.accessAllowed ? 'block' : 'none';\n",
              "\n",
              "      async function convertToInteractive(key) {\n",
              "        const element = document.querySelector('#df-fdcce230-192a-46b4-889a-e578e60b6e7e');\n",
              "        const dataTable =\n",
              "          await google.colab.kernel.invokeFunction('convertToInteractive',\n",
              "                                                    [key], {});\n",
              "        if (!dataTable) return;\n",
              "\n",
              "        const docLinkHtml = 'Like what you see? Visit the ' +\n",
              "          '<a target=\"_blank\" href=https://colab.research.google.com/notebooks/data_table.ipynb>data table notebook</a>'\n",
              "          + ' to learn more about interactive tables.';\n",
              "        element.innerHTML = '';\n",
              "        dataTable['output_type'] = 'display_data';\n",
              "        await google.colab.output.renderOutput(dataTable, element);\n",
              "        const docLink = document.createElement('div');\n",
              "        docLink.innerHTML = docLinkHtml;\n",
              "        element.appendChild(docLink);\n",
              "      }\n",
              "    </script>\n",
              "  </div>\n",
              "\n",
              "\n",
              "<div id=\"df-8b74cb3e-7fc2-43ed-b222-de6a0892e171\">\n",
              "  <button class=\"colab-df-quickchart\" onclick=\"quickchart('df-8b74cb3e-7fc2-43ed-b222-de6a0892e171')\"\n",
              "            title=\"Suggest charts\"\n",
              "            style=\"display:none;\">\n",
              "\n",
              "<svg xmlns=\"http://www.w3.org/2000/svg\" height=\"24px\"viewBox=\"0 0 24 24\"\n",
              "     width=\"24px\">\n",
              "    <g>\n",
              "        <path d=\"M19 3H5c-1.1 0-2 .9-2 2v14c0 1.1.9 2 2 2h14c1.1 0 2-.9 2-2V5c0-1.1-.9-2-2-2zM9 17H7v-7h2v7zm4 0h-2V7h2v10zm4 0h-2v-4h2v4z\"/>\n",
              "    </g>\n",
              "</svg>\n",
              "  </button>\n",
              "\n",
              "<style>\n",
              "  .colab-df-quickchart {\n",
              "      --bg-color: #E8F0FE;\n",
              "      --fill-color: #1967D2;\n",
              "      --hover-bg-color: #E2EBFA;\n",
              "      --hover-fill-color: #174EA6;\n",
              "      --disabled-fill-color: #AAA;\n",
              "      --disabled-bg-color: #DDD;\n",
              "  }\n",
              "\n",
              "  [theme=dark] .colab-df-quickchart {\n",
              "      --bg-color: #3B4455;\n",
              "      --fill-color: #D2E3FC;\n",
              "      --hover-bg-color: #434B5C;\n",
              "      --hover-fill-color: #FFFFFF;\n",
              "      --disabled-bg-color: #3B4455;\n",
              "      --disabled-fill-color: #666;\n",
              "  }\n",
              "\n",
              "  .colab-df-quickchart {\n",
              "    background-color: var(--bg-color);\n",
              "    border: none;\n",
              "    border-radius: 50%;\n",
              "    cursor: pointer;\n",
              "    display: none;\n",
              "    fill: var(--fill-color);\n",
              "    height: 32px;\n",
              "    padding: 0;\n",
              "    width: 32px;\n",
              "  }\n",
              "\n",
              "  .colab-df-quickchart:hover {\n",
              "    background-color: var(--hover-bg-color);\n",
              "    box-shadow: 0 1px 2px rgba(60, 64, 67, 0.3), 0 1px 3px 1px rgba(60, 64, 67, 0.15);\n",
              "    fill: var(--button-hover-fill-color);\n",
              "  }\n",
              "\n",
              "  .colab-df-quickchart-complete:disabled,\n",
              "  .colab-df-quickchart-complete:disabled:hover {\n",
              "    background-color: var(--disabled-bg-color);\n",
              "    fill: var(--disabled-fill-color);\n",
              "    box-shadow: none;\n",
              "  }\n",
              "\n",
              "  .colab-df-spinner {\n",
              "    border: 2px solid var(--fill-color);\n",
              "    border-color: transparent;\n",
              "    border-bottom-color: var(--fill-color);\n",
              "    animation:\n",
              "      spin 1s steps(1) infinite;\n",
              "  }\n",
              "\n",
              "  @keyframes spin {\n",
              "    0% {\n",
              "      border-color: transparent;\n",
              "      border-bottom-color: var(--fill-color);\n",
              "      border-left-color: var(--fill-color);\n",
              "    }\n",
              "    20% {\n",
              "      border-color: transparent;\n",
              "      border-left-color: var(--fill-color);\n",
              "      border-top-color: var(--fill-color);\n",
              "    }\n",
              "    30% {\n",
              "      border-color: transparent;\n",
              "      border-left-color: var(--fill-color);\n",
              "      border-top-color: var(--fill-color);\n",
              "      border-right-color: var(--fill-color);\n",
              "    }\n",
              "    40% {\n",
              "      border-color: transparent;\n",
              "      border-right-color: var(--fill-color);\n",
              "      border-top-color: var(--fill-color);\n",
              "    }\n",
              "    60% {\n",
              "      border-color: transparent;\n",
              "      border-right-color: var(--fill-color);\n",
              "    }\n",
              "    80% {\n",
              "      border-color: transparent;\n",
              "      border-right-color: var(--fill-color);\n",
              "      border-bottom-color: var(--fill-color);\n",
              "    }\n",
              "    90% {\n",
              "      border-color: transparent;\n",
              "      border-bottom-color: var(--fill-color);\n",
              "    }\n",
              "  }\n",
              "</style>\n",
              "\n",
              "  <script>\n",
              "    async function quickchart(key) {\n",
              "      const quickchartButtonEl =\n",
              "        document.querySelector('#' + key + ' button');\n",
              "      quickchartButtonEl.disabled = true;  // To prevent multiple clicks.\n",
              "      quickchartButtonEl.classList.add('colab-df-spinner');\n",
              "      try {\n",
              "        const charts = await google.colab.kernel.invokeFunction(\n",
              "            'suggestCharts', [key], {});\n",
              "      } catch (error) {\n",
              "        console.error('Error during call to suggestCharts:', error);\n",
              "      }\n",
              "      quickchartButtonEl.classList.remove('colab-df-spinner');\n",
              "      quickchartButtonEl.classList.add('colab-df-quickchart-complete');\n",
              "    }\n",
              "    (() => {\n",
              "      let quickchartButtonEl =\n",
              "        document.querySelector('#df-8b74cb3e-7fc2-43ed-b222-de6a0892e171 button');\n",
              "      quickchartButtonEl.style.display =\n",
              "        google.colab.kernel.accessAllowed ? 'block' : 'none';\n",
              "    })();\n",
              "  </script>\n",
              "</div>\n",
              "\n",
              "    </div>\n",
              "  </div>\n"
            ],
            "application/vnd.google.colaboratory.intrinsic+json": {
              "type": "dataframe",
              "summary": "{\n  \"name\": \"df\",\n  \"rows\": 3,\n  \"fields\": [\n    {\n      \"column\": \"\\uc774\\ub984\",\n      \"properties\": {\n        \"dtype\": \"string\",\n        \"num_unique_values\": 3,\n        \"samples\": [\n          \"\\ud55c\\uacb0\",\n          \"\\ud55c\\ube5b\",\n          \"\\ud55c\\ub77c\"\n        ],\n        \"semantic_type\": \"\",\n        \"description\": \"\"\n      }\n    },\n    {\n      \"column\": \"\\uc131\\ubcc4\",\n      \"properties\": {\n        \"dtype\": \"string\",\n        \"num_unique_values\": 2,\n        \"samples\": [\n          \"\\uc5ec\\uc790\",\n          \"\\ub0a8\\uc790\"\n        ],\n        \"semantic_type\": \"\",\n        \"description\": \"\"\n      }\n    },\n    {\n      \"column\": \"\\ub098\\uc774\",\n      \"properties\": {\n        \"dtype\": \"number\",\n        \"std\": 0,\n        \"min\": 20,\n        \"max\": 21,\n        \"num_unique_values\": 2,\n        \"samples\": [\n          20,\n          21\n        ],\n        \"semantic_type\": \"\",\n        \"description\": \"\"\n      }\n    },\n    {\n      \"column\": \"\\ud0a4\",\n      \"properties\": {\n        \"dtype\": \"number\",\n        \"std\": 10,\n        \"min\": 160,\n        \"max\": 180,\n        \"num_unique_values\": 3,\n        \"samples\": [\n          177,\n          180\n        ],\n        \"semantic_type\": \"\",\n        \"description\": \"\"\n      }\n    }\n  ]\n}"
            }
          },
          "metadata": {},
          "execution_count": 272
        }
      ]
    },
    {
      "cell_type": "code",
      "source": [
        "df.sort_values(by =['키'], ascending = False).head()"
      ],
      "metadata": {
        "colab": {
          "base_uri": "https://localhost:8080/",
          "height": 143
        },
        "id": "dlIUGGRQ0mE3",
        "outputId": "03a3fab0-bb20-4d5a-973a-7480b0a3989f"
      },
      "execution_count": null,
      "outputs": [
        {
          "output_type": "execute_result",
          "data": {
            "text/plain": [
              "   이름  성별  나이    키\n",
              "0  한빛  남자  20  180\n",
              "1  한결  남자  21  177\n",
              "2  한라  여자  20  160"
            ],
            "text/html": [
              "\n",
              "  <div id=\"df-53079c27-02c1-4f1a-a921-0eb36a17bb01\" class=\"colab-df-container\">\n",
              "    <div>\n",
              "<style scoped>\n",
              "    .dataframe tbody tr th:only-of-type {\n",
              "        vertical-align: middle;\n",
              "    }\n",
              "\n",
              "    .dataframe tbody tr th {\n",
              "        vertical-align: top;\n",
              "    }\n",
              "\n",
              "    .dataframe thead th {\n",
              "        text-align: right;\n",
              "    }\n",
              "</style>\n",
              "<table border=\"1\" class=\"dataframe\">\n",
              "  <thead>\n",
              "    <tr style=\"text-align: right;\">\n",
              "      <th></th>\n",
              "      <th>이름</th>\n",
              "      <th>성별</th>\n",
              "      <th>나이</th>\n",
              "      <th>키</th>\n",
              "    </tr>\n",
              "  </thead>\n",
              "  <tbody>\n",
              "    <tr>\n",
              "      <th>0</th>\n",
              "      <td>한빛</td>\n",
              "      <td>남자</td>\n",
              "      <td>20</td>\n",
              "      <td>180</td>\n",
              "    </tr>\n",
              "    <tr>\n",
              "      <th>1</th>\n",
              "      <td>한결</td>\n",
              "      <td>남자</td>\n",
              "      <td>21</td>\n",
              "      <td>177</td>\n",
              "    </tr>\n",
              "    <tr>\n",
              "      <th>2</th>\n",
              "      <td>한라</td>\n",
              "      <td>여자</td>\n",
              "      <td>20</td>\n",
              "      <td>160</td>\n",
              "    </tr>\n",
              "  </tbody>\n",
              "</table>\n",
              "</div>\n",
              "    <div class=\"colab-df-buttons\">\n",
              "\n",
              "  <div class=\"colab-df-container\">\n",
              "    <button class=\"colab-df-convert\" onclick=\"convertToInteractive('df-53079c27-02c1-4f1a-a921-0eb36a17bb01')\"\n",
              "            title=\"Convert this dataframe to an interactive table.\"\n",
              "            style=\"display:none;\">\n",
              "\n",
              "  <svg xmlns=\"http://www.w3.org/2000/svg\" height=\"24px\" viewBox=\"0 -960 960 960\">\n",
              "    <path d=\"M120-120v-720h720v720H120Zm60-500h600v-160H180v160Zm220 220h160v-160H400v160Zm0 220h160v-160H400v160ZM180-400h160v-160H180v160Zm440 0h160v-160H620v160ZM180-180h160v-160H180v160Zm440 0h160v-160H620v160Z\"/>\n",
              "  </svg>\n",
              "    </button>\n",
              "\n",
              "  <style>\n",
              "    .colab-df-container {\n",
              "      display:flex;\n",
              "      gap: 12px;\n",
              "    }\n",
              "\n",
              "    .colab-df-convert {\n",
              "      background-color: #E8F0FE;\n",
              "      border: none;\n",
              "      border-radius: 50%;\n",
              "      cursor: pointer;\n",
              "      display: none;\n",
              "      fill: #1967D2;\n",
              "      height: 32px;\n",
              "      padding: 0 0 0 0;\n",
              "      width: 32px;\n",
              "    }\n",
              "\n",
              "    .colab-df-convert:hover {\n",
              "      background-color: #E2EBFA;\n",
              "      box-shadow: 0px 1px 2px rgba(60, 64, 67, 0.3), 0px 1px 3px 1px rgba(60, 64, 67, 0.15);\n",
              "      fill: #174EA6;\n",
              "    }\n",
              "\n",
              "    .colab-df-buttons div {\n",
              "      margin-bottom: 4px;\n",
              "    }\n",
              "\n",
              "    [theme=dark] .colab-df-convert {\n",
              "      background-color: #3B4455;\n",
              "      fill: #D2E3FC;\n",
              "    }\n",
              "\n",
              "    [theme=dark] .colab-df-convert:hover {\n",
              "      background-color: #434B5C;\n",
              "      box-shadow: 0px 1px 3px 1px rgba(0, 0, 0, 0.15);\n",
              "      filter: drop-shadow(0px 1px 2px rgba(0, 0, 0, 0.3));\n",
              "      fill: #FFFFFF;\n",
              "    }\n",
              "  </style>\n",
              "\n",
              "    <script>\n",
              "      const buttonEl =\n",
              "        document.querySelector('#df-53079c27-02c1-4f1a-a921-0eb36a17bb01 button.colab-df-convert');\n",
              "      buttonEl.style.display =\n",
              "        google.colab.kernel.accessAllowed ? 'block' : 'none';\n",
              "\n",
              "      async function convertToInteractive(key) {\n",
              "        const element = document.querySelector('#df-53079c27-02c1-4f1a-a921-0eb36a17bb01');\n",
              "        const dataTable =\n",
              "          await google.colab.kernel.invokeFunction('convertToInteractive',\n",
              "                                                    [key], {});\n",
              "        if (!dataTable) return;\n",
              "\n",
              "        const docLinkHtml = 'Like what you see? Visit the ' +\n",
              "          '<a target=\"_blank\" href=https://colab.research.google.com/notebooks/data_table.ipynb>data table notebook</a>'\n",
              "          + ' to learn more about interactive tables.';\n",
              "        element.innerHTML = '';\n",
              "        dataTable['output_type'] = 'display_data';\n",
              "        await google.colab.output.renderOutput(dataTable, element);\n",
              "        const docLink = document.createElement('div');\n",
              "        docLink.innerHTML = docLinkHtml;\n",
              "        element.appendChild(docLink);\n",
              "      }\n",
              "    </script>\n",
              "  </div>\n",
              "\n",
              "\n",
              "<div id=\"df-2dca4b80-5b61-4733-a5a8-362790d3da77\">\n",
              "  <button class=\"colab-df-quickchart\" onclick=\"quickchart('df-2dca4b80-5b61-4733-a5a8-362790d3da77')\"\n",
              "            title=\"Suggest charts\"\n",
              "            style=\"display:none;\">\n",
              "\n",
              "<svg xmlns=\"http://www.w3.org/2000/svg\" height=\"24px\"viewBox=\"0 0 24 24\"\n",
              "     width=\"24px\">\n",
              "    <g>\n",
              "        <path d=\"M19 3H5c-1.1 0-2 .9-2 2v14c0 1.1.9 2 2 2h14c1.1 0 2-.9 2-2V5c0-1.1-.9-2-2-2zM9 17H7v-7h2v7zm4 0h-2V7h2v10zm4 0h-2v-4h2v4z\"/>\n",
              "    </g>\n",
              "</svg>\n",
              "  </button>\n",
              "\n",
              "<style>\n",
              "  .colab-df-quickchart {\n",
              "      --bg-color: #E8F0FE;\n",
              "      --fill-color: #1967D2;\n",
              "      --hover-bg-color: #E2EBFA;\n",
              "      --hover-fill-color: #174EA6;\n",
              "      --disabled-fill-color: #AAA;\n",
              "      --disabled-bg-color: #DDD;\n",
              "  }\n",
              "\n",
              "  [theme=dark] .colab-df-quickchart {\n",
              "      --bg-color: #3B4455;\n",
              "      --fill-color: #D2E3FC;\n",
              "      --hover-bg-color: #434B5C;\n",
              "      --hover-fill-color: #FFFFFF;\n",
              "      --disabled-bg-color: #3B4455;\n",
              "      --disabled-fill-color: #666;\n",
              "  }\n",
              "\n",
              "  .colab-df-quickchart {\n",
              "    background-color: var(--bg-color);\n",
              "    border: none;\n",
              "    border-radius: 50%;\n",
              "    cursor: pointer;\n",
              "    display: none;\n",
              "    fill: var(--fill-color);\n",
              "    height: 32px;\n",
              "    padding: 0;\n",
              "    width: 32px;\n",
              "  }\n",
              "\n",
              "  .colab-df-quickchart:hover {\n",
              "    background-color: var(--hover-bg-color);\n",
              "    box-shadow: 0 1px 2px rgba(60, 64, 67, 0.3), 0 1px 3px 1px rgba(60, 64, 67, 0.15);\n",
              "    fill: var(--button-hover-fill-color);\n",
              "  }\n",
              "\n",
              "  .colab-df-quickchart-complete:disabled,\n",
              "  .colab-df-quickchart-complete:disabled:hover {\n",
              "    background-color: var(--disabled-bg-color);\n",
              "    fill: var(--disabled-fill-color);\n",
              "    box-shadow: none;\n",
              "  }\n",
              "\n",
              "  .colab-df-spinner {\n",
              "    border: 2px solid var(--fill-color);\n",
              "    border-color: transparent;\n",
              "    border-bottom-color: var(--fill-color);\n",
              "    animation:\n",
              "      spin 1s steps(1) infinite;\n",
              "  }\n",
              "\n",
              "  @keyframes spin {\n",
              "    0% {\n",
              "      border-color: transparent;\n",
              "      border-bottom-color: var(--fill-color);\n",
              "      border-left-color: var(--fill-color);\n",
              "    }\n",
              "    20% {\n",
              "      border-color: transparent;\n",
              "      border-left-color: var(--fill-color);\n",
              "      border-top-color: var(--fill-color);\n",
              "    }\n",
              "    30% {\n",
              "      border-color: transparent;\n",
              "      border-left-color: var(--fill-color);\n",
              "      border-top-color: var(--fill-color);\n",
              "      border-right-color: var(--fill-color);\n",
              "    }\n",
              "    40% {\n",
              "      border-color: transparent;\n",
              "      border-right-color: var(--fill-color);\n",
              "      border-top-color: var(--fill-color);\n",
              "    }\n",
              "    60% {\n",
              "      border-color: transparent;\n",
              "      border-right-color: var(--fill-color);\n",
              "    }\n",
              "    80% {\n",
              "      border-color: transparent;\n",
              "      border-right-color: var(--fill-color);\n",
              "      border-bottom-color: var(--fill-color);\n",
              "    }\n",
              "    90% {\n",
              "      border-color: transparent;\n",
              "      border-bottom-color: var(--fill-color);\n",
              "    }\n",
              "  }\n",
              "</style>\n",
              "\n",
              "  <script>\n",
              "    async function quickchart(key) {\n",
              "      const quickchartButtonEl =\n",
              "        document.querySelector('#' + key + ' button');\n",
              "      quickchartButtonEl.disabled = true;  // To prevent multiple clicks.\n",
              "      quickchartButtonEl.classList.add('colab-df-spinner');\n",
              "      try {\n",
              "        const charts = await google.colab.kernel.invokeFunction(\n",
              "            'suggestCharts', [key], {});\n",
              "      } catch (error) {\n",
              "        console.error('Error during call to suggestCharts:', error);\n",
              "      }\n",
              "      quickchartButtonEl.classList.remove('colab-df-spinner');\n",
              "      quickchartButtonEl.classList.add('colab-df-quickchart-complete');\n",
              "    }\n",
              "    (() => {\n",
              "      let quickchartButtonEl =\n",
              "        document.querySelector('#df-2dca4b80-5b61-4733-a5a8-362790d3da77 button');\n",
              "      quickchartButtonEl.style.display =\n",
              "        google.colab.kernel.accessAllowed ? 'block' : 'none';\n",
              "    })();\n",
              "  </script>\n",
              "</div>\n",
              "\n",
              "    </div>\n",
              "  </div>\n"
            ],
            "application/vnd.google.colaboratory.intrinsic+json": {
              "type": "dataframe",
              "summary": "{\n  \"name\": \"df\",\n  \"rows\": 3,\n  \"fields\": [\n    {\n      \"column\": \"\\uc774\\ub984\",\n      \"properties\": {\n        \"dtype\": \"string\",\n        \"num_unique_values\": 3,\n        \"samples\": [\n          \"\\ud55c\\ube5b\",\n          \"\\ud55c\\uacb0\",\n          \"\\ud55c\\ub77c\"\n        ],\n        \"semantic_type\": \"\",\n        \"description\": \"\"\n      }\n    },\n    {\n      \"column\": \"\\uc131\\ubcc4\",\n      \"properties\": {\n        \"dtype\": \"string\",\n        \"num_unique_values\": 2,\n        \"samples\": [\n          \"\\uc5ec\\uc790\",\n          \"\\ub0a8\\uc790\"\n        ],\n        \"semantic_type\": \"\",\n        \"description\": \"\"\n      }\n    },\n    {\n      \"column\": \"\\ub098\\uc774\",\n      \"properties\": {\n        \"dtype\": \"number\",\n        \"std\": 0,\n        \"min\": 20,\n        \"max\": 21,\n        \"num_unique_values\": 2,\n        \"samples\": [\n          21,\n          20\n        ],\n        \"semantic_type\": \"\",\n        \"description\": \"\"\n      }\n    },\n    {\n      \"column\": \"\\ud0a4\",\n      \"properties\": {\n        \"dtype\": \"number\",\n        \"std\": 10,\n        \"min\": 160,\n        \"max\": 180,\n        \"num_unique_values\": 3,\n        \"samples\": [\n          180,\n          177\n        ],\n        \"semantic_type\": \"\",\n        \"description\": \"\"\n      }\n    }\n  ]\n}"
            }
          },
          "metadata": {},
          "execution_count": 273
        }
      ]
    },
    {
      "cell_type": "code",
      "source": [
        "df.iloc[0:2, 1:2]"
      ],
      "metadata": {
        "colab": {
          "base_uri": "https://localhost:8080/",
          "height": 112
        },
        "id": "FNjbei780pSn",
        "outputId": "fc32d0e7-55a8-44a0-bbce-816b188f9d0b"
      },
      "execution_count": null,
      "outputs": [
        {
          "output_type": "execute_result",
          "data": {
            "text/plain": [
              "   성별\n",
              "0  남자\n",
              "1  남자"
            ],
            "text/html": [
              "\n",
              "  <div id=\"df-8584314e-2dcf-4843-9ed1-f5e652b829c2\" class=\"colab-df-container\">\n",
              "    <div>\n",
              "<style scoped>\n",
              "    .dataframe tbody tr th:only-of-type {\n",
              "        vertical-align: middle;\n",
              "    }\n",
              "\n",
              "    .dataframe tbody tr th {\n",
              "        vertical-align: top;\n",
              "    }\n",
              "\n",
              "    .dataframe thead th {\n",
              "        text-align: right;\n",
              "    }\n",
              "</style>\n",
              "<table border=\"1\" class=\"dataframe\">\n",
              "  <thead>\n",
              "    <tr style=\"text-align: right;\">\n",
              "      <th></th>\n",
              "      <th>성별</th>\n",
              "    </tr>\n",
              "  </thead>\n",
              "  <tbody>\n",
              "    <tr>\n",
              "      <th>0</th>\n",
              "      <td>남자</td>\n",
              "    </tr>\n",
              "    <tr>\n",
              "      <th>1</th>\n",
              "      <td>남자</td>\n",
              "    </tr>\n",
              "  </tbody>\n",
              "</table>\n",
              "</div>\n",
              "    <div class=\"colab-df-buttons\">\n",
              "\n",
              "  <div class=\"colab-df-container\">\n",
              "    <button class=\"colab-df-convert\" onclick=\"convertToInteractive('df-8584314e-2dcf-4843-9ed1-f5e652b829c2')\"\n",
              "            title=\"Convert this dataframe to an interactive table.\"\n",
              "            style=\"display:none;\">\n",
              "\n",
              "  <svg xmlns=\"http://www.w3.org/2000/svg\" height=\"24px\" viewBox=\"0 -960 960 960\">\n",
              "    <path d=\"M120-120v-720h720v720H120Zm60-500h600v-160H180v160Zm220 220h160v-160H400v160Zm0 220h160v-160H400v160ZM180-400h160v-160H180v160Zm440 0h160v-160H620v160ZM180-180h160v-160H180v160Zm440 0h160v-160H620v160Z\"/>\n",
              "  </svg>\n",
              "    </button>\n",
              "\n",
              "  <style>\n",
              "    .colab-df-container {\n",
              "      display:flex;\n",
              "      gap: 12px;\n",
              "    }\n",
              "\n",
              "    .colab-df-convert {\n",
              "      background-color: #E8F0FE;\n",
              "      border: none;\n",
              "      border-radius: 50%;\n",
              "      cursor: pointer;\n",
              "      display: none;\n",
              "      fill: #1967D2;\n",
              "      height: 32px;\n",
              "      padding: 0 0 0 0;\n",
              "      width: 32px;\n",
              "    }\n",
              "\n",
              "    .colab-df-convert:hover {\n",
              "      background-color: #E2EBFA;\n",
              "      box-shadow: 0px 1px 2px rgba(60, 64, 67, 0.3), 0px 1px 3px 1px rgba(60, 64, 67, 0.15);\n",
              "      fill: #174EA6;\n",
              "    }\n",
              "\n",
              "    .colab-df-buttons div {\n",
              "      margin-bottom: 4px;\n",
              "    }\n",
              "\n",
              "    [theme=dark] .colab-df-convert {\n",
              "      background-color: #3B4455;\n",
              "      fill: #D2E3FC;\n",
              "    }\n",
              "\n",
              "    [theme=dark] .colab-df-convert:hover {\n",
              "      background-color: #434B5C;\n",
              "      box-shadow: 0px 1px 3px 1px rgba(0, 0, 0, 0.15);\n",
              "      filter: drop-shadow(0px 1px 2px rgba(0, 0, 0, 0.3));\n",
              "      fill: #FFFFFF;\n",
              "    }\n",
              "  </style>\n",
              "\n",
              "    <script>\n",
              "      const buttonEl =\n",
              "        document.querySelector('#df-8584314e-2dcf-4843-9ed1-f5e652b829c2 button.colab-df-convert');\n",
              "      buttonEl.style.display =\n",
              "        google.colab.kernel.accessAllowed ? 'block' : 'none';\n",
              "\n",
              "      async function convertToInteractive(key) {\n",
              "        const element = document.querySelector('#df-8584314e-2dcf-4843-9ed1-f5e652b829c2');\n",
              "        const dataTable =\n",
              "          await google.colab.kernel.invokeFunction('convertToInteractive',\n",
              "                                                    [key], {});\n",
              "        if (!dataTable) return;\n",
              "\n",
              "        const docLinkHtml = 'Like what you see? Visit the ' +\n",
              "          '<a target=\"_blank\" href=https://colab.research.google.com/notebooks/data_table.ipynb>data table notebook</a>'\n",
              "          + ' to learn more about interactive tables.';\n",
              "        element.innerHTML = '';\n",
              "        dataTable['output_type'] = 'display_data';\n",
              "        await google.colab.output.renderOutput(dataTable, element);\n",
              "        const docLink = document.createElement('div');\n",
              "        docLink.innerHTML = docLinkHtml;\n",
              "        element.appendChild(docLink);\n",
              "      }\n",
              "    </script>\n",
              "  </div>\n",
              "\n",
              "\n",
              "<div id=\"df-6dda2e23-85fa-44b2-b930-5c443e6b728c\">\n",
              "  <button class=\"colab-df-quickchart\" onclick=\"quickchart('df-6dda2e23-85fa-44b2-b930-5c443e6b728c')\"\n",
              "            title=\"Suggest charts\"\n",
              "            style=\"display:none;\">\n",
              "\n",
              "<svg xmlns=\"http://www.w3.org/2000/svg\" height=\"24px\"viewBox=\"0 0 24 24\"\n",
              "     width=\"24px\">\n",
              "    <g>\n",
              "        <path d=\"M19 3H5c-1.1 0-2 .9-2 2v14c0 1.1.9 2 2 2h14c1.1 0 2-.9 2-2V5c0-1.1-.9-2-2-2zM9 17H7v-7h2v7zm4 0h-2V7h2v10zm4 0h-2v-4h2v4z\"/>\n",
              "    </g>\n",
              "</svg>\n",
              "  </button>\n",
              "\n",
              "<style>\n",
              "  .colab-df-quickchart {\n",
              "      --bg-color: #E8F0FE;\n",
              "      --fill-color: #1967D2;\n",
              "      --hover-bg-color: #E2EBFA;\n",
              "      --hover-fill-color: #174EA6;\n",
              "      --disabled-fill-color: #AAA;\n",
              "      --disabled-bg-color: #DDD;\n",
              "  }\n",
              "\n",
              "  [theme=dark] .colab-df-quickchart {\n",
              "      --bg-color: #3B4455;\n",
              "      --fill-color: #D2E3FC;\n",
              "      --hover-bg-color: #434B5C;\n",
              "      --hover-fill-color: #FFFFFF;\n",
              "      --disabled-bg-color: #3B4455;\n",
              "      --disabled-fill-color: #666;\n",
              "  }\n",
              "\n",
              "  .colab-df-quickchart {\n",
              "    background-color: var(--bg-color);\n",
              "    border: none;\n",
              "    border-radius: 50%;\n",
              "    cursor: pointer;\n",
              "    display: none;\n",
              "    fill: var(--fill-color);\n",
              "    height: 32px;\n",
              "    padding: 0;\n",
              "    width: 32px;\n",
              "  }\n",
              "\n",
              "  .colab-df-quickchart:hover {\n",
              "    background-color: var(--hover-bg-color);\n",
              "    box-shadow: 0 1px 2px rgba(60, 64, 67, 0.3), 0 1px 3px 1px rgba(60, 64, 67, 0.15);\n",
              "    fill: var(--button-hover-fill-color);\n",
              "  }\n",
              "\n",
              "  .colab-df-quickchart-complete:disabled,\n",
              "  .colab-df-quickchart-complete:disabled:hover {\n",
              "    background-color: var(--disabled-bg-color);\n",
              "    fill: var(--disabled-fill-color);\n",
              "    box-shadow: none;\n",
              "  }\n",
              "\n",
              "  .colab-df-spinner {\n",
              "    border: 2px solid var(--fill-color);\n",
              "    border-color: transparent;\n",
              "    border-bottom-color: var(--fill-color);\n",
              "    animation:\n",
              "      spin 1s steps(1) infinite;\n",
              "  }\n",
              "\n",
              "  @keyframes spin {\n",
              "    0% {\n",
              "      border-color: transparent;\n",
              "      border-bottom-color: var(--fill-color);\n",
              "      border-left-color: var(--fill-color);\n",
              "    }\n",
              "    20% {\n",
              "      border-color: transparent;\n",
              "      border-left-color: var(--fill-color);\n",
              "      border-top-color: var(--fill-color);\n",
              "    }\n",
              "    30% {\n",
              "      border-color: transparent;\n",
              "      border-left-color: var(--fill-color);\n",
              "      border-top-color: var(--fill-color);\n",
              "      border-right-color: var(--fill-color);\n",
              "    }\n",
              "    40% {\n",
              "      border-color: transparent;\n",
              "      border-right-color: var(--fill-color);\n",
              "      border-top-color: var(--fill-color);\n",
              "    }\n",
              "    60% {\n",
              "      border-color: transparent;\n",
              "      border-right-color: var(--fill-color);\n",
              "    }\n",
              "    80% {\n",
              "      border-color: transparent;\n",
              "      border-right-color: var(--fill-color);\n",
              "      border-bottom-color: var(--fill-color);\n",
              "    }\n",
              "    90% {\n",
              "      border-color: transparent;\n",
              "      border-bottom-color: var(--fill-color);\n",
              "    }\n",
              "  }\n",
              "</style>\n",
              "\n",
              "  <script>\n",
              "    async function quickchart(key) {\n",
              "      const quickchartButtonEl =\n",
              "        document.querySelector('#' + key + ' button');\n",
              "      quickchartButtonEl.disabled = true;  // To prevent multiple clicks.\n",
              "      quickchartButtonEl.classList.add('colab-df-spinner');\n",
              "      try {\n",
              "        const charts = await google.colab.kernel.invokeFunction(\n",
              "            'suggestCharts', [key], {});\n",
              "      } catch (error) {\n",
              "        console.error('Error during call to suggestCharts:', error);\n",
              "      }\n",
              "      quickchartButtonEl.classList.remove('colab-df-spinner');\n",
              "      quickchartButtonEl.classList.add('colab-df-quickchart-complete');\n",
              "    }\n",
              "    (() => {\n",
              "      let quickchartButtonEl =\n",
              "        document.querySelector('#df-6dda2e23-85fa-44b2-b930-5c443e6b728c button');\n",
              "      quickchartButtonEl.style.display =\n",
              "        google.colab.kernel.accessAllowed ? 'block' : 'none';\n",
              "    })();\n",
              "  </script>\n",
              "</div>\n",
              "\n",
              "    </div>\n",
              "  </div>\n"
            ],
            "application/vnd.google.colaboratory.intrinsic+json": {
              "type": "dataframe",
              "summary": "{\n  \"name\": \"df\",\n  \"rows\": 2,\n  \"fields\": [\n    {\n      \"column\": \"\\uc131\\ubcc4\",\n      \"properties\": {\n        \"dtype\": \"string\",\n        \"num_unique_values\": 1,\n        \"samples\": [\n          \"\\ub0a8\\uc790\"\n        ],\n        \"semantic_type\": \"\",\n        \"description\": \"\"\n      }\n    }\n  ]\n}"
            }
          },
          "metadata": {},
          "execution_count": 276
        }
      ]
    },
    {
      "cell_type": "code",
      "source": [
        "df[df['키'] >= 180].head()"
      ],
      "metadata": {
        "colab": {
          "base_uri": "https://localhost:8080/",
          "height": 81
        },
        "id": "3DDtkdX91sfF",
        "outputId": "6ec992f4-3a53-4682-e890-cdf445f4fb5d"
      },
      "execution_count": null,
      "outputs": [
        {
          "output_type": "execute_result",
          "data": {
            "text/plain": [
              "   이름  성별  나이    키\n",
              "0  한빛  남자  20  180"
            ],
            "text/html": [
              "\n",
              "  <div id=\"df-50523959-fc8a-4b2b-ad1f-9b6b694f6714\" class=\"colab-df-container\">\n",
              "    <div>\n",
              "<style scoped>\n",
              "    .dataframe tbody tr th:only-of-type {\n",
              "        vertical-align: middle;\n",
              "    }\n",
              "\n",
              "    .dataframe tbody tr th {\n",
              "        vertical-align: top;\n",
              "    }\n",
              "\n",
              "    .dataframe thead th {\n",
              "        text-align: right;\n",
              "    }\n",
              "</style>\n",
              "<table border=\"1\" class=\"dataframe\">\n",
              "  <thead>\n",
              "    <tr style=\"text-align: right;\">\n",
              "      <th></th>\n",
              "      <th>이름</th>\n",
              "      <th>성별</th>\n",
              "      <th>나이</th>\n",
              "      <th>키</th>\n",
              "    </tr>\n",
              "  </thead>\n",
              "  <tbody>\n",
              "    <tr>\n",
              "      <th>0</th>\n",
              "      <td>한빛</td>\n",
              "      <td>남자</td>\n",
              "      <td>20</td>\n",
              "      <td>180</td>\n",
              "    </tr>\n",
              "  </tbody>\n",
              "</table>\n",
              "</div>\n",
              "    <div class=\"colab-df-buttons\">\n",
              "\n",
              "  <div class=\"colab-df-container\">\n",
              "    <button class=\"colab-df-convert\" onclick=\"convertToInteractive('df-50523959-fc8a-4b2b-ad1f-9b6b694f6714')\"\n",
              "            title=\"Convert this dataframe to an interactive table.\"\n",
              "            style=\"display:none;\">\n",
              "\n",
              "  <svg xmlns=\"http://www.w3.org/2000/svg\" height=\"24px\" viewBox=\"0 -960 960 960\">\n",
              "    <path d=\"M120-120v-720h720v720H120Zm60-500h600v-160H180v160Zm220 220h160v-160H400v160Zm0 220h160v-160H400v160ZM180-400h160v-160H180v160Zm440 0h160v-160H620v160ZM180-180h160v-160H180v160Zm440 0h160v-160H620v160Z\"/>\n",
              "  </svg>\n",
              "    </button>\n",
              "\n",
              "  <style>\n",
              "    .colab-df-container {\n",
              "      display:flex;\n",
              "      gap: 12px;\n",
              "    }\n",
              "\n",
              "    .colab-df-convert {\n",
              "      background-color: #E8F0FE;\n",
              "      border: none;\n",
              "      border-radius: 50%;\n",
              "      cursor: pointer;\n",
              "      display: none;\n",
              "      fill: #1967D2;\n",
              "      height: 32px;\n",
              "      padding: 0 0 0 0;\n",
              "      width: 32px;\n",
              "    }\n",
              "\n",
              "    .colab-df-convert:hover {\n",
              "      background-color: #E2EBFA;\n",
              "      box-shadow: 0px 1px 2px rgba(60, 64, 67, 0.3), 0px 1px 3px 1px rgba(60, 64, 67, 0.15);\n",
              "      fill: #174EA6;\n",
              "    }\n",
              "\n",
              "    .colab-df-buttons div {\n",
              "      margin-bottom: 4px;\n",
              "    }\n",
              "\n",
              "    [theme=dark] .colab-df-convert {\n",
              "      background-color: #3B4455;\n",
              "      fill: #D2E3FC;\n",
              "    }\n",
              "\n",
              "    [theme=dark] .colab-df-convert:hover {\n",
              "      background-color: #434B5C;\n",
              "      box-shadow: 0px 1px 3px 1px rgba(0, 0, 0, 0.15);\n",
              "      filter: drop-shadow(0px 1px 2px rgba(0, 0, 0, 0.3));\n",
              "      fill: #FFFFFF;\n",
              "    }\n",
              "  </style>\n",
              "\n",
              "    <script>\n",
              "      const buttonEl =\n",
              "        document.querySelector('#df-50523959-fc8a-4b2b-ad1f-9b6b694f6714 button.colab-df-convert');\n",
              "      buttonEl.style.display =\n",
              "        google.colab.kernel.accessAllowed ? 'block' : 'none';\n",
              "\n",
              "      async function convertToInteractive(key) {\n",
              "        const element = document.querySelector('#df-50523959-fc8a-4b2b-ad1f-9b6b694f6714');\n",
              "        const dataTable =\n",
              "          await google.colab.kernel.invokeFunction('convertToInteractive',\n",
              "                                                    [key], {});\n",
              "        if (!dataTable) return;\n",
              "\n",
              "        const docLinkHtml = 'Like what you see? Visit the ' +\n",
              "          '<a target=\"_blank\" href=https://colab.research.google.com/notebooks/data_table.ipynb>data table notebook</a>'\n",
              "          + ' to learn more about interactive tables.';\n",
              "        element.innerHTML = '';\n",
              "        dataTable['output_type'] = 'display_data';\n",
              "        await google.colab.output.renderOutput(dataTable, element);\n",
              "        const docLink = document.createElement('div');\n",
              "        docLink.innerHTML = docLinkHtml;\n",
              "        element.appendChild(docLink);\n",
              "      }\n",
              "    </script>\n",
              "  </div>\n",
              "\n",
              "\n",
              "    </div>\n",
              "  </div>\n"
            ],
            "application/vnd.google.colaboratory.intrinsic+json": {
              "type": "dataframe",
              "summary": "{\n  \"name\": \"df[df['\\ud0a4'] >= 180]\",\n  \"rows\": 1,\n  \"fields\": [\n    {\n      \"column\": \"\\uc774\\ub984\",\n      \"properties\": {\n        \"dtype\": \"string\",\n        \"num_unique_values\": 1,\n        \"samples\": [\n          \"\\ud55c\\ube5b\"\n        ],\n        \"semantic_type\": \"\",\n        \"description\": \"\"\n      }\n    },\n    {\n      \"column\": \"\\uc131\\ubcc4\",\n      \"properties\": {\n        \"dtype\": \"string\",\n        \"num_unique_values\": 1,\n        \"samples\": [\n          \"\\ub0a8\\uc790\"\n        ],\n        \"semantic_type\": \"\",\n        \"description\": \"\"\n      }\n    },\n    {\n      \"column\": \"\\ub098\\uc774\",\n      \"properties\": {\n        \"dtype\": \"number\",\n        \"std\": null,\n        \"min\": 20,\n        \"max\": 20,\n        \"num_unique_values\": 1,\n        \"samples\": [\n          20\n        ],\n        \"semantic_type\": \"\",\n        \"description\": \"\"\n      }\n    },\n    {\n      \"column\": \"\\ud0a4\",\n      \"properties\": {\n        \"dtype\": \"number\",\n        \"std\": null,\n        \"min\": 180,\n        \"max\": 180,\n        \"num_unique_values\": 1,\n        \"samples\": [\n          180\n        ],\n        \"semantic_type\": \"\",\n        \"description\": \"\"\n      }\n    }\n  ]\n}"
            }
          },
          "metadata": {},
          "execution_count": 292
        }
      ]
    },
    {
      "cell_type": "code",
      "source": [
        "df[df['키'] >= 160]"
      ],
      "metadata": {
        "colab": {
          "base_uri": "https://localhost:8080/",
          "height": 143
        },
        "id": "JtLv9_go0_bk",
        "outputId": "14c77954-4fcf-4627-b4ba-c3aedd35b22e"
      },
      "execution_count": null,
      "outputs": [
        {
          "output_type": "execute_result",
          "data": {
            "text/plain": [
              "   이름  성별  나이    키\n",
              "0  한빛  남자  20  180\n",
              "1  한결  남자  21  177\n",
              "2  한라  여자  20  160"
            ],
            "text/html": [
              "\n",
              "  <div id=\"df-bb953564-4597-4ad4-a7b6-348d0b340e29\" class=\"colab-df-container\">\n",
              "    <div>\n",
              "<style scoped>\n",
              "    .dataframe tbody tr th:only-of-type {\n",
              "        vertical-align: middle;\n",
              "    }\n",
              "\n",
              "    .dataframe tbody tr th {\n",
              "        vertical-align: top;\n",
              "    }\n",
              "\n",
              "    .dataframe thead th {\n",
              "        text-align: right;\n",
              "    }\n",
              "</style>\n",
              "<table border=\"1\" class=\"dataframe\">\n",
              "  <thead>\n",
              "    <tr style=\"text-align: right;\">\n",
              "      <th></th>\n",
              "      <th>이름</th>\n",
              "      <th>성별</th>\n",
              "      <th>나이</th>\n",
              "      <th>키</th>\n",
              "    </tr>\n",
              "  </thead>\n",
              "  <tbody>\n",
              "    <tr>\n",
              "      <th>0</th>\n",
              "      <td>한빛</td>\n",
              "      <td>남자</td>\n",
              "      <td>20</td>\n",
              "      <td>180</td>\n",
              "    </tr>\n",
              "    <tr>\n",
              "      <th>1</th>\n",
              "      <td>한결</td>\n",
              "      <td>남자</td>\n",
              "      <td>21</td>\n",
              "      <td>177</td>\n",
              "    </tr>\n",
              "    <tr>\n",
              "      <th>2</th>\n",
              "      <td>한라</td>\n",
              "      <td>여자</td>\n",
              "      <td>20</td>\n",
              "      <td>160</td>\n",
              "    </tr>\n",
              "  </tbody>\n",
              "</table>\n",
              "</div>\n",
              "    <div class=\"colab-df-buttons\">\n",
              "\n",
              "  <div class=\"colab-df-container\">\n",
              "    <button class=\"colab-df-convert\" onclick=\"convertToInteractive('df-bb953564-4597-4ad4-a7b6-348d0b340e29')\"\n",
              "            title=\"Convert this dataframe to an interactive table.\"\n",
              "            style=\"display:none;\">\n",
              "\n",
              "  <svg xmlns=\"http://www.w3.org/2000/svg\" height=\"24px\" viewBox=\"0 -960 960 960\">\n",
              "    <path d=\"M120-120v-720h720v720H120Zm60-500h600v-160H180v160Zm220 220h160v-160H400v160Zm0 220h160v-160H400v160ZM180-400h160v-160H180v160Zm440 0h160v-160H620v160ZM180-180h160v-160H180v160Zm440 0h160v-160H620v160Z\"/>\n",
              "  </svg>\n",
              "    </button>\n",
              "\n",
              "  <style>\n",
              "    .colab-df-container {\n",
              "      display:flex;\n",
              "      gap: 12px;\n",
              "    }\n",
              "\n",
              "    .colab-df-convert {\n",
              "      background-color: #E8F0FE;\n",
              "      border: none;\n",
              "      border-radius: 50%;\n",
              "      cursor: pointer;\n",
              "      display: none;\n",
              "      fill: #1967D2;\n",
              "      height: 32px;\n",
              "      padding: 0 0 0 0;\n",
              "      width: 32px;\n",
              "    }\n",
              "\n",
              "    .colab-df-convert:hover {\n",
              "      background-color: #E2EBFA;\n",
              "      box-shadow: 0px 1px 2px rgba(60, 64, 67, 0.3), 0px 1px 3px 1px rgba(60, 64, 67, 0.15);\n",
              "      fill: #174EA6;\n",
              "    }\n",
              "\n",
              "    .colab-df-buttons div {\n",
              "      margin-bottom: 4px;\n",
              "    }\n",
              "\n",
              "    [theme=dark] .colab-df-convert {\n",
              "      background-color: #3B4455;\n",
              "      fill: #D2E3FC;\n",
              "    }\n",
              "\n",
              "    [theme=dark] .colab-df-convert:hover {\n",
              "      background-color: #434B5C;\n",
              "      box-shadow: 0px 1px 3px 1px rgba(0, 0, 0, 0.15);\n",
              "      filter: drop-shadow(0px 1px 2px rgba(0, 0, 0, 0.3));\n",
              "      fill: #FFFFFF;\n",
              "    }\n",
              "  </style>\n",
              "\n",
              "    <script>\n",
              "      const buttonEl =\n",
              "        document.querySelector('#df-bb953564-4597-4ad4-a7b6-348d0b340e29 button.colab-df-convert');\n",
              "      buttonEl.style.display =\n",
              "        google.colab.kernel.accessAllowed ? 'block' : 'none';\n",
              "\n",
              "      async function convertToInteractive(key) {\n",
              "        const element = document.querySelector('#df-bb953564-4597-4ad4-a7b6-348d0b340e29');\n",
              "        const dataTable =\n",
              "          await google.colab.kernel.invokeFunction('convertToInteractive',\n",
              "                                                    [key], {});\n",
              "        if (!dataTable) return;\n",
              "\n",
              "        const docLinkHtml = 'Like what you see? Visit the ' +\n",
              "          '<a target=\"_blank\" href=https://colab.research.google.com/notebooks/data_table.ipynb>data table notebook</a>'\n",
              "          + ' to learn more about interactive tables.';\n",
              "        element.innerHTML = '';\n",
              "        dataTable['output_type'] = 'display_data';\n",
              "        await google.colab.output.renderOutput(dataTable, element);\n",
              "        const docLink = document.createElement('div');\n",
              "        docLink.innerHTML = docLinkHtml;\n",
              "        element.appendChild(docLink);\n",
              "      }\n",
              "    </script>\n",
              "  </div>\n",
              "\n",
              "\n",
              "<div id=\"df-322288c5-165f-4ca7-8c70-9ece21711024\">\n",
              "  <button class=\"colab-df-quickchart\" onclick=\"quickchart('df-322288c5-165f-4ca7-8c70-9ece21711024')\"\n",
              "            title=\"Suggest charts\"\n",
              "            style=\"display:none;\">\n",
              "\n",
              "<svg xmlns=\"http://www.w3.org/2000/svg\" height=\"24px\"viewBox=\"0 0 24 24\"\n",
              "     width=\"24px\">\n",
              "    <g>\n",
              "        <path d=\"M19 3H5c-1.1 0-2 .9-2 2v14c0 1.1.9 2 2 2h14c1.1 0 2-.9 2-2V5c0-1.1-.9-2-2-2zM9 17H7v-7h2v7zm4 0h-2V7h2v10zm4 0h-2v-4h2v4z\"/>\n",
              "    </g>\n",
              "</svg>\n",
              "  </button>\n",
              "\n",
              "<style>\n",
              "  .colab-df-quickchart {\n",
              "      --bg-color: #E8F0FE;\n",
              "      --fill-color: #1967D2;\n",
              "      --hover-bg-color: #E2EBFA;\n",
              "      --hover-fill-color: #174EA6;\n",
              "      --disabled-fill-color: #AAA;\n",
              "      --disabled-bg-color: #DDD;\n",
              "  }\n",
              "\n",
              "  [theme=dark] .colab-df-quickchart {\n",
              "      --bg-color: #3B4455;\n",
              "      --fill-color: #D2E3FC;\n",
              "      --hover-bg-color: #434B5C;\n",
              "      --hover-fill-color: #FFFFFF;\n",
              "      --disabled-bg-color: #3B4455;\n",
              "      --disabled-fill-color: #666;\n",
              "  }\n",
              "\n",
              "  .colab-df-quickchart {\n",
              "    background-color: var(--bg-color);\n",
              "    border: none;\n",
              "    border-radius: 50%;\n",
              "    cursor: pointer;\n",
              "    display: none;\n",
              "    fill: var(--fill-color);\n",
              "    height: 32px;\n",
              "    padding: 0;\n",
              "    width: 32px;\n",
              "  }\n",
              "\n",
              "  .colab-df-quickchart:hover {\n",
              "    background-color: var(--hover-bg-color);\n",
              "    box-shadow: 0 1px 2px rgba(60, 64, 67, 0.3), 0 1px 3px 1px rgba(60, 64, 67, 0.15);\n",
              "    fill: var(--button-hover-fill-color);\n",
              "  }\n",
              "\n",
              "  .colab-df-quickchart-complete:disabled,\n",
              "  .colab-df-quickchart-complete:disabled:hover {\n",
              "    background-color: var(--disabled-bg-color);\n",
              "    fill: var(--disabled-fill-color);\n",
              "    box-shadow: none;\n",
              "  }\n",
              "\n",
              "  .colab-df-spinner {\n",
              "    border: 2px solid var(--fill-color);\n",
              "    border-color: transparent;\n",
              "    border-bottom-color: var(--fill-color);\n",
              "    animation:\n",
              "      spin 1s steps(1) infinite;\n",
              "  }\n",
              "\n",
              "  @keyframes spin {\n",
              "    0% {\n",
              "      border-color: transparent;\n",
              "      border-bottom-color: var(--fill-color);\n",
              "      border-left-color: var(--fill-color);\n",
              "    }\n",
              "    20% {\n",
              "      border-color: transparent;\n",
              "      border-left-color: var(--fill-color);\n",
              "      border-top-color: var(--fill-color);\n",
              "    }\n",
              "    30% {\n",
              "      border-color: transparent;\n",
              "      border-left-color: var(--fill-color);\n",
              "      border-top-color: var(--fill-color);\n",
              "      border-right-color: var(--fill-color);\n",
              "    }\n",
              "    40% {\n",
              "      border-color: transparent;\n",
              "      border-right-color: var(--fill-color);\n",
              "      border-top-color: var(--fill-color);\n",
              "    }\n",
              "    60% {\n",
              "      border-color: transparent;\n",
              "      border-right-color: var(--fill-color);\n",
              "    }\n",
              "    80% {\n",
              "      border-color: transparent;\n",
              "      border-right-color: var(--fill-color);\n",
              "      border-bottom-color: var(--fill-color);\n",
              "    }\n",
              "    90% {\n",
              "      border-color: transparent;\n",
              "      border-bottom-color: var(--fill-color);\n",
              "    }\n",
              "  }\n",
              "</style>\n",
              "\n",
              "  <script>\n",
              "    async function quickchart(key) {\n",
              "      const quickchartButtonEl =\n",
              "        document.querySelector('#' + key + ' button');\n",
              "      quickchartButtonEl.disabled = true;  // To prevent multiple clicks.\n",
              "      quickchartButtonEl.classList.add('colab-df-spinner');\n",
              "      try {\n",
              "        const charts = await google.colab.kernel.invokeFunction(\n",
              "            'suggestCharts', [key], {});\n",
              "      } catch (error) {\n",
              "        console.error('Error during call to suggestCharts:', error);\n",
              "      }\n",
              "      quickchartButtonEl.classList.remove('colab-df-spinner');\n",
              "      quickchartButtonEl.classList.add('colab-df-quickchart-complete');\n",
              "    }\n",
              "    (() => {\n",
              "      let quickchartButtonEl =\n",
              "        document.querySelector('#df-322288c5-165f-4ca7-8c70-9ece21711024 button');\n",
              "      quickchartButtonEl.style.display =\n",
              "        google.colab.kernel.accessAllowed ? 'block' : 'none';\n",
              "    })();\n",
              "  </script>\n",
              "</div>\n",
              "\n",
              "    </div>\n",
              "  </div>\n"
            ],
            "application/vnd.google.colaboratory.intrinsic+json": {
              "type": "dataframe",
              "summary": "{\n  \"name\": \"df[df['\\ud0a4'] >= 160]\",\n  \"rows\": 3,\n  \"fields\": [\n    {\n      \"column\": \"\\uc774\\ub984\",\n      \"properties\": {\n        \"dtype\": \"string\",\n        \"num_unique_values\": 3,\n        \"samples\": [\n          \"\\ud55c\\ube5b\",\n          \"\\ud55c\\uacb0\",\n          \"\\ud55c\\ub77c\"\n        ],\n        \"semantic_type\": \"\",\n        \"description\": \"\"\n      }\n    },\n    {\n      \"column\": \"\\uc131\\ubcc4\",\n      \"properties\": {\n        \"dtype\": \"string\",\n        \"num_unique_values\": 2,\n        \"samples\": [\n          \"\\uc5ec\\uc790\",\n          \"\\ub0a8\\uc790\"\n        ],\n        \"semantic_type\": \"\",\n        \"description\": \"\"\n      }\n    },\n    {\n      \"column\": \"\\ub098\\uc774\",\n      \"properties\": {\n        \"dtype\": \"number\",\n        \"std\": 0,\n        \"min\": 20,\n        \"max\": 21,\n        \"num_unique_values\": 2,\n        \"samples\": [\n          21,\n          20\n        ],\n        \"semantic_type\": \"\",\n        \"description\": \"\"\n      }\n    },\n    {\n      \"column\": \"\\ud0a4\",\n      \"properties\": {\n        \"dtype\": \"number\",\n        \"std\": 10,\n        \"min\": 160,\n        \"max\": 180,\n        \"num_unique_values\": 3,\n        \"samples\": [\n          180,\n          177\n        ],\n        \"semantic_type\": \"\",\n        \"description\": \"\"\n      }\n    }\n  ]\n}"
            }
          },
          "metadata": {},
          "execution_count": 286
        }
      ]
    },
    {
      "cell_type": "code",
      "source": [
        "df[df['나이'].isin([21, 23])]"
      ],
      "metadata": {
        "colab": {
          "base_uri": "https://localhost:8080/",
          "height": 81
        },
        "id": "rQyrpEy3-dwn",
        "outputId": "fcbea053-454c-4e2d-833c-bdd9bafdc186"
      },
      "execution_count": null,
      "outputs": [
        {
          "output_type": "execute_result",
          "data": {
            "text/plain": [
              "   이름  성별  나이    키\n",
              "1  한결  남자  21  177"
            ],
            "text/html": [
              "\n",
              "  <div id=\"df-9cc79a11-3e38-4fc8-ba9c-f81cb134bb18\" class=\"colab-df-container\">\n",
              "    <div>\n",
              "<style scoped>\n",
              "    .dataframe tbody tr th:only-of-type {\n",
              "        vertical-align: middle;\n",
              "    }\n",
              "\n",
              "    .dataframe tbody tr th {\n",
              "        vertical-align: top;\n",
              "    }\n",
              "\n",
              "    .dataframe thead th {\n",
              "        text-align: right;\n",
              "    }\n",
              "</style>\n",
              "<table border=\"1\" class=\"dataframe\">\n",
              "  <thead>\n",
              "    <tr style=\"text-align: right;\">\n",
              "      <th></th>\n",
              "      <th>이름</th>\n",
              "      <th>성별</th>\n",
              "      <th>나이</th>\n",
              "      <th>키</th>\n",
              "    </tr>\n",
              "  </thead>\n",
              "  <tbody>\n",
              "    <tr>\n",
              "      <th>1</th>\n",
              "      <td>한결</td>\n",
              "      <td>남자</td>\n",
              "      <td>21</td>\n",
              "      <td>177</td>\n",
              "    </tr>\n",
              "  </tbody>\n",
              "</table>\n",
              "</div>\n",
              "    <div class=\"colab-df-buttons\">\n",
              "\n",
              "  <div class=\"colab-df-container\">\n",
              "    <button class=\"colab-df-convert\" onclick=\"convertToInteractive('df-9cc79a11-3e38-4fc8-ba9c-f81cb134bb18')\"\n",
              "            title=\"Convert this dataframe to an interactive table.\"\n",
              "            style=\"display:none;\">\n",
              "\n",
              "  <svg xmlns=\"http://www.w3.org/2000/svg\" height=\"24px\" viewBox=\"0 -960 960 960\">\n",
              "    <path d=\"M120-120v-720h720v720H120Zm60-500h600v-160H180v160Zm220 220h160v-160H400v160Zm0 220h160v-160H400v160ZM180-400h160v-160H180v160Zm440 0h160v-160H620v160ZM180-180h160v-160H180v160Zm440 0h160v-160H620v160Z\"/>\n",
              "  </svg>\n",
              "    </button>\n",
              "\n",
              "  <style>\n",
              "    .colab-df-container {\n",
              "      display:flex;\n",
              "      gap: 12px;\n",
              "    }\n",
              "\n",
              "    .colab-df-convert {\n",
              "      background-color: #E8F0FE;\n",
              "      border: none;\n",
              "      border-radius: 50%;\n",
              "      cursor: pointer;\n",
              "      display: none;\n",
              "      fill: #1967D2;\n",
              "      height: 32px;\n",
              "      padding: 0 0 0 0;\n",
              "      width: 32px;\n",
              "    }\n",
              "\n",
              "    .colab-df-convert:hover {\n",
              "      background-color: #E2EBFA;\n",
              "      box-shadow: 0px 1px 2px rgba(60, 64, 67, 0.3), 0px 1px 3px 1px rgba(60, 64, 67, 0.15);\n",
              "      fill: #174EA6;\n",
              "    }\n",
              "\n",
              "    .colab-df-buttons div {\n",
              "      margin-bottom: 4px;\n",
              "    }\n",
              "\n",
              "    [theme=dark] .colab-df-convert {\n",
              "      background-color: #3B4455;\n",
              "      fill: #D2E3FC;\n",
              "    }\n",
              "\n",
              "    [theme=dark] .colab-df-convert:hover {\n",
              "      background-color: #434B5C;\n",
              "      box-shadow: 0px 1px 3px 1px rgba(0, 0, 0, 0.15);\n",
              "      filter: drop-shadow(0px 1px 2px rgba(0, 0, 0, 0.3));\n",
              "      fill: #FFFFFF;\n",
              "    }\n",
              "  </style>\n",
              "\n",
              "    <script>\n",
              "      const buttonEl =\n",
              "        document.querySelector('#df-9cc79a11-3e38-4fc8-ba9c-f81cb134bb18 button.colab-df-convert');\n",
              "      buttonEl.style.display =\n",
              "        google.colab.kernel.accessAllowed ? 'block' : 'none';\n",
              "\n",
              "      async function convertToInteractive(key) {\n",
              "        const element = document.querySelector('#df-9cc79a11-3e38-4fc8-ba9c-f81cb134bb18');\n",
              "        const dataTable =\n",
              "          await google.colab.kernel.invokeFunction('convertToInteractive',\n",
              "                                                    [key], {});\n",
              "        if (!dataTable) return;\n",
              "\n",
              "        const docLinkHtml = 'Like what you see? Visit the ' +\n",
              "          '<a target=\"_blank\" href=https://colab.research.google.com/notebooks/data_table.ipynb>data table notebook</a>'\n",
              "          + ' to learn more about interactive tables.';\n",
              "        element.innerHTML = '';\n",
              "        dataTable['output_type'] = 'display_data';\n",
              "        await google.colab.output.renderOutput(dataTable, element);\n",
              "        const docLink = document.createElement('div');\n",
              "        docLink.innerHTML = docLinkHtml;\n",
              "        element.appendChild(docLink);\n",
              "      }\n",
              "    </script>\n",
              "  </div>\n",
              "\n",
              "\n",
              "    </div>\n",
              "  </div>\n"
            ],
            "application/vnd.google.colaboratory.intrinsic+json": {
              "type": "dataframe",
              "summary": "{\n  \"name\": \"df[df['\\ub098\\uc774']\",\n  \"rows\": 1,\n  \"fields\": [\n    {\n      \"column\": \"\\uc774\\ub984\",\n      \"properties\": {\n        \"dtype\": \"string\",\n        \"num_unique_values\": 1,\n        \"samples\": [\n          \"\\ud55c\\uacb0\"\n        ],\n        \"semantic_type\": \"\",\n        \"description\": \"\"\n      }\n    },\n    {\n      \"column\": \"\\uc131\\ubcc4\",\n      \"properties\": {\n        \"dtype\": \"string\",\n        \"num_unique_values\": 1,\n        \"samples\": [\n          \"\\ub0a8\\uc790\"\n        ],\n        \"semantic_type\": \"\",\n        \"description\": \"\"\n      }\n    },\n    {\n      \"column\": \"\\ub098\\uc774\",\n      \"properties\": {\n        \"dtype\": \"number\",\n        \"std\": null,\n        \"min\": 21,\n        \"max\": 21,\n        \"num_unique_values\": 1,\n        \"samples\": [\n          21\n        ],\n        \"semantic_type\": \"\",\n        \"description\": \"\"\n      }\n    },\n    {\n      \"column\": \"\\ud0a4\",\n      \"properties\": {\n        \"dtype\": \"number\",\n        \"std\": null,\n        \"min\": 177,\n        \"max\": 177,\n        \"num_unique_values\": 1,\n        \"samples\": [\n          177\n        ],\n        \"semantic_type\": \"\",\n        \"description\": \"\"\n      }\n    }\n  ]\n}"
            }
          },
          "metadata": {},
          "execution_count": 293
        }
      ]
    },
    {
      "cell_type": "code",
      "source": [
        "df[(df['성별'] == '여자') &['키'] > 160]"
      ],
      "metadata": {
        "colab": {
          "base_uri": "https://localhost:8080/",
          "height": 547
        },
        "id": "S5At_a13-wxB",
        "outputId": "b0655232-3f74-47af-f00b-d1a7da726922"
      },
      "execution_count": null,
      "outputs": [
        {
          "output_type": "error",
          "ename": "KeyError",
          "evalue": "'성별'",
          "traceback": [
            "\u001b[0;31m---------------------------------------------------------------------------\u001b[0m",
            "\u001b[0;31mKeyError\u001b[0m                                  Traceback (most recent call last)",
            "\u001b[0;32m/usr/local/lib/python3.11/dist-packages/pandas/core/indexes/base.py\u001b[0m in \u001b[0;36mget_loc\u001b[0;34m(self, key)\u001b[0m\n\u001b[1;32m   3804\u001b[0m         \u001b[0;32mtry\u001b[0m\u001b[0;34m:\u001b[0m\u001b[0;34m\u001b[0m\u001b[0;34m\u001b[0m\u001b[0m\n\u001b[0;32m-> 3805\u001b[0;31m             \u001b[0;32mreturn\u001b[0m \u001b[0mself\u001b[0m\u001b[0;34m.\u001b[0m\u001b[0m_engine\u001b[0m\u001b[0;34m.\u001b[0m\u001b[0mget_loc\u001b[0m\u001b[0;34m(\u001b[0m\u001b[0mcasted_key\u001b[0m\u001b[0;34m)\u001b[0m\u001b[0;34m\u001b[0m\u001b[0;34m\u001b[0m\u001b[0m\n\u001b[0m\u001b[1;32m   3806\u001b[0m         \u001b[0;32mexcept\u001b[0m \u001b[0mKeyError\u001b[0m \u001b[0;32mas\u001b[0m \u001b[0merr\u001b[0m\u001b[0;34m:\u001b[0m\u001b[0;34m\u001b[0m\u001b[0;34m\u001b[0m\u001b[0m\n",
            "\u001b[0;32mindex.pyx\u001b[0m in \u001b[0;36mpandas._libs.index.IndexEngine.get_loc\u001b[0;34m()\u001b[0m\n",
            "\u001b[0;32mindex.pyx\u001b[0m in \u001b[0;36mpandas._libs.index.IndexEngine.get_loc\u001b[0;34m()\u001b[0m\n",
            "\u001b[0;32mpandas/_libs/hashtable_class_helper.pxi\u001b[0m in \u001b[0;36mpandas._libs.hashtable.PyObjectHashTable.get_item\u001b[0;34m()\u001b[0m\n",
            "\u001b[0;32mpandas/_libs/hashtable_class_helper.pxi\u001b[0m in \u001b[0;36mpandas._libs.hashtable.PyObjectHashTable.get_item\u001b[0;34m()\u001b[0m\n",
            "\u001b[0;31mKeyError\u001b[0m: '성별'",
            "\nThe above exception was the direct cause of the following exception:\n",
            "\u001b[0;31mKeyError\u001b[0m                                  Traceback (most recent call last)",
            "\u001b[0;32m<ipython-input-186-0eed74e0573e>\u001b[0m in \u001b[0;36m<cell line: 0>\u001b[0;34m()\u001b[0m\n\u001b[0;32m----> 1\u001b[0;31m \u001b[0mdf\u001b[0m\u001b[0;34m[\u001b[0m\u001b[0;34m(\u001b[0m\u001b[0mdf\u001b[0m\u001b[0;34m[\u001b[0m\u001b[0;34m'성별'\u001b[0m\u001b[0;34m]\u001b[0m \u001b[0;34m==\u001b[0m \u001b[0;34m'여자'\u001b[0m\u001b[0;34m)\u001b[0m \u001b[0;34m&\u001b[0m\u001b[0;34m[\u001b[0m\u001b[0;34m'키'\u001b[0m\u001b[0;34m]\u001b[0m \u001b[0;34m>\u001b[0m \u001b[0;36m160\u001b[0m\u001b[0;34m]\u001b[0m\u001b[0;34m\u001b[0m\u001b[0;34m\u001b[0m\u001b[0m\n\u001b[0m",
            "\u001b[0;32m/usr/local/lib/python3.11/dist-packages/pandas/core/frame.py\u001b[0m in \u001b[0;36m__getitem__\u001b[0;34m(self, key)\u001b[0m\n\u001b[1;32m   4100\u001b[0m             \u001b[0;32mif\u001b[0m \u001b[0mself\u001b[0m\u001b[0;34m.\u001b[0m\u001b[0mcolumns\u001b[0m\u001b[0;34m.\u001b[0m\u001b[0mnlevels\u001b[0m \u001b[0;34m>\u001b[0m \u001b[0;36m1\u001b[0m\u001b[0;34m:\u001b[0m\u001b[0;34m\u001b[0m\u001b[0;34m\u001b[0m\u001b[0m\n\u001b[1;32m   4101\u001b[0m                 \u001b[0;32mreturn\u001b[0m \u001b[0mself\u001b[0m\u001b[0;34m.\u001b[0m\u001b[0m_getitem_multilevel\u001b[0m\u001b[0;34m(\u001b[0m\u001b[0mkey\u001b[0m\u001b[0;34m)\u001b[0m\u001b[0;34m\u001b[0m\u001b[0;34m\u001b[0m\u001b[0m\n\u001b[0;32m-> 4102\u001b[0;31m             \u001b[0mindexer\u001b[0m \u001b[0;34m=\u001b[0m \u001b[0mself\u001b[0m\u001b[0;34m.\u001b[0m\u001b[0mcolumns\u001b[0m\u001b[0;34m.\u001b[0m\u001b[0mget_loc\u001b[0m\u001b[0;34m(\u001b[0m\u001b[0mkey\u001b[0m\u001b[0;34m)\u001b[0m\u001b[0;34m\u001b[0m\u001b[0;34m\u001b[0m\u001b[0m\n\u001b[0m\u001b[1;32m   4103\u001b[0m             \u001b[0;32mif\u001b[0m \u001b[0mis_integer\u001b[0m\u001b[0;34m(\u001b[0m\u001b[0mindexer\u001b[0m\u001b[0;34m)\u001b[0m\u001b[0;34m:\u001b[0m\u001b[0;34m\u001b[0m\u001b[0;34m\u001b[0m\u001b[0m\n\u001b[1;32m   4104\u001b[0m                 \u001b[0mindexer\u001b[0m \u001b[0;34m=\u001b[0m \u001b[0;34m[\u001b[0m\u001b[0mindexer\u001b[0m\u001b[0;34m]\u001b[0m\u001b[0;34m\u001b[0m\u001b[0;34m\u001b[0m\u001b[0m\n",
            "\u001b[0;32m/usr/local/lib/python3.11/dist-packages/pandas/core/indexes/base.py\u001b[0m in \u001b[0;36mget_loc\u001b[0;34m(self, key)\u001b[0m\n\u001b[1;32m   3810\u001b[0m             ):\n\u001b[1;32m   3811\u001b[0m                 \u001b[0;32mraise\u001b[0m \u001b[0mInvalidIndexError\u001b[0m\u001b[0;34m(\u001b[0m\u001b[0mkey\u001b[0m\u001b[0;34m)\u001b[0m\u001b[0;34m\u001b[0m\u001b[0;34m\u001b[0m\u001b[0m\n\u001b[0;32m-> 3812\u001b[0;31m             \u001b[0;32mraise\u001b[0m \u001b[0mKeyError\u001b[0m\u001b[0;34m(\u001b[0m\u001b[0mkey\u001b[0m\u001b[0;34m)\u001b[0m \u001b[0;32mfrom\u001b[0m \u001b[0merr\u001b[0m\u001b[0;34m\u001b[0m\u001b[0;34m\u001b[0m\u001b[0m\n\u001b[0m\u001b[1;32m   3813\u001b[0m         \u001b[0;32mexcept\u001b[0m \u001b[0mTypeError\u001b[0m\u001b[0;34m:\u001b[0m\u001b[0;34m\u001b[0m\u001b[0;34m\u001b[0m\u001b[0m\n\u001b[1;32m   3814\u001b[0m             \u001b[0;31m# If we have a listlike key, _check_indexing_error will raise\u001b[0m\u001b[0;34m\u001b[0m\u001b[0;34m\u001b[0m\u001b[0m\n",
            "\u001b[0;31mKeyError\u001b[0m: '성별'"
          ]
        }
      ]
    },
    {
      "cell_type": "code",
      "source": [
        "df[df['나이'] >= 20  | (df['성별'] == '남자')]"
      ],
      "metadata": {
        "colab": {
          "base_uri": "https://localhost:8080/",
          "height": 143
        },
        "id": "qKXGXOEL_B4e",
        "outputId": "075d45e0-4106-49b3-f4f2-77e7b336e3d4"
      },
      "execution_count": null,
      "outputs": [
        {
          "output_type": "execute_result",
          "data": {
            "text/plain": [
              "   이름  성별  나이    키\n",
              "0  한빛  남자  20  180\n",
              "1  한결  남자  21  177\n",
              "2  한라  여자  20  160"
            ],
            "text/html": [
              "\n",
              "  <div id=\"df-0f1c2a51-c575-426e-8454-89139033146f\" class=\"colab-df-container\">\n",
              "    <div>\n",
              "<style scoped>\n",
              "    .dataframe tbody tr th:only-of-type {\n",
              "        vertical-align: middle;\n",
              "    }\n",
              "\n",
              "    .dataframe tbody tr th {\n",
              "        vertical-align: top;\n",
              "    }\n",
              "\n",
              "    .dataframe thead th {\n",
              "        text-align: right;\n",
              "    }\n",
              "</style>\n",
              "<table border=\"1\" class=\"dataframe\">\n",
              "  <thead>\n",
              "    <tr style=\"text-align: right;\">\n",
              "      <th></th>\n",
              "      <th>이름</th>\n",
              "      <th>성별</th>\n",
              "      <th>나이</th>\n",
              "      <th>키</th>\n",
              "    </tr>\n",
              "  </thead>\n",
              "  <tbody>\n",
              "    <tr>\n",
              "      <th>0</th>\n",
              "      <td>한빛</td>\n",
              "      <td>남자</td>\n",
              "      <td>20</td>\n",
              "      <td>180</td>\n",
              "    </tr>\n",
              "    <tr>\n",
              "      <th>1</th>\n",
              "      <td>한결</td>\n",
              "      <td>남자</td>\n",
              "      <td>21</td>\n",
              "      <td>177</td>\n",
              "    </tr>\n",
              "    <tr>\n",
              "      <th>2</th>\n",
              "      <td>한라</td>\n",
              "      <td>여자</td>\n",
              "      <td>20</td>\n",
              "      <td>160</td>\n",
              "    </tr>\n",
              "  </tbody>\n",
              "</table>\n",
              "</div>\n",
              "    <div class=\"colab-df-buttons\">\n",
              "\n",
              "  <div class=\"colab-df-container\">\n",
              "    <button class=\"colab-df-convert\" onclick=\"convertToInteractive('df-0f1c2a51-c575-426e-8454-89139033146f')\"\n",
              "            title=\"Convert this dataframe to an interactive table.\"\n",
              "            style=\"display:none;\">\n",
              "\n",
              "  <svg xmlns=\"http://www.w3.org/2000/svg\" height=\"24px\" viewBox=\"0 -960 960 960\">\n",
              "    <path d=\"M120-120v-720h720v720H120Zm60-500h600v-160H180v160Zm220 220h160v-160H400v160Zm0 220h160v-160H400v160ZM180-400h160v-160H180v160Zm440 0h160v-160H620v160ZM180-180h160v-160H180v160Zm440 0h160v-160H620v160Z\"/>\n",
              "  </svg>\n",
              "    </button>\n",
              "\n",
              "  <style>\n",
              "    .colab-df-container {\n",
              "      display:flex;\n",
              "      gap: 12px;\n",
              "    }\n",
              "\n",
              "    .colab-df-convert {\n",
              "      background-color: #E8F0FE;\n",
              "      border: none;\n",
              "      border-radius: 50%;\n",
              "      cursor: pointer;\n",
              "      display: none;\n",
              "      fill: #1967D2;\n",
              "      height: 32px;\n",
              "      padding: 0 0 0 0;\n",
              "      width: 32px;\n",
              "    }\n",
              "\n",
              "    .colab-df-convert:hover {\n",
              "      background-color: #E2EBFA;\n",
              "      box-shadow: 0px 1px 2px rgba(60, 64, 67, 0.3), 0px 1px 3px 1px rgba(60, 64, 67, 0.15);\n",
              "      fill: #174EA6;\n",
              "    }\n",
              "\n",
              "    .colab-df-buttons div {\n",
              "      margin-bottom: 4px;\n",
              "    }\n",
              "\n",
              "    [theme=dark] .colab-df-convert {\n",
              "      background-color: #3B4455;\n",
              "      fill: #D2E3FC;\n",
              "    }\n",
              "\n",
              "    [theme=dark] .colab-df-convert:hover {\n",
              "      background-color: #434B5C;\n",
              "      box-shadow: 0px 1px 3px 1px rgba(0, 0, 0, 0.15);\n",
              "      filter: drop-shadow(0px 1px 2px rgba(0, 0, 0, 0.3));\n",
              "      fill: #FFFFFF;\n",
              "    }\n",
              "  </style>\n",
              "\n",
              "    <script>\n",
              "      const buttonEl =\n",
              "        document.querySelector('#df-0f1c2a51-c575-426e-8454-89139033146f button.colab-df-convert');\n",
              "      buttonEl.style.display =\n",
              "        google.colab.kernel.accessAllowed ? 'block' : 'none';\n",
              "\n",
              "      async function convertToInteractive(key) {\n",
              "        const element = document.querySelector('#df-0f1c2a51-c575-426e-8454-89139033146f');\n",
              "        const dataTable =\n",
              "          await google.colab.kernel.invokeFunction('convertToInteractive',\n",
              "                                                    [key], {});\n",
              "        if (!dataTable) return;\n",
              "\n",
              "        const docLinkHtml = 'Like what you see? Visit the ' +\n",
              "          '<a target=\"_blank\" href=https://colab.research.google.com/notebooks/data_table.ipynb>data table notebook</a>'\n",
              "          + ' to learn more about interactive tables.';\n",
              "        element.innerHTML = '';\n",
              "        dataTable['output_type'] = 'display_data';\n",
              "        await google.colab.output.renderOutput(dataTable, element);\n",
              "        const docLink = document.createElement('div');\n",
              "        docLink.innerHTML = docLinkHtml;\n",
              "        element.appendChild(docLink);\n",
              "      }\n",
              "    </script>\n",
              "  </div>\n",
              "\n",
              "\n",
              "<div id=\"df-b240bcad-ef9c-4922-8caf-ada4b8d9990a\">\n",
              "  <button class=\"colab-df-quickchart\" onclick=\"quickchart('df-b240bcad-ef9c-4922-8caf-ada4b8d9990a')\"\n",
              "            title=\"Suggest charts\"\n",
              "            style=\"display:none;\">\n",
              "\n",
              "<svg xmlns=\"http://www.w3.org/2000/svg\" height=\"24px\"viewBox=\"0 0 24 24\"\n",
              "     width=\"24px\">\n",
              "    <g>\n",
              "        <path d=\"M19 3H5c-1.1 0-2 .9-2 2v14c0 1.1.9 2 2 2h14c1.1 0 2-.9 2-2V5c0-1.1-.9-2-2-2zM9 17H7v-7h2v7zm4 0h-2V7h2v10zm4 0h-2v-4h2v4z\"/>\n",
              "    </g>\n",
              "</svg>\n",
              "  </button>\n",
              "\n",
              "<style>\n",
              "  .colab-df-quickchart {\n",
              "      --bg-color: #E8F0FE;\n",
              "      --fill-color: #1967D2;\n",
              "      --hover-bg-color: #E2EBFA;\n",
              "      --hover-fill-color: #174EA6;\n",
              "      --disabled-fill-color: #AAA;\n",
              "      --disabled-bg-color: #DDD;\n",
              "  }\n",
              "\n",
              "  [theme=dark] .colab-df-quickchart {\n",
              "      --bg-color: #3B4455;\n",
              "      --fill-color: #D2E3FC;\n",
              "      --hover-bg-color: #434B5C;\n",
              "      --hover-fill-color: #FFFFFF;\n",
              "      --disabled-bg-color: #3B4455;\n",
              "      --disabled-fill-color: #666;\n",
              "  }\n",
              "\n",
              "  .colab-df-quickchart {\n",
              "    background-color: var(--bg-color);\n",
              "    border: none;\n",
              "    border-radius: 50%;\n",
              "    cursor: pointer;\n",
              "    display: none;\n",
              "    fill: var(--fill-color);\n",
              "    height: 32px;\n",
              "    padding: 0;\n",
              "    width: 32px;\n",
              "  }\n",
              "\n",
              "  .colab-df-quickchart:hover {\n",
              "    background-color: var(--hover-bg-color);\n",
              "    box-shadow: 0 1px 2px rgba(60, 64, 67, 0.3), 0 1px 3px 1px rgba(60, 64, 67, 0.15);\n",
              "    fill: var(--button-hover-fill-color);\n",
              "  }\n",
              "\n",
              "  .colab-df-quickchart-complete:disabled,\n",
              "  .colab-df-quickchart-complete:disabled:hover {\n",
              "    background-color: var(--disabled-bg-color);\n",
              "    fill: var(--disabled-fill-color);\n",
              "    box-shadow: none;\n",
              "  }\n",
              "\n",
              "  .colab-df-spinner {\n",
              "    border: 2px solid var(--fill-color);\n",
              "    border-color: transparent;\n",
              "    border-bottom-color: var(--fill-color);\n",
              "    animation:\n",
              "      spin 1s steps(1) infinite;\n",
              "  }\n",
              "\n",
              "  @keyframes spin {\n",
              "    0% {\n",
              "      border-color: transparent;\n",
              "      border-bottom-color: var(--fill-color);\n",
              "      border-left-color: var(--fill-color);\n",
              "    }\n",
              "    20% {\n",
              "      border-color: transparent;\n",
              "      border-left-color: var(--fill-color);\n",
              "      border-top-color: var(--fill-color);\n",
              "    }\n",
              "    30% {\n",
              "      border-color: transparent;\n",
              "      border-left-color: var(--fill-color);\n",
              "      border-top-color: var(--fill-color);\n",
              "      border-right-color: var(--fill-color);\n",
              "    }\n",
              "    40% {\n",
              "      border-color: transparent;\n",
              "      border-right-color: var(--fill-color);\n",
              "      border-top-color: var(--fill-color);\n",
              "    }\n",
              "    60% {\n",
              "      border-color: transparent;\n",
              "      border-right-color: var(--fill-color);\n",
              "    }\n",
              "    80% {\n",
              "      border-color: transparent;\n",
              "      border-right-color: var(--fill-color);\n",
              "      border-bottom-color: var(--fill-color);\n",
              "    }\n",
              "    90% {\n",
              "      border-color: transparent;\n",
              "      border-bottom-color: var(--fill-color);\n",
              "    }\n",
              "  }\n",
              "</style>\n",
              "\n",
              "  <script>\n",
              "    async function quickchart(key) {\n",
              "      const quickchartButtonEl =\n",
              "        document.querySelector('#' + key + ' button');\n",
              "      quickchartButtonEl.disabled = true;  // To prevent multiple clicks.\n",
              "      quickchartButtonEl.classList.add('colab-df-spinner');\n",
              "      try {\n",
              "        const charts = await google.colab.kernel.invokeFunction(\n",
              "            'suggestCharts', [key], {});\n",
              "      } catch (error) {\n",
              "        console.error('Error during call to suggestCharts:', error);\n",
              "      }\n",
              "      quickchartButtonEl.classList.remove('colab-df-spinner');\n",
              "      quickchartButtonEl.classList.add('colab-df-quickchart-complete');\n",
              "    }\n",
              "    (() => {\n",
              "      let quickchartButtonEl =\n",
              "        document.querySelector('#df-b240bcad-ef9c-4922-8caf-ada4b8d9990a button');\n",
              "      quickchartButtonEl.style.display =\n",
              "        google.colab.kernel.accessAllowed ? 'block' : 'none';\n",
              "    })();\n",
              "  </script>\n",
              "</div>\n",
              "\n",
              "    </div>\n",
              "  </div>\n"
            ],
            "application/vnd.google.colaboratory.intrinsic+json": {
              "type": "dataframe",
              "summary": "{\n  \"name\": \"df[df['\\ub098\\uc774'] >= 20  | (df['\\uc131\\ubcc4'] == '\\ub0a8\\uc790')]\",\n  \"rows\": 3,\n  \"fields\": [\n    {\n      \"column\": \"\\uc774\\ub984\",\n      \"properties\": {\n        \"dtype\": \"string\",\n        \"num_unique_values\": 3,\n        \"samples\": [\n          \"\\ud55c\\ube5b\",\n          \"\\ud55c\\uacb0\",\n          \"\\ud55c\\ub77c\"\n        ],\n        \"semantic_type\": \"\",\n        \"description\": \"\"\n      }\n    },\n    {\n      \"column\": \"\\uc131\\ubcc4\",\n      \"properties\": {\n        \"dtype\": \"string\",\n        \"num_unique_values\": 2,\n        \"samples\": [\n          \"\\uc5ec\\uc790\",\n          \"\\ub0a8\\uc790\"\n        ],\n        \"semantic_type\": \"\",\n        \"description\": \"\"\n      }\n    },\n    {\n      \"column\": \"\\ub098\\uc774\",\n      \"properties\": {\n        \"dtype\": \"number\",\n        \"std\": 0,\n        \"min\": 20,\n        \"max\": 21,\n        \"num_unique_values\": 2,\n        \"samples\": [\n          21,\n          20\n        ],\n        \"semantic_type\": \"\",\n        \"description\": \"\"\n      }\n    },\n    {\n      \"column\": \"\\ud0a4\",\n      \"properties\": {\n        \"dtype\": \"number\",\n        \"std\": 10,\n        \"min\": 160,\n        \"max\": 180,\n        \"num_unique_values\": 3,\n        \"samples\": [\n          180,\n          177\n        ],\n        \"semantic_type\": \"\",\n        \"description\": \"\"\n      }\n    }\n  ]\n}"
            }
          },
          "metadata": {},
          "execution_count": 299
        }
      ]
    },
    {
      "cell_type": "code",
      "source": [
        "df[df['이름'].str.contains('결')]"
      ],
      "metadata": {
        "colab": {
          "base_uri": "https://localhost:8080/",
          "height": 81
        },
        "id": "IZ0kOeuT_jB2",
        "outputId": "7a828fcd-8433-4d6d-b1cd-416326ca0cf9"
      },
      "execution_count": null,
      "outputs": [
        {
          "output_type": "execute_result",
          "data": {
            "text/plain": [
              "   이름  성별  나이    키\n",
              "1  한결  남자  21  177"
            ],
            "text/html": [
              "\n",
              "  <div id=\"df-1353f2b6-e85d-471c-8997-9707ab871ba6\" class=\"colab-df-container\">\n",
              "    <div>\n",
              "<style scoped>\n",
              "    .dataframe tbody tr th:only-of-type {\n",
              "        vertical-align: middle;\n",
              "    }\n",
              "\n",
              "    .dataframe tbody tr th {\n",
              "        vertical-align: top;\n",
              "    }\n",
              "\n",
              "    .dataframe thead th {\n",
              "        text-align: right;\n",
              "    }\n",
              "</style>\n",
              "<table border=\"1\" class=\"dataframe\">\n",
              "  <thead>\n",
              "    <tr style=\"text-align: right;\">\n",
              "      <th></th>\n",
              "      <th>이름</th>\n",
              "      <th>성별</th>\n",
              "      <th>나이</th>\n",
              "      <th>키</th>\n",
              "    </tr>\n",
              "  </thead>\n",
              "  <tbody>\n",
              "    <tr>\n",
              "      <th>1</th>\n",
              "      <td>한결</td>\n",
              "      <td>남자</td>\n",
              "      <td>21</td>\n",
              "      <td>177</td>\n",
              "    </tr>\n",
              "  </tbody>\n",
              "</table>\n",
              "</div>\n",
              "    <div class=\"colab-df-buttons\">\n",
              "\n",
              "  <div class=\"colab-df-container\">\n",
              "    <button class=\"colab-df-convert\" onclick=\"convertToInteractive('df-1353f2b6-e85d-471c-8997-9707ab871ba6')\"\n",
              "            title=\"Convert this dataframe to an interactive table.\"\n",
              "            style=\"display:none;\">\n",
              "\n",
              "  <svg xmlns=\"http://www.w3.org/2000/svg\" height=\"24px\" viewBox=\"0 -960 960 960\">\n",
              "    <path d=\"M120-120v-720h720v720H120Zm60-500h600v-160H180v160Zm220 220h160v-160H400v160Zm0 220h160v-160H400v160ZM180-400h160v-160H180v160Zm440 0h160v-160H620v160ZM180-180h160v-160H180v160Zm440 0h160v-160H620v160Z\"/>\n",
              "  </svg>\n",
              "    </button>\n",
              "\n",
              "  <style>\n",
              "    .colab-df-container {\n",
              "      display:flex;\n",
              "      gap: 12px;\n",
              "    }\n",
              "\n",
              "    .colab-df-convert {\n",
              "      background-color: #E8F0FE;\n",
              "      border: none;\n",
              "      border-radius: 50%;\n",
              "      cursor: pointer;\n",
              "      display: none;\n",
              "      fill: #1967D2;\n",
              "      height: 32px;\n",
              "      padding: 0 0 0 0;\n",
              "      width: 32px;\n",
              "    }\n",
              "\n",
              "    .colab-df-convert:hover {\n",
              "      background-color: #E2EBFA;\n",
              "      box-shadow: 0px 1px 2px rgba(60, 64, 67, 0.3), 0px 1px 3px 1px rgba(60, 64, 67, 0.15);\n",
              "      fill: #174EA6;\n",
              "    }\n",
              "\n",
              "    .colab-df-buttons div {\n",
              "      margin-bottom: 4px;\n",
              "    }\n",
              "\n",
              "    [theme=dark] .colab-df-convert {\n",
              "      background-color: #3B4455;\n",
              "      fill: #D2E3FC;\n",
              "    }\n",
              "\n",
              "    [theme=dark] .colab-df-convert:hover {\n",
              "      background-color: #434B5C;\n",
              "      box-shadow: 0px 1px 3px 1px rgba(0, 0, 0, 0.15);\n",
              "      filter: drop-shadow(0px 1px 2px rgba(0, 0, 0, 0.3));\n",
              "      fill: #FFFFFF;\n",
              "    }\n",
              "  </style>\n",
              "\n",
              "    <script>\n",
              "      const buttonEl =\n",
              "        document.querySelector('#df-1353f2b6-e85d-471c-8997-9707ab871ba6 button.colab-df-convert');\n",
              "      buttonEl.style.display =\n",
              "        google.colab.kernel.accessAllowed ? 'block' : 'none';\n",
              "\n",
              "      async function convertToInteractive(key) {\n",
              "        const element = document.querySelector('#df-1353f2b6-e85d-471c-8997-9707ab871ba6');\n",
              "        const dataTable =\n",
              "          await google.colab.kernel.invokeFunction('convertToInteractive',\n",
              "                                                    [key], {});\n",
              "        if (!dataTable) return;\n",
              "\n",
              "        const docLinkHtml = 'Like what you see? Visit the ' +\n",
              "          '<a target=\"_blank\" href=https://colab.research.google.com/notebooks/data_table.ipynb>data table notebook</a>'\n",
              "          + ' to learn more about interactive tables.';\n",
              "        element.innerHTML = '';\n",
              "        dataTable['output_type'] = 'display_data';\n",
              "        await google.colab.output.renderOutput(dataTable, element);\n",
              "        const docLink = document.createElement('div');\n",
              "        docLink.innerHTML = docLinkHtml;\n",
              "        element.appendChild(docLink);\n",
              "      }\n",
              "    </script>\n",
              "  </div>\n",
              "\n",
              "\n",
              "    </div>\n",
              "  </div>\n"
            ],
            "application/vnd.google.colaboratory.intrinsic+json": {
              "type": "dataframe",
              "summary": "{\n  \"name\": \"df[df['\\uc774\\ub984']\",\n  \"rows\": 1,\n  \"fields\": [\n    {\n      \"column\": \"\\uc774\\ub984\",\n      \"properties\": {\n        \"dtype\": \"string\",\n        \"num_unique_values\": 1,\n        \"samples\": [\n          \"\\ud55c\\uacb0\"\n        ],\n        \"semantic_type\": \"\",\n        \"description\": \"\"\n      }\n    },\n    {\n      \"column\": \"\\uc131\\ubcc4\",\n      \"properties\": {\n        \"dtype\": \"string\",\n        \"num_unique_values\": 1,\n        \"samples\": [\n          \"\\ub0a8\\uc790\"\n        ],\n        \"semantic_type\": \"\",\n        \"description\": \"\"\n      }\n    },\n    {\n      \"column\": \"\\ub098\\uc774\",\n      \"properties\": {\n        \"dtype\": \"number\",\n        \"std\": null,\n        \"min\": 21,\n        \"max\": 21,\n        \"num_unique_values\": 1,\n        \"samples\": [\n          21\n        ],\n        \"semantic_type\": \"\",\n        \"description\": \"\"\n      }\n    },\n    {\n      \"column\": \"\\ud0a4\",\n      \"properties\": {\n        \"dtype\": \"number\",\n        \"std\": null,\n        \"min\": 177,\n        \"max\": 177,\n        \"num_unique_values\": 1,\n        \"samples\": [\n          177\n        ],\n        \"semantic_type\": \"\",\n        \"description\": \"\"\n      }\n    }\n  ]\n}"
            }
          },
          "metadata": {},
          "execution_count": 300
        }
      ]
    },
    {
      "cell_type": "code",
      "source": [
        "mean_by_gender = df.groupby(by=['성별'], as_index=False)['키'].mean( )\n",
        "mean_by_gender.rename(columns={'키':'평균 키'}, inplace=True)\n",
        "\n",
        "std_by_gender = df.groupby(by=['성별'], as_index=False)['키'].std( )\n",
        "std_by_gender.rename(columns = {'키':'키의 표준편차'}, inplace=True)\n",
        "new_df = pd.merge(mean_by_gender, std_by_gender)\n",
        "new_df"
      ],
      "metadata": {
        "colab": {
          "base_uri": "https://localhost:8080/",
          "height": 125
        },
        "id": "mtvY1Kg4_m7v",
        "outputId": "5469f284-7e14-406a-82d6-46a561da44e4"
      },
      "execution_count": null,
      "outputs": [
        {
          "output_type": "execute_result",
          "data": {
            "text/plain": [
              "   성별   평균 키  키의 표준편차\n",
              "0  남자  178.5  2.12132\n",
              "1  여자  160.0      NaN"
            ],
            "text/html": [
              "\n",
              "  <div id=\"df-76706029-a744-4a72-ac09-ae9bb396ff27\" class=\"colab-df-container\">\n",
              "    <div>\n",
              "<style scoped>\n",
              "    .dataframe tbody tr th:only-of-type {\n",
              "        vertical-align: middle;\n",
              "    }\n",
              "\n",
              "    .dataframe tbody tr th {\n",
              "        vertical-align: top;\n",
              "    }\n",
              "\n",
              "    .dataframe thead th {\n",
              "        text-align: right;\n",
              "    }\n",
              "</style>\n",
              "<table border=\"1\" class=\"dataframe\">\n",
              "  <thead>\n",
              "    <tr style=\"text-align: right;\">\n",
              "      <th></th>\n",
              "      <th>성별</th>\n",
              "      <th>평균 키</th>\n",
              "      <th>키의 표준편차</th>\n",
              "    </tr>\n",
              "  </thead>\n",
              "  <tbody>\n",
              "    <tr>\n",
              "      <th>0</th>\n",
              "      <td>남자</td>\n",
              "      <td>178.5</td>\n",
              "      <td>2.12132</td>\n",
              "    </tr>\n",
              "    <tr>\n",
              "      <th>1</th>\n",
              "      <td>여자</td>\n",
              "      <td>160.0</td>\n",
              "      <td>NaN</td>\n",
              "    </tr>\n",
              "  </tbody>\n",
              "</table>\n",
              "</div>\n",
              "    <div class=\"colab-df-buttons\">\n",
              "\n",
              "  <div class=\"colab-df-container\">\n",
              "    <button class=\"colab-df-convert\" onclick=\"convertToInteractive('df-76706029-a744-4a72-ac09-ae9bb396ff27')\"\n",
              "            title=\"Convert this dataframe to an interactive table.\"\n",
              "            style=\"display:none;\">\n",
              "\n",
              "  <svg xmlns=\"http://www.w3.org/2000/svg\" height=\"24px\" viewBox=\"0 -960 960 960\">\n",
              "    <path d=\"M120-120v-720h720v720H120Zm60-500h600v-160H180v160Zm220 220h160v-160H400v160Zm0 220h160v-160H400v160ZM180-400h160v-160H180v160Zm440 0h160v-160H620v160ZM180-180h160v-160H180v160Zm440 0h160v-160H620v160Z\"/>\n",
              "  </svg>\n",
              "    </button>\n",
              "\n",
              "  <style>\n",
              "    .colab-df-container {\n",
              "      display:flex;\n",
              "      gap: 12px;\n",
              "    }\n",
              "\n",
              "    .colab-df-convert {\n",
              "      background-color: #E8F0FE;\n",
              "      border: none;\n",
              "      border-radius: 50%;\n",
              "      cursor: pointer;\n",
              "      display: none;\n",
              "      fill: #1967D2;\n",
              "      height: 32px;\n",
              "      padding: 0 0 0 0;\n",
              "      width: 32px;\n",
              "    }\n",
              "\n",
              "    .colab-df-convert:hover {\n",
              "      background-color: #E2EBFA;\n",
              "      box-shadow: 0px 1px 2px rgba(60, 64, 67, 0.3), 0px 1px 3px 1px rgba(60, 64, 67, 0.15);\n",
              "      fill: #174EA6;\n",
              "    }\n",
              "\n",
              "    .colab-df-buttons div {\n",
              "      margin-bottom: 4px;\n",
              "    }\n",
              "\n",
              "    [theme=dark] .colab-df-convert {\n",
              "      background-color: #3B4455;\n",
              "      fill: #D2E3FC;\n",
              "    }\n",
              "\n",
              "    [theme=dark] .colab-df-convert:hover {\n",
              "      background-color: #434B5C;\n",
              "      box-shadow: 0px 1px 3px 1px rgba(0, 0, 0, 0.15);\n",
              "      filter: drop-shadow(0px 1px 2px rgba(0, 0, 0, 0.3));\n",
              "      fill: #FFFFFF;\n",
              "    }\n",
              "  </style>\n",
              "\n",
              "    <script>\n",
              "      const buttonEl =\n",
              "        document.querySelector('#df-76706029-a744-4a72-ac09-ae9bb396ff27 button.colab-df-convert');\n",
              "      buttonEl.style.display =\n",
              "        google.colab.kernel.accessAllowed ? 'block' : 'none';\n",
              "\n",
              "      async function convertToInteractive(key) {\n",
              "        const element = document.querySelector('#df-76706029-a744-4a72-ac09-ae9bb396ff27');\n",
              "        const dataTable =\n",
              "          await google.colab.kernel.invokeFunction('convertToInteractive',\n",
              "                                                    [key], {});\n",
              "        if (!dataTable) return;\n",
              "\n",
              "        const docLinkHtml = 'Like what you see? Visit the ' +\n",
              "          '<a target=\"_blank\" href=https://colab.research.google.com/notebooks/data_table.ipynb>data table notebook</a>'\n",
              "          + ' to learn more about interactive tables.';\n",
              "        element.innerHTML = '';\n",
              "        dataTable['output_type'] = 'display_data';\n",
              "        await google.colab.output.renderOutput(dataTable, element);\n",
              "        const docLink = document.createElement('div');\n",
              "        docLink.innerHTML = docLinkHtml;\n",
              "        element.appendChild(docLink);\n",
              "      }\n",
              "    </script>\n",
              "  </div>\n",
              "\n",
              "\n",
              "<div id=\"df-96a96047-730a-45e1-8c7a-d3fec7337468\">\n",
              "  <button class=\"colab-df-quickchart\" onclick=\"quickchart('df-96a96047-730a-45e1-8c7a-d3fec7337468')\"\n",
              "            title=\"Suggest charts\"\n",
              "            style=\"display:none;\">\n",
              "\n",
              "<svg xmlns=\"http://www.w3.org/2000/svg\" height=\"24px\"viewBox=\"0 0 24 24\"\n",
              "     width=\"24px\">\n",
              "    <g>\n",
              "        <path d=\"M19 3H5c-1.1 0-2 .9-2 2v14c0 1.1.9 2 2 2h14c1.1 0 2-.9 2-2V5c0-1.1-.9-2-2-2zM9 17H7v-7h2v7zm4 0h-2V7h2v10zm4 0h-2v-4h2v4z\"/>\n",
              "    </g>\n",
              "</svg>\n",
              "  </button>\n",
              "\n",
              "<style>\n",
              "  .colab-df-quickchart {\n",
              "      --bg-color: #E8F0FE;\n",
              "      --fill-color: #1967D2;\n",
              "      --hover-bg-color: #E2EBFA;\n",
              "      --hover-fill-color: #174EA6;\n",
              "      --disabled-fill-color: #AAA;\n",
              "      --disabled-bg-color: #DDD;\n",
              "  }\n",
              "\n",
              "  [theme=dark] .colab-df-quickchart {\n",
              "      --bg-color: #3B4455;\n",
              "      --fill-color: #D2E3FC;\n",
              "      --hover-bg-color: #434B5C;\n",
              "      --hover-fill-color: #FFFFFF;\n",
              "      --disabled-bg-color: #3B4455;\n",
              "      --disabled-fill-color: #666;\n",
              "  }\n",
              "\n",
              "  .colab-df-quickchart {\n",
              "    background-color: var(--bg-color);\n",
              "    border: none;\n",
              "    border-radius: 50%;\n",
              "    cursor: pointer;\n",
              "    display: none;\n",
              "    fill: var(--fill-color);\n",
              "    height: 32px;\n",
              "    padding: 0;\n",
              "    width: 32px;\n",
              "  }\n",
              "\n",
              "  .colab-df-quickchart:hover {\n",
              "    background-color: var(--hover-bg-color);\n",
              "    box-shadow: 0 1px 2px rgba(60, 64, 67, 0.3), 0 1px 3px 1px rgba(60, 64, 67, 0.15);\n",
              "    fill: var(--button-hover-fill-color);\n",
              "  }\n",
              "\n",
              "  .colab-df-quickchart-complete:disabled,\n",
              "  .colab-df-quickchart-complete:disabled:hover {\n",
              "    background-color: var(--disabled-bg-color);\n",
              "    fill: var(--disabled-fill-color);\n",
              "    box-shadow: none;\n",
              "  }\n",
              "\n",
              "  .colab-df-spinner {\n",
              "    border: 2px solid var(--fill-color);\n",
              "    border-color: transparent;\n",
              "    border-bottom-color: var(--fill-color);\n",
              "    animation:\n",
              "      spin 1s steps(1) infinite;\n",
              "  }\n",
              "\n",
              "  @keyframes spin {\n",
              "    0% {\n",
              "      border-color: transparent;\n",
              "      border-bottom-color: var(--fill-color);\n",
              "      border-left-color: var(--fill-color);\n",
              "    }\n",
              "    20% {\n",
              "      border-color: transparent;\n",
              "      border-left-color: var(--fill-color);\n",
              "      border-top-color: var(--fill-color);\n",
              "    }\n",
              "    30% {\n",
              "      border-color: transparent;\n",
              "      border-left-color: var(--fill-color);\n",
              "      border-top-color: var(--fill-color);\n",
              "      border-right-color: var(--fill-color);\n",
              "    }\n",
              "    40% {\n",
              "      border-color: transparent;\n",
              "      border-right-color: var(--fill-color);\n",
              "      border-top-color: var(--fill-color);\n",
              "    }\n",
              "    60% {\n",
              "      border-color: transparent;\n",
              "      border-right-color: var(--fill-color);\n",
              "    }\n",
              "    80% {\n",
              "      border-color: transparent;\n",
              "      border-right-color: var(--fill-color);\n",
              "      border-bottom-color: var(--fill-color);\n",
              "    }\n",
              "    90% {\n",
              "      border-color: transparent;\n",
              "      border-bottom-color: var(--fill-color);\n",
              "    }\n",
              "  }\n",
              "</style>\n",
              "\n",
              "  <script>\n",
              "    async function quickchart(key) {\n",
              "      const quickchartButtonEl =\n",
              "        document.querySelector('#' + key + ' button');\n",
              "      quickchartButtonEl.disabled = true;  // To prevent multiple clicks.\n",
              "      quickchartButtonEl.classList.add('colab-df-spinner');\n",
              "      try {\n",
              "        const charts = await google.colab.kernel.invokeFunction(\n",
              "            'suggestCharts', [key], {});\n",
              "      } catch (error) {\n",
              "        console.error('Error during call to suggestCharts:', error);\n",
              "      }\n",
              "      quickchartButtonEl.classList.remove('colab-df-spinner');\n",
              "      quickchartButtonEl.classList.add('colab-df-quickchart-complete');\n",
              "    }\n",
              "    (() => {\n",
              "      let quickchartButtonEl =\n",
              "        document.querySelector('#df-96a96047-730a-45e1-8c7a-d3fec7337468 button');\n",
              "      quickchartButtonEl.style.display =\n",
              "        google.colab.kernel.accessAllowed ? 'block' : 'none';\n",
              "    })();\n",
              "  </script>\n",
              "</div>\n",
              "\n",
              "  <div id=\"id_f048c12c-1d86-41e2-89af-cd3d4d32777f\">\n",
              "    <style>\n",
              "      .colab-df-generate {\n",
              "        background-color: #E8F0FE;\n",
              "        border: none;\n",
              "        border-radius: 50%;\n",
              "        cursor: pointer;\n",
              "        display: none;\n",
              "        fill: #1967D2;\n",
              "        height: 32px;\n",
              "        padding: 0 0 0 0;\n",
              "        width: 32px;\n",
              "      }\n",
              "\n",
              "      .colab-df-generate:hover {\n",
              "        background-color: #E2EBFA;\n",
              "        box-shadow: 0px 1px 2px rgba(60, 64, 67, 0.3), 0px 1px 3px 1px rgba(60, 64, 67, 0.15);\n",
              "        fill: #174EA6;\n",
              "      }\n",
              "\n",
              "      [theme=dark] .colab-df-generate {\n",
              "        background-color: #3B4455;\n",
              "        fill: #D2E3FC;\n",
              "      }\n",
              "\n",
              "      [theme=dark] .colab-df-generate:hover {\n",
              "        background-color: #434B5C;\n",
              "        box-shadow: 0px 1px 3px 1px rgba(0, 0, 0, 0.15);\n",
              "        filter: drop-shadow(0px 1px 2px rgba(0, 0, 0, 0.3));\n",
              "        fill: #FFFFFF;\n",
              "      }\n",
              "    </style>\n",
              "    <button class=\"colab-df-generate\" onclick=\"generateWithVariable('new_df')\"\n",
              "            title=\"Generate code using this dataframe.\"\n",
              "            style=\"display:none;\">\n",
              "\n",
              "  <svg xmlns=\"http://www.w3.org/2000/svg\" height=\"24px\"viewBox=\"0 0 24 24\"\n",
              "       width=\"24px\">\n",
              "    <path d=\"M7,19H8.4L18.45,9,17,7.55,7,17.6ZM5,21V16.75L18.45,3.32a2,2,0,0,1,2.83,0l1.4,1.43a1.91,1.91,0,0,1,.58,1.4,1.91,1.91,0,0,1-.58,1.4L9.25,21ZM18.45,9,17,7.55Zm-12,3A5.31,5.31,0,0,0,4.9,8.1,5.31,5.31,0,0,0,1,6.5,5.31,5.31,0,0,0,4.9,4.9,5.31,5.31,0,0,0,6.5,1,5.31,5.31,0,0,0,8.1,4.9,5.31,5.31,0,0,0,12,6.5,5.46,5.46,0,0,0,6.5,12Z\"/>\n",
              "  </svg>\n",
              "    </button>\n",
              "    <script>\n",
              "      (() => {\n",
              "      const buttonEl =\n",
              "        document.querySelector('#id_f048c12c-1d86-41e2-89af-cd3d4d32777f button.colab-df-generate');\n",
              "      buttonEl.style.display =\n",
              "        google.colab.kernel.accessAllowed ? 'block' : 'none';\n",
              "\n",
              "      buttonEl.onclick = () => {\n",
              "        google.colab.notebook.generateWithVariable('new_df');\n",
              "      }\n",
              "      })();\n",
              "    </script>\n",
              "  </div>\n",
              "\n",
              "    </div>\n",
              "  </div>\n"
            ],
            "application/vnd.google.colaboratory.intrinsic+json": {
              "type": "dataframe",
              "variable_name": "new_df",
              "summary": "{\n  \"name\": \"new_df\",\n  \"rows\": 2,\n  \"fields\": [\n    {\n      \"column\": \"\\uc131\\ubcc4\",\n      \"properties\": {\n        \"dtype\": \"string\",\n        \"num_unique_values\": 2,\n        \"samples\": [\n          \"\\uc5ec\\uc790\",\n          \"\\ub0a8\\uc790\"\n        ],\n        \"semantic_type\": \"\",\n        \"description\": \"\"\n      }\n    },\n    {\n      \"column\": \"\\ud3c9\\uade0 \\ud0a4\",\n      \"properties\": {\n        \"dtype\": \"number\",\n        \"std\": 13.08147545195113,\n        \"min\": 160.0,\n        \"max\": 178.5,\n        \"num_unique_values\": 2,\n        \"samples\": [\n          160.0,\n          178.5\n        ],\n        \"semantic_type\": \"\",\n        \"description\": \"\"\n      }\n    },\n    {\n      \"column\": \"\\ud0a4\\uc758 \\ud45c\\uc900\\ud3b8\\ucc28\",\n      \"properties\": {\n        \"dtype\": \"number\",\n        \"std\": null,\n        \"min\": 2.1213203435596424,\n        \"max\": 2.1213203435596424,\n        \"num_unique_values\": 1,\n        \"samples\": [\n          2.1213203435596424\n        ],\n        \"semantic_type\": \"\",\n        \"description\": \"\"\n      }\n    }\n  ]\n}"
            }
          },
          "metadata": {},
          "execution_count": 301
        }
      ]
    },
    {
      "cell_type": "code",
      "source": [
        "col_names = ['과목번호', '과목명', '강의실', '시간수']\n",
        "list1 = list([['C1', '인공지능개론', 'R1', 3],\n",
        "            ['C2', '웃음치료', 'R2', 2],\n",
        "            ['C3', '경영학', 'R3', 3],\n",
        "            ['C4', '3D디자인', 'R4', 4],\n",
        "['C5', '스포츠경영', 'R2', 2],\n",
        "['C6', '예술의 세계', 'R3', 1]\n",
        "])"
      ],
      "metadata": {
        "id": "6zjyLbyyEMkG"
      },
      "execution_count": null,
      "outputs": []
    },
    {
      "cell_type": "code",
      "source": [
        "import matplotlib.pyplot as plt\n",
        "\n",
        "x = [1, 2, 3, 4]\n",
        "y = [1, 4, 9, 16]\n",
        "\n",
        "plt.plot(x, y, 'ro',label = 'height', color = 'b') #산정도\n",
        "plt.title(\"example\")\n",
        "plt.xlabel(\"x..\")\n",
        "plt.ylabel(\"y..\")\n",
        "plt.legend()\n",
        "plt.show()\n",
        "\n",
        "plt.plot(x,y) # 꺽은선 그래프\n",
        "plt.show()\n",
        "\n",
        "plt.bar(x, y) # 막대 그래프\n",
        "plt.show()"
      ],
      "metadata": {
        "colab": {
          "base_uri": "https://localhost:8080/",
          "height": 1000
        },
        "id": "L0c0SiYcEPo_",
        "outputId": "2e191092-5ce6-4ba0-e7f3-13171d9ae405"
      },
      "execution_count": null,
      "outputs": [
        {
          "output_type": "stream",
          "name": "stderr",
          "text": [
            "<ipython-input-309-a432bc97fa69>:6: UserWarning: color is redundantly defined by the 'color' keyword argument and the fmt string \"ro\" (-> color='r'). The keyword argument will take precedence.\n",
            "  plt.plot(x, y, 'ro',label = 'height', color = 'b') #산정도\n"
          ]
        },
        {
          "output_type": "display_data",
          "data": {
            "text/plain": [
              "<Figure size 640x480 with 1 Axes>"
            ],
            "image/png": "[encoded data removed]"
          },
          "metadata": {}
        },
        {
          "output_type": "display_data",
          "data": {
            "text/plain": [
              "<Figure size 640x480 with 1 Axes>"
            ],
            "image/png": "[encoded data removed]"
          },
          "metadata": {}
        },
        {
          "output_type": "display_data",
          "data": {
            "text/plain": [
              "<Figure size 640x480 with 1 Axes>"
            ],
            "image/png": "[encoded data removed]"
          },
          "metadata": {}
        }
      ]
    },
    {
      "cell_type": "code",
      "source": [
        "import pandas as pd\n",
        "\n",
        "col_names = ['과목번호', '과목명', '강의실', '시간수']\n",
        "list1 = list([['C1', '인공지능개론', 'R1', 3],\n",
        "              ['C2', '웃음치료', 'R2', 2],\n",
        "              ['C3', '경영학', 'R3', 3],\n",
        "              ['C4', '3D디자인', 'R4', 4],\n",
        "              ['C5', '스포츠경영', 'R2', 2],\n",
        "              ['C6', '예술의 세계', 'R3', 1]])\n",
        "\n",
        "df = pd.DataFrame(list1, columns = col_names)\n",
        "df.to_csv('./timetable.csv', header = True, index = False, encoding = 'utf8')\n",
        "print(df)\n",
        "df2 = pd.read_csv('./timetable.csv', sep = ',')\n",
        "df2['교수'] = ['김예희', '오정현', '인세훈', '이새봄', '배유진', '이가원']\n",
        "print(df2)\n",
        "max_hour = df2.groupby(by = ['강의실'],\n",
        "    as_index = False)['시간수'].max()\n",
        "print(max_hour)"
      ],
      "metadata": {
        "colab": {
          "base_uri": "https://localhost:8080/"
        },
        "id": "J2qJB_6MKnsE",
        "outputId": "331c8eb2-90c1-427c-965a-dc746a4bcabd"
      },
      "execution_count": 39,
      "outputs": [
        {
          "output_type": "stream",
          "name": "stdout",
          "text": [
            "  과목번호     과목명 강의실  시간수\n",
            "0   C1  인공지능개론  R1    3\n",
            "1   C2    웃음치료  R2    2\n",
            "2   C3     경영학  R3    3\n",
            "3   C4   3D디자인  R4    4\n",
            "4   C5   스포츠경영  R2    2\n",
            "5   C6  예술의 세계  R3    1\n",
            "  과목번호     과목명 강의실  시간수   교수\n",
            "0   C1  인공지능개론  R1    3  김예희\n",
            "1   C2    웃음치료  R2    2  오정현\n",
            "2   C3     경영학  R3    3  인세훈\n",
            "3   C4   3D디자인  R4    4  이새봄\n",
            "4   C5   스포츠경영  R2    2  배유진\n",
            "5   C6  예술의 세계  R3    1  이가원\n",
            "  강의실  시간수\n",
            "0  R1    3\n",
            "1  R2    2\n",
            "2  R3    3\n",
            "3  R4    4\n"
          ]
        }
      ]
    },
    {
      "cell_type": "code",
      "source": [
        "import numpy as np\n",
        "data = np.loadtxt('./chocolate_rating.csv', delimiter=',')\n",
        "print('차원:', data.ndim)\n",
        "print('모양:', data.shape)\n",
        "print('원소 수:', data.size)\n",
        "print(data)\n",
        "ratings_mean = data[:, 3].mean( )\n",
        "print(ratings_mean)\n",
        "high_level = data[data[:, 3] >= 4]\n",
        "high_id = high_level[:,0].astype(np.int64)\n",
        "print('우수 초콜릿 수:', high_id.size)\n",
        "print(high_id)\n",
        "high_kakao = high_level[:, 2]\n",
        "unique_values, value_counts = np.unique(high_kakao, return_counts = True)\n",
        "print('카카오 함유량:', unique_values)\n",
        "print('함유량별 빈도수:', value_counts)\n",
        "max_index = np.argmax(value_counts)\n",
        "print(unique_values[max_index])\n",
        "print('우수 초콜릿', high_id.size, '가지 중', value_counts[max_index],'가지의 카카오 함유량이', unique_values[max_index] * 100, '%입니다.')"
      ],
      "metadata": {
        "colab": {
          "base_uri": "https://localhost:8080/"
        },
        "id": "iEmI_AH0B2fx",
        "outputId": "2866b1fc-9cbe-4091-95be-3db1cbf5b637"
      },
      "execution_count": 89,
      "outputs": [
        {
          "output_type": "stream",
          "name": "stdout",
          "text": [
            "차원: 2\n",
            "모양: (1795, 4)\n",
            "원소 수: 7180\n",
            "[[1.000e+00 2.016e+03 6.300e-01 3.750e+00]\n",
            " [2.000e+00 2.015e+03 7.000e-01 2.750e+00]\n",
            " [3.000e+00 2.015e+03 7.000e-01 3.000e+00]\n",
            " ...\n",
            " [1.793e+03 2.011e+03 6.500e-01 3.500e+00]\n",
            " [1.794e+03 2.011e+03 6.200e-01 3.250e+00]\n",
            " [1.795e+03 2.010e+03 6.500e-01 3.000e+00]]\n",
            "3.185933147632312\n",
            "우수 초콜릿 수: 100\n",
            "[  10   18   21   55   57   77   78   79   84   87   88   93  108  109\n",
            "  118  124  153  180  181  187  223  232  233  240  243  244  245  248\n",
            "  257  312  316  317  358  437  503  567  573  574  582  601  650  687\n",
            "  690  691  701  720  730  800  828  862  864  865  866  883  919  993\n",
            " 1088 1089 1118 1119 1120 1204 1241 1245 1247 1274 1277 1278 1289 1291\n",
            " 1293 1295 1323 1331 1336 1378 1394 1426 1428 1433 1479 1488 1513 1516\n",
            " 1529 1530 1531 1533 1536 1537 1544 1545 1664 1683 1686 1688 1694 1700\n",
            " 1740 1757]\n",
            "카카오 함유량: [0.6  0.63 0.64 0.65 0.66 0.67 0.68 0.69 0.7  0.71 0.72 0.73 0.74 0.75\n",
            " 0.78 0.8  0.88]\n",
            "함유량별 빈도수: [ 1  3  4  2  1  3  2  2 45  1 11  1  4 17  1  1  1]\n",
            "0.7\n",
            "우수 초콜릿 100 가지 중 45 가지의 카카오 함유량이 70.0 %입니다.\n"
          ]
        }
      ]
    },
    {
      "cell_type": "code",
      "source": [
        "import pandas as pd\n",
        "\n",
        "# CSV 파일 불러오기\n",
        "df = pd.read_csv(\"./seoulpop.csv\", encoding=\"cp949\")\n",
        "\n",
        "# 4분기 데이터만 선택 (2024년 제외)\n",
        "quarter_columns = []\n",
        "for col in df.columns:\n",
        "    if \"4/4\" in col and \"2024\" not in col:\n",
        "        quarter_columns.append(col)\n",
        "\n",
        "# # '동별' 컬럼을 '구' 정보로 사용\n",
        "district_column = \"동별\"\n",
        "df = df[df[district_column] != \"합계\"]\n",
        "\n",
        "# # 서울시 각 구 목록 정의\n",
        "seoul_districts = list(set(df[district_column]))\n",
        "\n",
        "# 서울 구 목록에 해당하는 데이터만 필터링\n",
        "df = df[df[district_column].isin(seoul_districts)]\n",
        "\n",
        " # 연령대 그룹 설정\n",
        "age_bins = {\"0~4세\": \"0~14세\", \"5~9세\": \"0~14세\", \"10~14세\": \"0~14세\",\n",
        "            \"15~19세\": \"15~64세\", \"20~24세\": \"15~64세\", \"25~29세\": \"15~64세\",\n",
        "            \"30~34세\": \"15~64세\", \"35~39세\": \"15~64세\", \"40~44세\": \"15~64세\",\n",
        "            \"45~49세\": \"15~64세\", \"50~54세\": \"15~64세\", \"55~59세\": \"15~64세\", \"60~64세\": \"15~64세\",\n",
        "            \"65~69세\": \"65세이상\", \"70~74세\": \"65세이상\", \"75~79세\": \"65세이상\", \"80~84세\": \"65세이상\",\n",
        "            \"85~89세\": \"85세 이상\", \"90~94세\": \"85세 이상\", \"95~99세\": \"85세 이상\", \"100세 이상\": \"85세 이상\"}\n",
        "\n",
        "# 연령별 데이터를 연령대 그룹으로 변환\n",
        "df[\"연령대_그룹\"] = df[\"연령별\"].replace(age_bins)\n",
        "\n",
        "df = df[df[\"연령대_그룹\"] != \"합계\"]\n",
        "\n",
        " # '계' 값만 포함하여 하여 각 구별 연령대별 인구수를 그룹화\n",
        "df_filtered = df[(df[\"항목\"] == \"계\") & (df[\"연령대_그룹\"])].groupby([district_column, \"연령대_그룹\"], as_index = False)[quarter_columns].sum()\n",
        "\n",
        "# 최종 데이터 출력\n",
        "df_filtered"
      ],
      "metadata": {
        "colab": {
          "base_uri": "https://localhost:8080/",
          "height": 424
        },
        "id": "qBHrHkbWR0L2",
        "outputId": "e450a898-81eb-465b-ff0a-8dbd1601318e"
      },
      "execution_count": 17,
      "outputs": [
        {
          "output_type": "execute_result",
          "data": {
            "text/plain": [
              "     동별  연령대_그룹  2014. 4/4  2015. 4/4  2016. 4/4  2017. 4/4  2018. 4/4  \\\n",
              "0   강남구   0~14세      73660      72850      70600      68815      66897   \n",
              "1   강남구  15~64세     452342     448580     439609     427177     413471   \n",
              "2   강남구   65세이상      52500      55124      56581      59436      61340   \n",
              "3   강남구  85세 이상       4944       5206       5350       5624       5745   \n",
              "4   강동구   0~14세      61208      56718      53178      52145      49628   \n",
              "..  ...     ...        ...        ...        ...        ...        ...   \n",
              "95   중구  85세 이상       1830       1930       2058       2158       2312   \n",
              "96  중랑구   0~14세      47491      45167      43486      42023      39768   \n",
              "97  중랑구  15~64세     323925     319358     316277     311495     306549   \n",
              "98  중랑구   65세이상      48517      50424      52007      55059      57390   \n",
              "99  중랑구  85세 이상       3478       3671       3907       4203       4440   \n",
              "\n",
              "    2019. 4/4  2020. 4/4  2021. 4/4  2022. 4/4  2023. 4/4  \n",
              "0       66955      66079      64696      62463      64088  \n",
              "1      412229     402880     394878     389925     399588  \n",
              "2       64857      68580      71714      74989      79295  \n",
              "3        6168       6516       6512       6726       7311  \n",
              "4       50110      54338      54460      52813      51022  \n",
              "..        ...        ...        ...        ...        ...  \n",
              "95       2543       2778       2536       2641       2818  \n",
              "96      37693      35883      33752      32642      31154  \n",
              "97     299167     294232     286451     282578     277361  \n",
              "98      60242      63975      66057      68983      72440  \n",
              "99       4922       5472       5625       5937       6515  \n",
              "\n",
              "[100 rows x 12 columns]"
            ],
            "text/html": [
              "\n",
              "  <div id=\"df-52f3607f-b852-436d-8936-2924b127e3f8\" class=\"colab-df-container\">\n",
              "    <div>\n",
              "<style scoped>\n",
              "    .dataframe tbody tr th:only-of-type {\n",
              "        vertical-align: middle;\n",
              "    }\n",
              "\n",
              "    .dataframe tbody tr th {\n",
              "        vertical-align: top;\n",
              "    }\n",
              "\n",
              "    .dataframe thead th {\n",
              "        text-align: right;\n",
              "    }\n",
              "</style>\n",
              "<table border=\"1\" class=\"dataframe\">\n",
              "  <thead>\n",
              "    <tr style=\"text-align: right;\">\n",
              "      <th></th>\n",
              "      <th>동별</th>\n",
              "      <th>연령대_그룹</th>\n",
              "      <th>2014. 4/4</th>\n",
              "      <th>2015. 4/4</th>\n",
              "      <th>2016. 4/4</th>\n",
              "      <th>2017. 4/4</th>\n",
              "      <th>2018. 4/4</th>\n",
              "      <th>2019. 4/4</th>\n",
              "      <th>2020. 4/4</th>\n",
              "      <th>2021. 4/4</th>\n",
              "      <th>2022. 4/4</th>\n",
              "      <th>2023. 4/4</th>\n",
              "    </tr>\n",
              "  </thead>\n",
              "  <tbody>\n",
              "    <tr>\n",
              "      <th>0</th>\n",
              "      <td>강남구</td>\n",
              "      <td>0~14세</td>\n",
              "      <td>73660</td>\n",
              "      <td>72850</td>\n",
              "      <td>70600</td>\n",
              "      <td>68815</td>\n",
              "      <td>66897</td>\n",
              "      <td>66955</td>\n",
              "      <td>66079</td>\n",
              "      <td>64696</td>\n",
              "      <td>62463</td>\n",
              "      <td>64088</td>\n",
              "    </tr>\n",
              "    <tr>\n",
              "      <th>1</th>\n",
              "      <td>강남구</td>\n",
              "      <td>15~64세</td>\n",
              "      <td>452342</td>\n",
              "      <td>448580</td>\n",
              "      <td>439609</td>\n",
              "      <td>427177</td>\n",
              "      <td>413471</td>\n",
              "      <td>412229</td>\n",
              "      <td>402880</td>\n",
              "      <td>394878</td>\n",
              "      <td>389925</td>\n",
              "      <td>399588</td>\n",
              "    </tr>\n",
              "    <tr>\n",
              "      <th>2</th>\n",
              "      <td>강남구</td>\n",
              "      <td>65세이상</td>\n",
              "      <td>52500</td>\n",
              "      <td>55124</td>\n",
              "      <td>56581</td>\n",
              "      <td>59436</td>\n",
              "      <td>61340</td>\n",
              "      <td>64857</td>\n",
              "      <td>68580</td>\n",
              "      <td>71714</td>\n",
              "      <td>74989</td>\n",
              "      <td>79295</td>\n",
              "    </tr>\n",
              "    <tr>\n",
              "      <th>3</th>\n",
              "      <td>강남구</td>\n",
              "      <td>85세 이상</td>\n",
              "      <td>4944</td>\n",
              "      <td>5206</td>\n",
              "      <td>5350</td>\n",
              "      <td>5624</td>\n",
              "      <td>5745</td>\n",
              "      <td>6168</td>\n",
              "      <td>6516</td>\n",
              "      <td>6512</td>\n",
              "      <td>6726</td>\n",
              "      <td>7311</td>\n",
              "    </tr>\n",
              "    <tr>\n",
              "      <th>4</th>\n",
              "      <td>강동구</td>\n",
              "      <td>0~14세</td>\n",
              "      <td>61208</td>\n",
              "      <td>56718</td>\n",
              "      <td>53178</td>\n",
              "      <td>52145</td>\n",
              "      <td>49628</td>\n",
              "      <td>50110</td>\n",
              "      <td>54338</td>\n",
              "      <td>54460</td>\n",
              "      <td>52813</td>\n",
              "      <td>51022</td>\n",
              "    </tr>\n",
              "    <tr>\n",
              "      <th>...</th>\n",
              "      <td>...</td>\n",
              "      <td>...</td>\n",
              "      <td>...</td>\n",
              "      <td>...</td>\n",
              "      <td>...</td>\n",
              "      <td>...</td>\n",
              "      <td>...</td>\n",
              "      <td>...</td>\n",
              "      <td>...</td>\n",
              "      <td>...</td>\n",
              "      <td>...</td>\n",
              "      <td>...</td>\n",
              "    </tr>\n",
              "    <tr>\n",
              "      <th>95</th>\n",
              "      <td>중구</td>\n",
              "      <td>85세 이상</td>\n",
              "      <td>1830</td>\n",
              "      <td>1930</td>\n",
              "      <td>2058</td>\n",
              "      <td>2158</td>\n",
              "      <td>2312</td>\n",
              "      <td>2543</td>\n",
              "      <td>2778</td>\n",
              "      <td>2536</td>\n",
              "      <td>2641</td>\n",
              "      <td>2818</td>\n",
              "    </tr>\n",
              "    <tr>\n",
              "      <th>96</th>\n",
              "      <td>중랑구</td>\n",
              "      <td>0~14세</td>\n",
              "      <td>47491</td>\n",
              "      <td>45167</td>\n",
              "      <td>43486</td>\n",
              "      <td>42023</td>\n",
              "      <td>39768</td>\n",
              "      <td>37693</td>\n",
              "      <td>35883</td>\n",
              "      <td>33752</td>\n",
              "      <td>32642</td>\n",
              "      <td>31154</td>\n",
              "    </tr>\n",
              "    <tr>\n",
              "      <th>97</th>\n",
              "      <td>중랑구</td>\n",
              "      <td>15~64세</td>\n",
              "      <td>323925</td>\n",
              "      <td>319358</td>\n",
              "      <td>316277</td>\n",
              "      <td>311495</td>\n",
              "      <td>306549</td>\n",
              "      <td>299167</td>\n",
              "      <td>294232</td>\n",
              "      <td>286451</td>\n",
              "      <td>282578</td>\n",
              "      <td>277361</td>\n",
              "    </tr>\n",
              "    <tr>\n",
              "      <th>98</th>\n",
              "      <td>중랑구</td>\n",
              "      <td>65세이상</td>\n",
              "      <td>48517</td>\n",
              "      <td>50424</td>\n",
              "      <td>52007</td>\n",
              "      <td>55059</td>\n",
              "      <td>57390</td>\n",
              "      <td>60242</td>\n",
              "      <td>63975</td>\n",
              "      <td>66057</td>\n",
              "      <td>68983</td>\n",
              "      <td>72440</td>\n",
              "    </tr>\n",
              "    <tr>\n",
              "      <th>99</th>\n",
              "      <td>중랑구</td>\n",
              "      <td>85세 이상</td>\n",
              "      <td>3478</td>\n",
              "      <td>3671</td>\n",
              "      <td>3907</td>\n",
              "      <td>4203</td>\n",
              "      <td>4440</td>\n",
              "      <td>4922</td>\n",
              "      <td>5472</td>\n",
              "      <td>5625</td>\n",
              "      <td>5937</td>\n",
              "      <td>6515</td>\n",
              "    </tr>\n",
              "  </tbody>\n",
              "</table>\n",
              "<p>100 rows × 12 columns</p>\n",
              "</div>\n",
              "    <div class=\"colab-df-buttons\">\n",
              "\n",
              "  <div class=\"colab-df-container\">\n",
              "    <button class=\"colab-df-convert\" onclick=\"convertToInteractive('df-52f3607f-b852-436d-8936-2924b127e3f8')\"\n",
              "            title=\"Convert this dataframe to an interactive table.\"\n",
              "            style=\"display:none;\">\n",
              "\n",
              "  <svg xmlns=\"http://www.w3.org/2000/svg\" height=\"24px\" viewBox=\"0 -960 960 960\">\n",
              "    <path d=\"M120-120v-720h720v720H120Zm60-500h600v-160H180v160Zm220 220h160v-160H400v160Zm0 220h160v-160H400v160ZM180-400h160v-160H180v160Zm440 0h160v-160H620v160ZM180-180h160v-160H180v160Zm440 0h160v-160H620v160Z\"/>\n",
              "  </svg>\n",
              "    </button>\n",
              "\n",
              "  <style>\n",
              "    .colab-df-container {\n",
              "      display:flex;\n",
              "      gap: 12px;\n",
              "    }\n",
              "\n",
              "    .colab-df-convert {\n",
              "      background-color: #E8F0FE;\n",
              "      border: none;\n",
              "      border-radius: 50%;\n",
              "      cursor: pointer;\n",
              "      display: none;\n",
              "      fill: #1967D2;\n",
              "      height: 32px;\n",
              "      padding: 0 0 0 0;\n",
              "      width: 32px;\n",
              "    }\n",
              "\n",
              "    .colab-df-convert:hover {\n",
              "      background-color: #E2EBFA;\n",
              "      box-shadow: 0px 1px 2px rgba(60, 64, 67, 0.3), 0px 1px 3px 1px rgba(60, 64, 67, 0.15);\n",
              "      fill: #174EA6;\n",
              "    }\n",
              "\n",
              "    .colab-df-buttons div {\n",
              "      margin-bottom: 4px;\n",
              "    }\n",
              "\n",
              "    [theme=dark] .colab-df-convert {\n",
              "      background-color: #3B4455;\n",
              "      fill: #D2E3FC;\n",
              "    }\n",
              "\n",
              "    [theme=dark] .colab-df-convert:hover {\n",
              "      background-color: #434B5C;\n",
              "      box-shadow: 0px 1px 3px 1px rgba(0, 0, 0, 0.15);\n",
              "      filter: drop-shadow(0px 1px 2px rgba(0, 0, 0, 0.3));\n",
              "      fill: #FFFFFF;\n",
              "    }\n",
              "  </style>\n",
              "\n",
              "    <script>\n",
              "      const buttonEl =\n",
              "        document.querySelector('#df-52f3607f-b852-436d-8936-2924b127e3f8 button.colab-df-convert');\n",
              "      buttonEl.style.display =\n",
              "        google.colab.kernel.accessAllowed ? 'block' : 'none';\n",
              "\n",
              "      async function convertToInteractive(key) {\n",
              "        const element = document.querySelector('#df-52f3607f-b852-436d-8936-2924b127e3f8');\n",
              "        const dataTable =\n",
              "          await google.colab.kernel.invokeFunction('convertToInteractive',\n",
              "                                                    [key], {});\n",
              "        if (!dataTable) return;\n",
              "\n",
              "        const docLinkHtml = 'Like what you see? Visit the ' +\n",
              "          '<a target=\"_blank\" href=https://colab.research.google.com/notebooks/data_table.ipynb>data table notebook</a>'\n",
              "          + ' to learn more about interactive tables.';\n",
              "        element.innerHTML = '';\n",
              "        dataTable['output_type'] = 'display_data';\n",
              "        await google.colab.output.renderOutput(dataTable, element);\n",
              "        const docLink = document.createElement('div');\n",
              "        docLink.innerHTML = docLinkHtml;\n",
              "        element.appendChild(docLink);\n",
              "      }\n",
              "    </script>\n",
              "  </div>\n",
              "\n",
              "\n",
              "<div id=\"df-ee081680-e34b-4cf3-9efa-c9b3773f1565\">\n",
              "  <button class=\"colab-df-quickchart\" onclick=\"quickchart('df-ee081680-e34b-4cf3-9efa-c9b3773f1565')\"\n",
              "            title=\"Suggest charts\"\n",
              "            style=\"display:none;\">\n",
              "\n",
              "<svg xmlns=\"http://www.w3.org/2000/svg\" height=\"24px\"viewBox=\"0 0 24 24\"\n",
              "     width=\"24px\">\n",
              "    <g>\n",
              "        <path d=\"M19 3H5c-1.1 0-2 .9-2 2v14c0 1.1.9 2 2 2h14c1.1 0 2-.9 2-2V5c0-1.1-.9-2-2-2zM9 17H7v-7h2v7zm4 0h-2V7h2v10zm4 0h-2v-4h2v4z\"/>\n",
              "    </g>\n",
              "</svg>\n",
              "  </button>\n",
              "\n",
              "<style>\n",
              "  .colab-df-quickchart {\n",
              "      --bg-color: #E8F0FE;\n",
              "      --fill-color: #1967D2;\n",
              "      --hover-bg-color: #E2EBFA;\n",
              "      --hover-fill-color: #174EA6;\n",
              "      --disabled-fill-color: #AAA;\n",
              "      --disabled-bg-color: #DDD;\n",
              "  }\n",
              "\n",
              "  [theme=dark] .colab-df-quickchart {\n",
              "      --bg-color: #3B4455;\n",
              "      --fill-color: #D2E3FC;\n",
              "      --hover-bg-color: #434B5C;\n",
              "      --hover-fill-color: #FFFFFF;\n",
              "      --disabled-bg-color: #3B4455;\n",
              "      --disabled-fill-color: #666;\n",
              "  }\n",
              "\n",
              "  .colab-df-quickchart {\n",
              "    background-color: var(--bg-color);\n",
              "    border: none;\n",
              "    border-radius: 50%;\n",
              "    cursor: pointer;\n",
              "    display: none;\n",
              "    fill: var(--fill-color);\n",
              "    height: 32px;\n",
              "    padding: 0;\n",
              "    width: 32px;\n",
              "  }\n",
              "\n",
              "  .colab-df-quickchart:hover {\n",
              "    background-color: var(--hover-bg-color);\n",
              "    box-shadow: 0 1px 2px rgba(60, 64, 67, 0.3), 0 1px 3px 1px rgba(60, 64, 67, 0.15);\n",
              "    fill: var(--button-hover-fill-color);\n",
              "  }\n",
              "\n",
              "  .colab-df-quickchart-complete:disabled,\n",
              "  .colab-df-quickchart-complete:disabled:hover {\n",
              "    background-color: var(--disabled-bg-color);\n",
              "    fill: var(--disabled-fill-color);\n",
              "    box-shadow: none;\n",
              "  }\n",
              "\n",
              "  .colab-df-spinner {\n",
              "    border: 2px solid var(--fill-color);\n",
              "    border-color: transparent;\n",
              "    border-bottom-color: var(--fill-color);\n",
              "    animation:\n",
              "      spin 1s steps(1) infinite;\n",
              "  }\n",
              "\n",
              "  @keyframes spin {\n",
              "    0% {\n",
              "      border-color: transparent;\n",
              "      border-bottom-color: var(--fill-color);\n",
              "      border-left-color: var(--fill-color);\n",
              "    }\n",
              "    20% {\n",
              "      border-color: transparent;\n",
              "      border-left-color: var(--fill-color);\n",
              "      border-top-color: var(--fill-color);\n",
              "    }\n",
              "    30% {\n",
              "      border-color: transparent;\n",
              "      border-left-color: var(--fill-color);\n",
              "      border-top-color: var(--fill-color);\n",
              "      border-right-color: var(--fill-color);\n",
              "    }\n",
              "    40% {\n",
              "      border-color: transparent;\n",
              "      border-right-color: var(--fill-color);\n",
              "      border-top-color: var(--fill-color);\n",
              "    }\n",
              "    60% {\n",
              "      border-color: transparent;\n",
              "      border-right-color: var(--fill-color);\n",
              "    }\n",
              "    80% {\n",
              "      border-color: transparent;\n",
              "      border-right-color: var(--fill-color);\n",
              "      border-bottom-color: var(--fill-color);\n",
              "    }\n",
              "    90% {\n",
              "      border-color: transparent;\n",
              "      border-bottom-color: var(--fill-color);\n",
              "    }\n",
              "  }\n",
              "</style>\n",
              "\n",
              "  <script>\n",
              "    async function quickchart(key) {\n",
              "      const quickchartButtonEl =\n",
              "        document.querySelector('#' + key + ' button');\n",
              "      quickchartButtonEl.disabled = true;  // To prevent multiple clicks.\n",
              "      quickchartButtonEl.classList.add('colab-df-spinner');\n",
              "      try {\n",
              "        const charts = await google.colab.kernel.invokeFunction(\n",
              "            'suggestCharts', [key], {});\n",
              "      } catch (error) {\n",
              "        console.error('Error during call to suggestCharts:', error);\n",
              "      }\n",
              "      quickchartButtonEl.classList.remove('colab-df-spinner');\n",
              "      quickchartButtonEl.classList.add('colab-df-quickchart-complete');\n",
              "    }\n",
              "    (() => {\n",
              "      let quickchartButtonEl =\n",
              "        document.querySelector('#df-ee081680-e34b-4cf3-9efa-c9b3773f1565 button');\n",
              "      quickchartButtonEl.style.display =\n",
              "        google.colab.kernel.accessAllowed ? 'block' : 'none';\n",
              "    })();\n",
              "  </script>\n",
              "</div>\n",
              "\n",
              "  <div id=\"id_90742b67-29c0-488a-b591-75469cda6dfb\">\n",
              "    <style>\n",
              "      .colab-df-generate {\n",
              "        background-color: #E8F0FE;\n",
              "        border: none;\n",
              "        border-radius: 50%;\n",
              "        cursor: pointer;\n",
              "        display: none;\n",
              "        fill: #1967D2;\n",
              "        height: 32px;\n",
              "        padding: 0 0 0 0;\n",
              "        width: 32px;\n",
              "      }\n",
              "\n",
              "      .colab-df-generate:hover {\n",
              "        background-color: #E2EBFA;\n",
              "        box-shadow: 0px 1px 2px rgba(60, 64, 67, 0.3), 0px 1px 3px 1px rgba(60, 64, 67, 0.15);\n",
              "        fill: #174EA6;\n",
              "      }\n",
              "\n",
              "      [theme=dark] .colab-df-generate {\n",
              "        background-color: #3B4455;\n",
              "        fill: #D2E3FC;\n",
              "      }\n",
              "\n",
              "      [theme=dark] .colab-df-generate:hover {\n",
              "        background-color: #434B5C;\n",
              "        box-shadow: 0px 1px 3px 1px rgba(0, 0, 0, 0.15);\n",
              "        filter: drop-shadow(0px 1px 2px rgba(0, 0, 0, 0.3));\n",
              "        fill: #FFFFFF;\n",
              "      }\n",
              "    </style>\n",
              "    <button class=\"colab-df-generate\" onclick=\"generateWithVariable('df_filtered')\"\n",
              "            title=\"Generate code using this dataframe.\"\n",
              "            style=\"display:none;\">\n",
              "\n",
              "  <svg xmlns=\"http://www.w3.org/2000/svg\" height=\"24px\"viewBox=\"0 0 24 24\"\n",
              "       width=\"24px\">\n",
              "    <path d=\"M7,19H8.4L18.45,9,17,7.55,7,17.6ZM5,21V16.75L18.45,3.32a2,2,0,0,1,2.83,0l1.4,1.43a1.91,1.91,0,0,1,.58,1.4,1.91,1.91,0,0,1-.58,1.4L9.25,21ZM18.45,9,17,7.55Zm-12,3A5.31,5.31,0,0,0,4.9,8.1,5.31,5.31,0,0,0,1,6.5,5.31,5.31,0,0,0,4.9,4.9,5.31,5.31,0,0,0,6.5,1,5.31,5.31,0,0,0,8.1,4.9,5.31,5.31,0,0,0,12,6.5,5.46,5.46,0,0,0,6.5,12Z\"/>\n",
              "  </svg>\n",
              "    </button>\n",
              "    <script>\n",
              "      (() => {\n",
              "      const buttonEl =\n",
              "        document.querySelector('#id_90742b67-29c0-488a-b591-75469cda6dfb button.colab-df-generate');\n",
              "      buttonEl.style.display =\n",
              "        google.colab.kernel.accessAllowed ? 'block' : 'none';\n",
              "\n",
              "      buttonEl.onclick = () => {\n",
              "        google.colab.notebook.generateWithVariable('df_filtered');\n",
              "      }\n",
              "      })();\n",
              "    </script>\n",
              "  </div>\n",
              "\n",
              "    </div>\n",
              "  </div>\n"
            ],
            "application/vnd.google.colaboratory.intrinsic+json": {
              "type": "dataframe",
              "variable_name": "df_filtered",
              "summary": "{\n  \"name\": \"df_filtered\",\n  \"rows\": 100,\n  \"fields\": [\n    {\n      \"column\": \"\\ub3d9\\ubcc4\",\n      \"properties\": {\n        \"dtype\": \"category\",\n        \"num_unique_values\": 25,\n        \"samples\": [\n          \"\\ub178\\uc6d0\\uad6c\",\n          \"\\uc131\\ubd81\\uad6c\",\n          \"\\uac15\\ub0a8\\uad6c\"\n        ],\n        \"semantic_type\": \"\",\n        \"description\": \"\"\n      }\n    },\n    {\n      \"column\": \"\\uc5f0\\ub839\\ub300_\\uadf8\\ub8f9\",\n      \"properties\": {\n        \"dtype\": \"category\",\n        \"num_unique_values\": 4,\n        \"samples\": [\n          \"15~64\\uc138\",\n          \"85\\uc138 \\uc774\\uc0c1\",\n          \"0~14\\uc138\"\n        ],\n        \"semantic_type\": \"\",\n        \"description\": \"\"\n      }\n    },\n    {\n      \"column\": \"2014. 4/4\",\n      \"properties\": {\n        \"dtype\": \"number\",\n        \"std\": 134342,\n        \"min\": 1830,\n        \"max\": 515251,\n        \"num_unique_values\": 100,\n        \"samples\": [\n          3272,\n          239733,\n          59921\n        ],\n        \"semantic_type\": \"\",\n        \"description\": \"\"\n      }\n    },\n    {\n      \"column\": \"2015. 4/4\",\n      \"properties\": {\n        \"dtype\": \"number\",\n        \"std\": 133035,\n        \"min\": 1930,\n        \"max\": 511246,\n        \"num_unique_values\": 100,\n        \"samples\": [\n          3505,\n          241008,\n          62927\n        ],\n        \"semantic_type\": \"\",\n        \"description\": \"\"\n      }\n    },\n    {\n      \"column\": \"2016. 4/4\",\n      \"properties\": {\n        \"dtype\": \"number\",\n        \"std\": 131499,\n        \"min\": 2058,\n        \"max\": 508599,\n        \"num_unique_values\": 99,\n        \"samples\": [\n          36225,\n          37810,\n          2058\n        ],\n        \"semantic_type\": \"\",\n        \"description\": \"\"\n      }\n    },\n    {\n      \"column\": \"2017. 4/4\",\n      \"properties\": {\n        \"dtype\": \"number\",\n        \"std\": 129370,\n        \"min\": 2158,\n        \"max\": 509394,\n        \"num_unique_values\": 100,\n        \"samples\": [\n          3978,\n          241940,\n          70407\n        ],\n        \"semantic_type\": \"\",\n        \"description\": \"\"\n      }\n    },\n    {\n      \"column\": \"2018. 4/4\",\n      \"properties\": {\n        \"dtype\": \"number\",\n        \"std\": 127787,\n        \"min\": 2312,\n        \"max\": 509084,\n        \"num_unique_values\": 100,\n        \"samples\": [\n          4237,\n          239891,\n          74739\n        ],\n        \"semantic_type\": \"\",\n        \"description\": \"\"\n      }\n    },\n    {\n      \"column\": \"2019. 4/4\",\n      \"properties\": {\n        \"dtype\": \"number\",\n        \"std\": 126539,\n        \"min\": 2543,\n        \"max\": 512573,\n        \"num_unique_values\": 100,\n        \"samples\": [\n          4560,\n          239362,\n          80206\n        ],\n        \"semantic_type\": \"\",\n        \"description\": \"\"\n      }\n    },\n    {\n      \"column\": \"2020. 4/4\",\n      \"properties\": {\n        \"dtype\": \"number\",\n        \"std\": 123776,\n        \"min\": 2778,\n        \"max\": 500203,\n        \"num_unique_values\": 100,\n        \"samples\": [\n          4947,\n          237214,\n          85693\n        ],\n        \"semantic_type\": \"\",\n        \"description\": \"\"\n      }\n    },\n    {\n      \"column\": \"2021. 4/4\",\n      \"properties\": {\n        \"dtype\": \"number\",\n        \"std\": 120957,\n        \"min\": 2536,\n        \"max\": 488591,\n        \"num_unique_values\": 100,\n        \"samples\": [\n          4495,\n          231475,\n          89821\n        ],\n        \"semantic_type\": \"\",\n        \"description\": \"\"\n      }\n    },\n    {\n      \"column\": \"2022. 4/4\",\n      \"properties\": {\n        \"dtype\": \"number\",\n        \"std\": 119480,\n        \"min\": 2641,\n        \"max\": 485034,\n        \"num_unique_values\": 100,\n        \"samples\": [\n          4455,\n          233966,\n          95509\n        ],\n        \"semantic_type\": \"\",\n        \"description\": \"\"\n      }\n    },\n    {\n      \"column\": \"2023. 4/4\",\n      \"properties\": {\n        \"dtype\": \"number\",\n        \"std\": 118325,\n        \"min\": 2818,\n        \"max\": 478315,\n        \"num_unique_values\": 100,\n        \"samples\": [\n          4763,\n          233890,\n          100400\n        ],\n        \"semantic_type\": \"\",\n        \"description\": \"\"\n      }\n    }\n  ]\n}"
            }
          },
          "metadata": {},
          "execution_count": 17
        }
      ]
    },
    {
      "cell_type": "code",
      "source": [
        "!sudo apt-get install -y fonts-nanum\n",
        "!sudo fc-cache -fv\n",
        "!rm ~/.cache/matplotlib -rf"
      ],
      "metadata": {
        "colab": {
          "base_uri": "https://localhost:8080/"
        },
        "id": "o43FMLNoDSgM",
        "outputId": "10e46401-d18c-4a52-8871-79f53a0cedb8"
      },
      "execution_count": 3,
      "outputs": [
        {
          "output_type": "stream",
          "name": "stdout",
          "text": [
            "Reading package lists... Done\n",
            "Building dependency tree... Done\n",
            "Reading state information... Done\n",
            "fonts-nanum is already the newest version (20200506-1).\n",
            "0 upgraded, 0 newly installed, 0 to remove and 19 not upgraded.\n",
            "/usr/share/fonts: caching, new cache contents: 0 fonts, 1 dirs\n",
            "/usr/share/fonts/truetype: caching, new cache contents: 0 fonts, 3 dirs\n",
            "/usr/share/fonts/truetype/humor-sans: caching, new cache contents: 1 fonts, 0 dirs\n",
            "/usr/share/fonts/truetype/liberation: caching, new cache contents: 16 fonts, 0 dirs\n",
            "/usr/share/fonts/truetype/nanum: caching, new cache contents: 12 fonts, 0 dirs\n",
            "/usr/local/share/fonts: caching, new cache contents: 0 fonts, 0 dirs\n",
            "/root/.local/share/fonts: skipping, no such directory\n",
            "/root/.fonts: skipping, no such directory\n",
            "/usr/share/fonts/truetype: skipping, looped directory detected\n",
            "/usr/share/fonts/truetype/humor-sans: skipping, looped directory detected\n",
            "/usr/share/fonts/truetype/liberation: skipping, looped directory detected\n",
            "/usr/share/fonts/truetype/nanum: skipping, looped directory detected\n",
            "/var/cache/fontconfig: cleaning cache directory\n",
            "/root/.cache/fontconfig: not cleaning non-existent cache directory\n",
            "/root/.fontconfig: not cleaning non-existent cache directory\n",
            "fc-cache: succeeded\n"
          ]
        }
      ]
    },
    {
      "cell_type": "code",
      "source": [
        "import matplotlib.pyplot as plt\n",
        "\n",
        "plt.rc('font', family='NanumBarunGothic')\n",
        "\n",
        "# 한글 폰트 설정 (예: NanumGothic 사용)\n",
        "\n",
        "plt.rcParams['font.family'] = 'NanumGothic'\n",
        "plt.rcParams['font.sans-serif'] = ['NanumGothic']  # 추가적인 설정\n",
        "plt.rcParams['axes.unicode_minus'] = False  # 음수 기호 깨짐 방지\n",
        "\n",
        "# 사용할 분기 선택 (여기서는 \"2023. 4/4\" 데이터를 사용)\n",
        "selected_quarter = \"2023. 4/4\"\n",
        "\n",
        "# df_filtered는 이미 '동별'과 '연령대_그룹'별로 4분기 인구수(합계 항목)로 그룹화되어 있습니다.\n",
        "# 이를 피벗 테이블 형태로 변환하여, 인덱스는 구(동별), 컬럼은 연령대 그룹, 값은 선택한 분기의 인구수로 설정합니다.\n",
        "pivot_df = df_filtered[0:124].pivot(index=\"동별\", columns=\"연령대_그룹\", values=selected_quarter)\n",
        "\n",
        "# 그룹 막대그래프 출력\n",
        "plt.figure(figsize=(15, 10))\n",
        "pivot_df.plot(kind=\"bar\", figsize=(15, 10))\n",
        "plt.title(f\"{selected_quarter} 기준 각 구별 연령대 인구수\")\n",
        "plt.xlabel(\"구\")\n",
        "plt.ylabel(\"인구수\")\n",
        "plt.xticks(rotation=45)\n",
        "plt.legend(title=\"연령대\")\n",
        "plt.tight_layout()\n",
        "plt.show()\n"
      ],
      "metadata": {
        "colab": {
          "base_uri": "https://localhost:8080/",
          "height": 1000
        },
        "id": "JocWS0VhqglB",
        "outputId": "7ab41f03-da4b-4cf9-8469-c3bf909e11f9"
      },
      "execution_count": 18,
      "outputs": [
        {
          "output_type": "display_data",
          "data": {
            "text/plain": [
              "<Figure size 1500x1000 with 0 Axes>"
            ]
          },
          "metadata": {}
        },
        {
          "output_type": "display_data",
          "data": {
            "text/plain": [
              "<Figure size 1500x1000 with 1 Axes>"
            ],
            "image/png": "[encoded data removed]"
          },
          "metadata": {}
        }
      ]
    },
    {
      "cell_type": "markdown",
      "source": [],
      "metadata": {
        "id": "0y8jggSnHeGF"
      }
    }
  ]
}